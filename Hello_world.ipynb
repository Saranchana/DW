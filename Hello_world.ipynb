{
  "nbformat": 4,
  "nbformat_minor": 0,
  "metadata": {
    "colab": {
      "name": "Hello world.ipynb",
      "provenance": [],
      "collapsed_sections": [],
      "include_colab_link": true
    },
    "kernelspec": {
      "name": "python3",
      "display_name": "Python 3"
    }
  },
  "cells": [
    {
      "cell_type": "markdown",
      "metadata": {
        "id": "view-in-github",
        "colab_type": "text"
      },
      "source": [
        "<a href=\"https://colab.research.google.com/github/Saranchana/DW/blob/master/Hello_world.ipynb\" target=\"_parent\"><img src=\"https://colab.research.google.com/assets/colab-badge.svg\" alt=\"Open In Colab\"/></a>"
      ]
    },
    {
      "cell_type": "markdown",
      "metadata": {
        "id": "pJLQWha_iw4h",
        "colab_type": "text"
      },
      "source": [
        "#Hello PyThon\n",
        "## This is my first Python Prgram\n"
      ]
    },
    {
      "cell_type": "code",
      "metadata": {
        "id": "8xbiYFpYjHOj",
        "colab_type": "code",
        "outputId": "f68ec201-53f1-4a56-9121-4adf87d8bfc2",
        "colab": {
          "base_uri": "https://localhost:8080/",
          "height": 34
        }
      },
      "source": [
        "print(\"Hello world\")\n"
      ],
      "execution_count": 87,
      "outputs": [
        {
          "output_type": "stream",
          "text": [
            "Hello world\n"
          ],
          "name": "stdout"
        }
      ]
    },
    {
      "cell_type": "code",
      "metadata": {
        "id": "NxKxVKb3jVBJ",
        "colab_type": "code",
        "colab": {}
      },
      "source": [
        ""
      ],
      "execution_count": 0,
      "outputs": []
    },
    {
      "cell_type": "markdown",
      "metadata": {
        "id": "0tDN-dTgjfSQ",
        "colab_type": "text"
      },
      "source": [
        "#DeclareVariable\n",
        "##Howto decalare variable in Python\n"
      ]
    },
    {
      "cell_type": "code",
      "metadata": {
        "id": "V0rarrc0juVx",
        "colab_type": "code",
        "outputId": "1ca246fb-9117-44df-abfe-3c52dde4f0e6",
        "colab": {
          "base_uri": "https://localhost:8080/",
          "height": 34
        }
      },
      "source": [
        "score = 100\n",
        "name = \"Saranchana\"\n",
        "print(\"name is \"+ name + \" score is \"+ str(score))"
      ],
      "execution_count": 88,
      "outputs": [
        {
          "output_type": "stream",
          "text": [
            "name is Saranchana score is 100\n"
          ],
          "name": "stdout"
        }
      ]
    },
    {
      "cell_type": "code",
      "metadata": {
        "id": "LzqgT8QPkQQA",
        "colab_type": "code",
        "outputId": "157ff6e0-7e40-4e21-ae65-2a4865b835d2",
        "colab": {
          "base_uri": "https://localhost:8080/",
          "height": 34
        }
      },
      "source": [
        "a= 2\n",
        "b= 3\n",
        "c= a*b\n",
        "print(c)"
      ],
      "execution_count": 89,
      "outputs": [
        {
          "output_type": "stream",
          "text": [
            "6\n"
          ],
          "name": "stdout"
        }
      ]
    },
    {
      "cell_type": "markdown",
      "metadata": {
        "id": "azLI56HGmyKG",
        "colab_type": "text"
      },
      "source": [
        "#List\n",
        "#Howto use list "
      ]
    },
    {
      "cell_type": "code",
      "metadata": {
        "id": "OzFvze6Ent_e",
        "colab_type": "code",
        "outputId": "97c47d83-b516-49ff-af90-60248e90bb93",
        "colab": {
          "base_uri": "https://localhost:8080/",
          "height": 34
        }
      },
      "source": [
        "mylist = []\n",
        "mylist.append(\"Sarachana\")\n",
        "mylist.append(200)\n",
        "mylist"
      ],
      "execution_count": 90,
      "outputs": [
        {
          "output_type": "execute_result",
          "data": {
            "text/plain": [
              "['Sarachana', 200]"
            ]
          },
          "metadata": {
            "tags": []
          },
          "execution_count": 90
        }
      ]
    },
    {
      "cell_type": "markdown",
      "metadata": {
        "id": "SSBwm_YKn2OP",
        "colab_type": "text"
      },
      "source": [
        "#IF-ElsePython\n",
        "##Howto use if-else in python"
      ]
    },
    {
      "cell_type": "code",
      "metadata": {
        "id": "2UJihA4QoB1V",
        "colab_type": "code",
        "outputId": "64e2b002-1664-4edc-fede-44844905d539",
        "colab": {
          "base_uri": "https://localhost:8080/",
          "height": 34
        }
      },
      "source": [
        "if mylist[1] > 100 :\n",
        "  print(\"Pass\")"
      ],
      "execution_count": 91,
      "outputs": [
        {
          "output_type": "stream",
          "text": [
            "Pass\n"
          ],
          "name": "stdout"
        }
      ]
    },
    {
      "cell_type": "code",
      "metadata": {
        "id": "GvROoIAAonW-",
        "colab_type": "code",
        "colab": {
          "base_uri": "https://localhost:8080/",
          "height": 129
        },
        "outputId": "2df94a2a-763b-45f5-e26f-f0d29e392504"
      },
      "source": [
        "If mylist[1] > 100 :\n",
        "  name = mylist[0]\n",
        "  score = mylist[1]\n",
        "  print(name)"
      ],
      "execution_count": 92,
      "outputs": [
        {
          "output_type": "error",
          "ename": "SyntaxError",
          "evalue": "ignored",
          "traceback": [
            "\u001b[0;36m  File \u001b[0;32m\"<ipython-input-92-81c9e3ed8034>\"\u001b[0;36m, line \u001b[0;32m1\u001b[0m\n\u001b[0;31m    If mylist[1] > 100 :\u001b[0m\n\u001b[0m            ^\u001b[0m\n\u001b[0;31mSyntaxError\u001b[0m\u001b[0;31m:\u001b[0m invalid syntax\n"
          ]
        }
      ]
    },
    {
      "cell_type": "code",
      "metadata": {
        "id": "buMNl6lcp0TU",
        "colab_type": "code",
        "colab": {}
      },
      "source": [
        "score = 5\n",
        "if score > 50 :\n",
        "  print(\"A\")\n",
        "elif score >20 :\n",
        "  print(\"B\")\n",
        "else :\n",
        "  print(\"C\")\n",
        "if score == 0 :\n",
        "  print(\"F\")   "
      ],
      "execution_count": 0,
      "outputs": []
    },
    {
      "cell_type": "markdown",
      "metadata": {
        "id": "Dl_iylZiqg37",
        "colab_type": "text"
      },
      "source": [
        "#For Loop "
      ]
    },
    {
      "cell_type": "code",
      "metadata": {
        "id": "3Rd1VAz8qlJD",
        "colab_type": "code",
        "colab": {}
      },
      "source": [
        "summation = []\n",
        "for i in range(0,10):\n",
        "  summation.append(i)\n",
        "\n",
        "for i in summation :\n",
        "  print(str(i))"
      ],
      "execution_count": 0,
      "outputs": []
    },
    {
      "cell_type": "code",
      "metadata": {
        "id": "Z1Mm4KBRr-f7",
        "colab_type": "code",
        "colab": {}
      },
      "source": [
        "summation = []\n",
        "a = 0\n",
        "for i in range(0,10):\n",
        "  a = a + 5\n",
        "  summation.append(a)\n",
        "\n",
        "for i in summation :\n",
        "  print(str(i))"
      ],
      "execution_count": 0,
      "outputs": []
    },
    {
      "cell_type": "markdown",
      "metadata": {
        "id": "kzbGzYmCsjvE",
        "colab_type": "text"
      },
      "source": [
        "#For each Loop"
      ]
    },
    {
      "cell_type": "code",
      "metadata": {
        "id": "YQSKKk9zsoaC",
        "colab_type": "code",
        "colab": {}
      },
      "source": [
        "for i in summation :\n",
        "  print(str(i))"
      ],
      "execution_count": 0,
      "outputs": []
    },
    {
      "cell_type": "markdown",
      "metadata": {
        "id": "pTOWiWuuvU6w",
        "colab_type": "text"
      },
      "source": [
        "#Numpy\n",
        "##Library for matrix operation\n",
        "### CREATE ARRAY"
      ]
    },
    {
      "cell_type": "code",
      "metadata": {
        "id": "UcPnvjxxvhCw",
        "colab_type": "code",
        "colab": {}
      },
      "source": [
        "import numpy as np\n",
        "l = [1, 2, 3, 4]\n",
        "np_array = np.array(1)\n",
        "type(np_array)"
      ],
      "execution_count": 0,
      "outputs": []
    },
    {
      "cell_type": "markdown",
      "metadata": {
        "id": "iUZ5Ig4gwlgO",
        "colab_type": "text"
      },
      "source": [
        "### CREATE MATRIX\n"
      ]
    },
    {
      "cell_type": "code",
      "metadata": {
        "id": "nnIBuTCqwuO-",
        "colab_type": "code",
        "colab": {}
      },
      "source": [
        "np_matrix = np.array([[1,2],[3,4],[5,6]])\n"
      ],
      "execution_count": 0,
      "outputs": []
    },
    {
      "cell_type": "code",
      "metadata": {
        "id": "EewY6B3_xfFt",
        "colab_type": "code",
        "colab": {}
      },
      "source": [
        "np_matrix\n"
      ],
      "execution_count": 0,
      "outputs": []
    },
    {
      "cell_type": "markdown",
      "metadata": {
        "id": "dzz3xDJPxn8F",
        "colab_type": "text"
      },
      "source": [
        "###CHEC KMATRX SIZE"
      ]
    },
    {
      "cell_type": "code",
      "metadata": {
        "id": "U6Wkcai-x12F",
        "colab_type": "code",
        "colab": {}
      },
      "source": [
        "np.size(np_matrix,0)"
      ],
      "execution_count": 0,
      "outputs": []
    },
    {
      "cell_type": "code",
      "metadata": {
        "id": "JgJVXwxJx8KX",
        "colab_type": "code",
        "colab": {}
      },
      "source": [
        "np.size(np_matrix,1)"
      ],
      "execution_count": 0,
      "outputs": []
    },
    {
      "cell_type": "markdown",
      "metadata": {
        "id": "A34ujmvUyFUt",
        "colab_type": "text"
      },
      "source": [
        "###CHECK MATRIX PROPERTIES"
      ]
    },
    {
      "cell_type": "code",
      "metadata": {
        "id": "gTkiLiWwyPyW",
        "colab_type": "code",
        "colab": {}
      },
      "source": [
        "np_matrix.shape"
      ],
      "execution_count": 0,
      "outputs": []
    },
    {
      "cell_type": "code",
      "metadata": {
        "id": "C210kXwMyS1z",
        "colab_type": "code",
        "colab": {}
      },
      "source": [
        "np_matrix.ndim"
      ],
      "execution_count": 0,
      "outputs": []
    },
    {
      "cell_type": "code",
      "metadata": {
        "id": "QsqmQE5eyXET",
        "colab_type": "code",
        "colab": {}
      },
      "source": [
        "np_matrix.size"
      ],
      "execution_count": 0,
      "outputs": []
    },
    {
      "cell_type": "markdown",
      "metadata": {
        "id": "-7OFdQuEyda9",
        "colab_type": "text"
      },
      "source": [
        "###MATRIX CAN BE MIX TYPE (auto castig)"
      ]
    },
    {
      "cell_type": "code",
      "metadata": {
        "id": "LTOV-R51yu18",
        "colab_type": "code",
        "colab": {}
      },
      "source": [
        "np_mix_matrix = np.array([['one',2],['three',4],['five',6]])\n",
        "\n"
      ],
      "execution_count": 0,
      "outputs": []
    },
    {
      "cell_type": "code",
      "metadata": {
        "id": "XhnWdQAp0rgE",
        "colab_type": "code",
        "colab": {}
      },
      "source": [
        "np_mix_matrix"
      ],
      "execution_count": 0,
      "outputs": []
    },
    {
      "cell_type": "markdown",
      "metadata": {
        "id": "Segj_gh-z6sF",
        "colab_type": "text"
      },
      "source": [
        "###ACCESS DATA ELEMET"
      ]
    },
    {
      "cell_type": "code",
      "metadata": {
        "id": "yfzh3Pxn0NC9",
        "colab_type": "code",
        "colab": {}
      },
      "source": [
        "np_mix_matrix[0,1]"
      ],
      "execution_count": 0,
      "outputs": []
    },
    {
      "cell_type": "code",
      "metadata": {
        "id": "X-9HqLnL0-NL",
        "colab_type": "code",
        "colab": {}
      },
      "source": [
        "np_mix_matrix[:,0]"
      ],
      "execution_count": 0,
      "outputs": []
    },
    {
      "cell_type": "code",
      "metadata": {
        "id": "fVXp1ty_1DVV",
        "colab_type": "code",
        "colab": {}
      },
      "source": [
        "np_mix_matrix[0,]"
      ],
      "execution_count": 0,
      "outputs": []
    },
    {
      "cell_type": "markdown",
      "metadata": {
        "id": "ymmHdx6G1NOG",
        "colab_type": "text"
      },
      "source": [
        "###ACCESS DATA&TYPE CASTING"
      ]
    },
    {
      "cell_type": "markdown",
      "metadata": {
        "id": "75DFUVf_1h2D",
        "colab_type": "text"
      },
      "source": [
        "Access element from row 0 to row1"
      ]
    },
    {
      "cell_type": "code",
      "metadata": {
        "id": "9ArP7xdY1W6t",
        "colab_type": "code",
        "colab": {}
      },
      "source": [
        "np_mix_matrix[0:2,]"
      ],
      "execution_count": 0,
      "outputs": []
    },
    {
      "cell_type": "markdown",
      "metadata": {
        "id": "bgi0B5lZ1qX7",
        "colab_type": "text"
      },
      "source": [
        "Type casting ndarray oject"
      ]
    },
    {
      "cell_type": "code",
      "metadata": {
        "id": "WsGMU9CY1xB6",
        "colab_type": "code",
        "colab": {}
      },
      "source": [
        "np.array(np_mix_matrix[:,1], dtype = int)"
      ],
      "execution_count": 0,
      "outputs": []
    },
    {
      "cell_type": "markdown",
      "metadata": {
        "id": "Pcnn8_x42D6C",
        "colab_type": "text"
      },
      "source": [
        "###GEERATE MATRIX OF ZEROS& ONES\n",
        "create matrix  ofzeros"
      ]
    },
    {
      "cell_type": "code",
      "metadata": {
        "id": "JSmgX9_I2ZzK",
        "colab_type": "code",
        "colab": {}
      },
      "source": [
        "np.zeros([2,3])"
      ],
      "execution_count": 0,
      "outputs": []
    },
    {
      "cell_type": "code",
      "metadata": {
        "id": "vXJmdzLc2nED",
        "colab_type": "code",
        "colab": {}
      },
      "source": [
        "np.ones([5,5])"
      ],
      "execution_count": 0,
      "outputs": []
    },
    {
      "cell_type": "markdown",
      "metadata": {
        "id": "9-wX7t8r2yfL",
        "colab_type": "text"
      },
      "source": [
        "###GENERATE EYEATRX &EMPTY "
      ]
    },
    {
      "cell_type": "code",
      "metadata": {
        "id": "jAg6tMUd27sS",
        "colab_type": "code",
        "colab": {}
      },
      "source": [
        "np.eye(5)"
      ],
      "execution_count": 0,
      "outputs": []
    },
    {
      "cell_type": "code",
      "metadata": {
        "id": "lq4p7Ogn2-tz",
        "colab_type": "code",
        "colab": {}
      },
      "source": [
        "np.empty([5,5])"
      ],
      "execution_count": 0,
      "outputs": []
    },
    {
      "cell_type": "markdown",
      "metadata": {
        "id": "UoS6bh_t3NzJ",
        "colab_type": "text"
      },
      "source": [
        "###GENERATE RANDOM MATRIX"
      ]
    },
    {
      "cell_type": "code",
      "metadata": {
        "id": "5zw84KSs3WP5",
        "colab_type": "code",
        "colab": {}
      },
      "source": [
        "np.random.rand(5,5)"
      ],
      "execution_count": 0,
      "outputs": []
    },
    {
      "cell_type": "markdown",
      "metadata": {
        "id": "qISb0sel3z9i",
        "colab_type": "text"
      },
      "source": [
        "having value between 0 to 4"
      ]
    },
    {
      "cell_type": "code",
      "metadata": {
        "id": "g1JTqLtm3mI5",
        "colab_type": "code",
        "colab": {}
      },
      "source": [
        "np.random.randint(5,size = (3,3))"
      ],
      "execution_count": 0,
      "outputs": []
    },
    {
      "cell_type": "markdown",
      "metadata": {
        "id": "OxjB4uZQ4Hoc",
        "colab_type": "text"
      },
      "source": [
        "###RANDOM VS. RANDOM NORMAL DISTRIUTION\n",
        "Uniform Random Distriution VS Normal"
      ]
    },
    {
      "cell_type": "code",
      "metadata": {
        "id": "aE4U1BrD4q94",
        "colab_type": "code",
        "colab": {}
      },
      "source": [
        "import matplotlib.pyplot as plt\n",
        "fig, axes = plt.subplots(1,2,figsize=(8,3))\n",
        "axes[0].hist(np.random.rand(1000))\n",
        "axes[1].hist(np.random.randn(1000))\n",
        "plt.show()"
      ],
      "execution_count": 0,
      "outputs": []
    },
    {
      "cell_type": "markdown",
      "metadata": {
        "id": "NhiCU-w35gYJ",
        "colab_type": "text"
      },
      "source": [
        "###SAMPLNIG DATA\n",
        "rang between 0 to 4"
      ]
    },
    {
      "cell_type": "code",
      "metadata": {
        "id": "ogsl_j905pvY",
        "colab_type": "code",
        "colab": {}
      },
      "source": [
        "np.random.choice(5,3,replace= False)"
      ],
      "execution_count": 0,
      "outputs": []
    },
    {
      "cell_type": "code",
      "metadata": {
        "id": "979-HoDi5zyE",
        "colab_type": "code",
        "colab": {}
      },
      "source": [
        "np_matrix =np.random.rand(5,5)\n",
        "idx_choose= np.random.choice(5,3,replace= False)\n",
        "np_matrix_choose = np_matrix[idx_choose,:]\n",
        "np_matrix_choose"
      ],
      "execution_count": 0,
      "outputs": []
    },
    {
      "cell_type": "markdown",
      "metadata": {
        "id": "0sTL3pYI6tM3",
        "colab_type": "text"
      },
      "source": [
        "#Ex1."
      ]
    },
    {
      "cell_type": "code",
      "metadata": {
        "id": "yth1p3Bj9DpI",
        "colab_type": "code",
        "outputId": "97d81017-c865-4e36-e4f7-1bc114da9629",
        "colab": {
          "base_uri": "https://localhost:8080/",
          "height": 187
        }
      },
      "source": [
        "a = np.random.rand(10,5)\n",
        "b = np.random.randint(2,size = (10))\n",
        "a[:,4] = b\n",
        "a"
      ],
      "execution_count": 93,
      "outputs": [
        {
          "output_type": "execute_result",
          "data": {
            "text/plain": [
              "array([[0.12676846, 0.84009918, 0.60397264, 0.13819413, 0.        ],\n",
              "       [0.54210029, 0.93269991, 0.31301615, 0.61192233, 0.        ],\n",
              "       [0.98041252, 0.23448991, 0.25819895, 0.52183243, 1.        ],\n",
              "       [0.74778183, 0.40243371, 0.57953372, 0.33050998, 1.        ],\n",
              "       [0.45860335, 0.82836983, 0.42378531, 0.53507703, 1.        ],\n",
              "       [0.56338859, 0.55783626, 0.58099081, 0.61631589, 0.        ],\n",
              "       [0.56631102, 0.2807566 , 0.54144296, 0.42698601, 0.        ],\n",
              "       [0.91378465, 0.67315789, 0.50292563, 0.90732467, 1.        ],\n",
              "       [0.80860304, 0.6192566 , 0.57860661, 0.83662797, 0.        ],\n",
              "       [0.75053953, 0.07874552, 0.75801205, 0.79982704, 0.        ]])"
            ]
          },
          "metadata": {
            "tags": []
          },
          "execution_count": 93
        }
      ]
    },
    {
      "cell_type": "markdown",
      "metadata": {
        "id": "9BSB7PpRAoRc",
        "colab_type": "text"
      },
      "source": [
        "###DELETE ROW ORCOLUMN FROMMATRIX"
      ]
    },
    {
      "cell_type": "code",
      "metadata": {
        "id": "H4uaW_7oBFpD",
        "colab_type": "code",
        "outputId": "a94c501f-4245-48b8-d660-7752167181c5",
        "colab": {
          "base_uri": "https://localhost:8080/",
          "height": 102
        }
      },
      "source": [
        "np_matrix = np.random.randint(11,size =(5,5))\n",
        "np_matrix"
      ],
      "execution_count": 94,
      "outputs": [
        {
          "output_type": "execute_result",
          "data": {
            "text/plain": [
              "array([[ 7,  8,  7, 10,  8],\n",
              "       [ 2,  6,  6,  5,  8],\n",
              "       [ 9,  3,  6,  1,  9],\n",
              "       [ 2,  6,  4,  3,  7],\n",
              "       [ 6,  9,  2,  2,  9]])"
            ]
          },
          "metadata": {
            "tags": []
          },
          "execution_count": 94
        }
      ]
    },
    {
      "cell_type": "markdown",
      "metadata": {
        "id": "1eKCEItqBP0z",
        "colab_type": "text"
      },
      "source": [
        "delete row 2 and 3 from this matrix\n"
      ]
    },
    {
      "cell_type": "code",
      "metadata": {
        "id": "S2gklBV5BYxS",
        "colab_type": "code",
        "outputId": "5f19d5a1-835a-4af9-a6cf-a19215bd999a",
        "colab": {
          "base_uri": "https://localhost:8080/",
          "height": 68
        }
      },
      "source": [
        "np_matrix =np.delete(np_matrix,[1,2],0)\n",
        "np_matrix"
      ],
      "execution_count": 95,
      "outputs": [
        {
          "output_type": "execute_result",
          "data": {
            "text/plain": [
              "array([[ 7,  8,  7, 10,  8],\n",
              "       [ 2,  6,  4,  3,  7],\n",
              "       [ 6,  9,  2,  2,  9]])"
            ]
          },
          "metadata": {
            "tags": []
          },
          "execution_count": 95
        }
      ]
    },
    {
      "cell_type": "markdown",
      "metadata": {
        "id": "lsab_XRCBruJ",
        "colab_type": "text"
      },
      "source": [
        "###FIND ELEMENT IN MATRIX\n"
      ]
    },
    {
      "cell_type": "code",
      "metadata": {
        "id": "hPrwrWOwCPHA",
        "colab_type": "code",
        "outputId": "9a2745b8-63bf-41a5-f8e7-7e5e4b961ad7",
        "colab": {
          "base_uri": "https://localhost:8080/",
          "height": 102
        }
      },
      "source": [
        "np_matrix = np.random.randint(3,size = (5,5))\n",
        "np_matrix"
      ],
      "execution_count": 96,
      "outputs": [
        {
          "output_type": "execute_result",
          "data": {
            "text/plain": [
              "array([[1, 1, 0, 0, 1],\n",
              "       [1, 0, 1, 1, 0],\n",
              "       [0, 1, 2, 2, 2],\n",
              "       [1, 0, 1, 2, 1],\n",
              "       [1, 2, 0, 0, 0]])"
            ]
          },
          "metadata": {
            "tags": []
          },
          "execution_count": 96
        }
      ]
    },
    {
      "cell_type": "code",
      "metadata": {
        "id": "a14C69ksCifg",
        "colab_type": "code",
        "outputId": "b0caf30c-d4a0-4499-fd67-142e718b4784",
        "colab": {
          "base_uri": "https://localhost:8080/",
          "height": 34
        }
      },
      "source": [
        "result = np.where(np_matrix ==2)\n",
        "result"
      ],
      "execution_count": 97,
      "outputs": [
        {
          "output_type": "execute_result",
          "data": {
            "text/plain": [
              "(array([2, 2, 2, 3, 4]), array([2, 3, 4, 3, 1]))"
            ]
          },
          "metadata": {
            "tags": []
          },
          "execution_count": 97
        }
      ]
    },
    {
      "cell_type": "code",
      "metadata": {
        "id": "7dUqzuTZB1QQ",
        "colab_type": "code",
        "outputId": "dd026285-2275-4470-d28e-f72dca74e589",
        "colab": {
          "base_uri": "https://localhost:8080/",
          "height": 102
        }
      },
      "source": [
        "result = (np_matrix ==2)\n",
        "result"
      ],
      "execution_count": 98,
      "outputs": [
        {
          "output_type": "execute_result",
          "data": {
            "text/plain": [
              "array([[False, False, False, False, False],\n",
              "       [False, False, False, False, False],\n",
              "       [False, False,  True,  True,  True],\n",
              "       [False, False, False,  True, False],\n",
              "       [False,  True, False, False, False]])"
            ]
          },
          "metadata": {
            "tags": []
          },
          "execution_count": 98
        }
      ]
    },
    {
      "cell_type": "markdown",
      "metadata": {
        "id": "emKKDR0hDxMx",
        "colab_type": "text"
      },
      "source": [
        "###Find and Replace Values"
      ]
    },
    {
      "cell_type": "code",
      "metadata": {
        "id": "JBTLc6EMEIDo",
        "colab_type": "code",
        "colab": {}
      },
      "source": [
        "np_matrix[result]=99\n",
        "np_matrix"
      ],
      "execution_count": 0,
      "outputs": []
    },
    {
      "cell_type": "markdown",
      "metadata": {
        "id": "d9jcXfC2EYWI",
        "colab_type": "text"
      },
      "source": [
        "#Ex2.\n"
      ]
    },
    {
      "cell_type": "code",
      "metadata": {
        "id": "ycYMFb0yEd63",
        "colab_type": "code",
        "colab": {}
      },
      "source": [
        "np_matrix = np.random.rand(10,5)\n",
        "np_matrix"
      ],
      "execution_count": 0,
      "outputs": []
    },
    {
      "cell_type": "code",
      "metadata": {
        "id": "M0R3bEOOEv0X",
        "colab_type": "code",
        "colab": {}
      },
      "source": [
        "b = np.random.randint(3,size = 10)\n",
        "b"
      ],
      "execution_count": 0,
      "outputs": []
    },
    {
      "cell_type": "code",
      "metadata": {
        "id": "RBofBluVFRTZ",
        "colab_type": "code",
        "colab": {}
      },
      "source": [
        "result = np.where(b ==2)\n",
        "result"
      ],
      "execution_count": 0,
      "outputs": []
    },
    {
      "cell_type": "code",
      "metadata": {
        "id": "CUAT_jddFjCa",
        "colab_type": "code",
        "colab": {}
      },
      "source": [
        "np_matrix = np_matrix[result]\n",
        "np_matrix"
      ],
      "execution_count": 0,
      "outputs": []
    },
    {
      "cell_type": "markdown",
      "metadata": {
        "id": "u094CX-lhS8O",
        "colab_type": "text"
      },
      "source": [
        "#Ganerate picture Ex3."
      ]
    },
    {
      "cell_type": "code",
      "metadata": {
        "id": "HZzXNAJ5lAfc",
        "colab_type": "code",
        "colab": {}
      },
      "source": [
        "import numpy as np\n",
        "import matplotlib.pyplot as plt\n",
        "x = np.arange(0, 12,0.1)\n",
        "y = np.cos(x)\n",
        "plt.plot(x, y)"
      ],
      "execution_count": 0,
      "outputs": []
    },
    {
      "cell_type": "markdown",
      "metadata": {
        "id": "t0PP649RlLY6",
        "colab_type": "text"
      },
      "source": [
        "#Ex4."
      ]
    },
    {
      "cell_type": "code",
      "metadata": {
        "id": "7fDcZpEGlN57",
        "colab_type": "code",
        "colab": {}
      },
      "source": [
        "np_test = np.arange(25).reshape(5,5)\n",
        "np_test[np_test%3==0]"
      ],
      "execution_count": 0,
      "outputs": []
    },
    {
      "cell_type": "markdown",
      "metadata": {
        "id": "3N0cnu_NoOMB",
        "colab_type": "text"
      },
      "source": [
        "#Ex5."
      ]
    },
    {
      "cell_type": "code",
      "metadata": {
        "id": "lzGtJuN2ocxy",
        "colab_type": "code",
        "colab": {}
      },
      "source": [
        "np_test = np.arange(25).reshape(5,5)\n",
        "np.fill_diagonal(np_test,0)\n",
        "np_test"
      ],
      "execution_count": 0,
      "outputs": []
    },
    {
      "cell_type": "markdown",
      "metadata": {
        "id": "Rny3JQ7evVyy",
        "colab_type": "text"
      },
      "source": [
        "#Load Titanic Data\n",
        "from github"
      ]
    },
    {
      "cell_type": "code",
      "metadata": {
        "id": "rN-C3PIjwhDu",
        "colab_type": "code",
        "outputId": "71529e4c-4218-469f-e9c8-3358c9a0dba3",
        "colab": {
          "base_uri": "https://localhost:8080/",
          "height": 34
        }
      },
      "source": [
        "import numpy as np\n",
        "titanic = np.genfromtxt(\"https://raw.githubusercontent.com/Saranchana/DW/master/TitanicCSV.csv\", delimiter=\";\", missing_values = None, dtype=str)\n",
        "titanic.shape"
      ],
      "execution_count": 99,
      "outputs": [
        {
          "output_type": "execute_result",
          "data": {
            "text/plain": [
              "(1309, 12)"
            ]
          },
          "metadata": {
            "tags": []
          },
          "execution_count": 99
        }
      ]
    },
    {
      "cell_type": "markdown",
      "metadata": {
        "id": "Re59Aq1J5ERK",
        "colab_type": "text"
      },
      "source": [
        "#Remove "
      ]
    },
    {
      "cell_type": "code",
      "metadata": {
        "id": "FQPbGcH8OA7I",
        "colab_type": "code",
        "outputId": "4ad1bd57-c5d2-4435-ce82-653781f4dfe8",
        "colab": {
          "base_uri": "https://localhost:8080/",
          "height": 68
        }
      },
      "source": [
        "titanic[0,:]"
      ],
      "execution_count": 100,
      "outputs": [
        {
          "output_type": "execute_result",
          "data": {
            "text/plain": [
              "array(['First', 'Allen, Miss. Elisabeth Walton', 'Female', '29.0', '0',\n",
              "       '0', '24160', '211.3375', 'B5', 'Southampton', '2', 'Yes'],\n",
              "      dtype='<U82')"
            ]
          },
          "metadata": {
            "tags": []
          },
          "execution_count": 100
        }
      ]
    },
    {
      "cell_type": "code",
      "metadata": {
        "id": "2BDyEASbPt4A",
        "colab_type": "code",
        "colab": {}
      },
      "source": [
        "titanic =np.delete(titanic,[1,6,7,8,9,10],1)"
      ],
      "execution_count": 0,
      "outputs": []
    },
    {
      "cell_type": "code",
      "metadata": {
        "id": "kNRZ1x1fP540",
        "colab_type": "code",
        "outputId": "a2a4dbf1-c66e-42c2-d617-c50f76ab811c",
        "colab": {
          "base_uri": "https://localhost:8080/",
          "height": 34
        }
      },
      "source": [
        "titanic[0,:]"
      ],
      "execution_count": 102,
      "outputs": [
        {
          "output_type": "execute_result",
          "data": {
            "text/plain": [
              "array(['First', 'Female', '29.0', '0', '0', 'Yes'], dtype='<U82')"
            ]
          },
          "metadata": {
            "tags": []
          },
          "execution_count": 102
        }
      ]
    },
    {
      "cell_type": "code",
      "metadata": {
        "id": "-xXPFfs8QFLW",
        "colab_type": "code",
        "colab": {}
      },
      "source": [
        "rows,cols = np.where(titanic== None)\n",
        "print(str(len(np.unique(rows)))+ \" \" +str(len(np.unique(cols))))"
      ],
      "execution_count": 0,
      "outputs": []
    },
    {
      "cell_type": "code",
      "metadata": {
        "id": "HAlAr9GXQ84s",
        "colab_type": "code",
        "outputId": "96d1a451-628b-42fe-8458-7fb218762804",
        "colab": {
          "base_uri": "https://localhost:8080/",
          "height": 34
        }
      },
      "source": [
        "rows,cols = np.where(titanic== '')\n",
        "print(str(len(np.unique(rows)))+ \" \" +str(len(np.unique(cols))))"
      ],
      "execution_count": 105,
      "outputs": [
        {
          "output_type": "stream",
          "text": [
            "263 1\n"
          ],
          "name": "stdout"
        }
      ]
    },
    {
      "cell_type": "code",
      "metadata": {
        "id": "p28rcG6TREKz",
        "colab_type": "code",
        "outputId": "32d192a9-a719-4bd6-a5a9-a16a8cbc12c8",
        "colab": {
          "base_uri": "https://localhost:8080/",
          "height": 34
        }
      },
      "source": [
        "np.unique(cols)"
      ],
      "execution_count": 104,
      "outputs": [
        {
          "output_type": "execute_result",
          "data": {
            "text/plain": [
              "array([], dtype=int64)"
            ]
          },
          "metadata": {
            "tags": []
          },
          "execution_count": 104
        }
      ]
    },
    {
      "cell_type": "code",
      "metadata": {
        "id": "4OAdbW9ZRLGU",
        "colab_type": "code",
        "outputId": "cbaded57-9add-45b6-95cb-7ba34cb31110",
        "colab": {
          "base_uri": "https://localhost:8080/",
          "height": 34
        }
      },
      "source": [
        "titanic= np.delete(titanic,2,1)\n",
        "titanic[0,:]"
      ],
      "execution_count": 106,
      "outputs": [
        {
          "output_type": "execute_result",
          "data": {
            "text/plain": [
              "array(['First', 'Female', '0', '0', 'Yes'], dtype='<U82')"
            ]
          },
          "metadata": {
            "tags": []
          },
          "execution_count": 106
        }
      ]
    },
    {
      "cell_type": "code",
      "metadata": {
        "id": "WRhaWWMYSLJF",
        "colab_type": "code",
        "outputId": "61f789f8-96e0-4965-d797-f3e7f26fd0d5",
        "colab": {
          "base_uri": "https://localhost:8080/",
          "height": 34
        }
      },
      "source": [
        "passenger_class =np.unique(titanic[:,0])\n",
        "passenger_class"
      ],
      "execution_count": 107,
      "outputs": [
        {
          "output_type": "execute_result",
          "data": {
            "text/plain": [
              "array(['First', 'Second', 'Third'], dtype='<U82')"
            ]
          },
          "metadata": {
            "tags": []
          },
          "execution_count": 107
        }
      ]
    },
    {
      "cell_type": "code",
      "metadata": {
        "id": "4WfCDQd_wkE0",
        "colab_type": "code",
        "outputId": "9350bdb8-e9c6-4c56-accf-cf370a693560",
        "colab": {
          "base_uri": "https://localhost:8080/",
          "height": 34
        }
      },
      "source": [
        "passenger_class_value = [sum (titanic[:,0] == passenger_class[0]),\n",
        "                         sum (titanic[:,0] == passenger_class[1]),\n",
        "                         sum (titanic[:,0] == passenger_class[2])]\n",
        "passenger_class_value"
      ],
      "execution_count": 108,
      "outputs": [
        {
          "output_type": "execute_result",
          "data": {
            "text/plain": [
              "[323, 277, 709]"
            ]
          },
          "metadata": {
            "tags": []
          },
          "execution_count": 108
        }
      ]
    },
    {
      "cell_type": "markdown",
      "metadata": {
        "id": "-T6Mvx-w65LY",
        "colab_type": "text"
      },
      "source": [
        "#Ex6."
      ]
    },
    {
      "cell_type": "code",
      "metadata": {
        "id": "DGX1ufUIwwT0",
        "colab_type": "code",
        "colab": {}
      },
      "source": [
        "passenger_sex = np.unique(titanic[:,1])\n",
        "sex_value = [sum(titanic[:,1] == passenger_sex[0]), sum (titanic[:,1] == passenger_sex[1])]"
      ],
      "execution_count": 0,
      "outputs": []
    },
    {
      "cell_type": "code",
      "metadata": {
        "id": "_1iI83fuwzQV",
        "colab_type": "code",
        "colab": {}
      },
      "source": [
        "passenger_survived = np.unique(titanic[:,4])\n",
        "survived_value= [sum(titanic[:,4] == passenger_survived[0]), sum (titanic[:,4] == passenger_survived[1])]"
      ],
      "execution_count": 0,
      "outputs": []
    },
    {
      "cell_type": "code",
      "metadata": {
        "id": "dRSwNONvLV4i",
        "colab_type": "code",
        "outputId": "0aadaccb-27e4-4eca-b837-005baef4bd0c",
        "colab": {
          "base_uri": "https://localhost:8080/",
          "height": 211
        }
      },
      "source": [
        "import matplotlib.pyplot as plt\n",
        "fig, axes = plt.subplots(1,2, figsize=(8,3))\n",
        "axes[0].bar(passenger_sex,sex_value)\n",
        "axes[1].bar(passenger_survived,survived_value)\n",
        "plt.show()\n"
      ],
      "execution_count": 111,
      "outputs": [
        {
          "output_type": "display_data",
          "data": {
            "image/png": "[encoded data removed]",
            "text/plain": [
              "<Figure size 576x216 with 2 Axes>"
            ]
          },
          "metadata": {
            "tags": []
          }
        }
      ]
    },
    {
      "cell_type": "markdown",
      "metadata": {
        "id": "cigBYsJCIvzt",
        "colab_type": "text"
      },
      "source": [
        "# String to Numerical & Label Encoder\n"
      ]
    },
    {
      "cell_type": "code",
      "metadata": {
        "id": "CKbhcVfHOPIv",
        "colab_type": "code",
        "outputId": "1d725565-af10-4872-8b16-22f2a3eae248",
        "colab": {
          "base_uri": "https://localhost:8080/",
          "height": 136
        }
      },
      "source": [
        "titanic[titanic == passenger_class[0]] =0\n",
        "titanic[titanic == passenger_class[1]] =1\n",
        "titanic[titanic == passenger_class[2]] =2\n",
        "titanic[titanic == passenger_sex[0]] =0\n",
        "titanic[titanic == passenger_sex[1]] =1\n",
        "titanic[titanic == passenger_survived[0]] =0\n",
        "titanic[titanic == passenger_survived[1]] =1\n",
        "titanic"
      ],
      "execution_count": 112,
      "outputs": [
        {
          "output_type": "execute_result",
          "data": {
            "text/plain": [
              "array([['0', '0', '0', '0', '1'],\n",
              "       ['0', '1', '1', '2', '1'],\n",
              "       ['0', '0', '1', '2', '0'],\n",
              "       ...,\n",
              "       ['2', '1', '0', '0', '0'],\n",
              "       ['2', '1', '0', '0', '0'],\n",
              "       ['2', '1', '0', '0', '0']], dtype='<U82')"
            ]
          },
          "metadata": {
            "tags": []
          },
          "execution_count": 112
        }
      ]
    },
    {
      "cell_type": "markdown",
      "metadata": {
        "id": "KasvW42S0WKO",
        "colab_type": "text"
      },
      "source": [
        "#Separate Data & Label"
      ]
    },
    {
      "cell_type": "code",
      "metadata": {
        "id": "Veh7haoY0a8S",
        "colab_type": "code",
        "outputId": "e1c08f5b-8113-4768-fd26-02a74c22521f",
        "colab": {
          "base_uri": "https://localhost:8080/",
          "height": 34
        }
      },
      "source": [
        "titanic = titanic.astype('float')\n",
        "titanic.dtype"
      ],
      "execution_count": 113,
      "outputs": [
        {
          "output_type": "execute_result",
          "data": {
            "text/plain": [
              "dtype('float64')"
            ]
          },
          "metadata": {
            "tags": []
          },
          "execution_count": 113
        }
      ]
    },
    {
      "cell_type": "code",
      "metadata": {
        "id": "M8zIZhYJ0j5f",
        "colab_type": "code",
        "outputId": "71cabcd2-2dc8-414f-f943-9941a7cdeb85",
        "colab": {
          "base_uri": "https://localhost:8080/",
          "height": 34
        }
      },
      "source": [
        "y = titanic[:,-1]\n",
        "x = np.delete(titanic,-1,1)\n",
        "x.shape"
      ],
      "execution_count": 114,
      "outputs": [
        {
          "output_type": "execute_result",
          "data": {
            "text/plain": [
              "(1309, 4)"
            ]
          },
          "metadata": {
            "tags": []
          },
          "execution_count": 114
        }
      ]
    },
    {
      "cell_type": "markdown",
      "metadata": {
        "id": "tOCff2Io0z2c",
        "colab_type": "text"
      },
      "source": [
        "# Ex.7 Normalization"
      ]
    },
    {
      "cell_type": "code",
      "metadata": {
        "id": "h5HqcDPL05ID",
        "colab_type": "code",
        "outputId": "97007c25-fa60-4f2d-f355-689f3ed9545f",
        "colab": {
          "base_uri": "https://localhost:8080/",
          "height": 136
        }
      },
      "source": [
        "x_norm = (x-np.min(x,0)) / (np.max(x,0)- np.min(x,0))\n",
        "x_norm"
      ],
      "execution_count": 115,
      "outputs": [
        {
          "output_type": "execute_result",
          "data": {
            "text/plain": [
              "array([[0.        , 0.        , 0.        , 0.        ],\n",
              "       [0.        , 1.        , 0.125     , 0.22222222],\n",
              "       [0.        , 0.        , 0.125     , 0.22222222],\n",
              "       ...,\n",
              "       [1.        , 1.        , 0.        , 0.        ],\n",
              "       [1.        , 1.        , 0.        , 0.        ],\n",
              "       [1.        , 1.        , 0.        , 0.        ]])"
            ]
          },
          "metadata": {
            "tags": []
          },
          "execution_count": 115
        }
      ]
    },
    {
      "cell_type": "markdown",
      "metadata": {
        "id": "CswJwtzZoHxb",
        "colab_type": "text"
      },
      "source": [
        "#EX.8 Train & Test Split"
      ]
    },
    {
      "cell_type": "markdown",
      "metadata": {
        "id": "byd2ZArVotRK",
        "colab_type": "text"
      },
      "source": [
        "![image.png](data:image/png;base64,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)"
      ]
    },
    {
      "cell_type": "code",
      "metadata": {
        "id": "9aB3y8K8o1oJ",
        "colab_type": "code",
        "outputId": "4709cee6-da20-4ef7-9638-cf7c13d4d986",
        "colab": {
          "base_uri": "https://localhost:8080/",
          "height": 34
        }
      },
      "source": [
        "import numpy as np\n",
        "train_index = np.random.rand(1000)>0.3\n",
        "sum(train_index)"
      ],
      "execution_count": 116,
      "outputs": [
        {
          "output_type": "execute_result",
          "data": {
            "text/plain": [
              "718"
            ]
          },
          "metadata": {
            "tags": []
          },
          "execution_count": 116
        }
      ]
    },
    {
      "cell_type": "code",
      "metadata": {
        "id": "fk9hEfTtqKvI",
        "colab_type": "code",
        "outputId": "fc5580d7-67db-43f6-e7a4-42d461577a48",
        "colab": {
          "base_uri": "https://localhost:8080/",
          "height": 34
        }
      },
      "source": [
        "test_index = train_index == False\n",
        "sum(test_index)"
      ],
      "execution_count": 117,
      "outputs": [
        {
          "output_type": "execute_result",
          "data": {
            "text/plain": [
              "282"
            ]
          },
          "metadata": {
            "tags": []
          },
          "execution_count": 117
        }
      ]
    },
    {
      "cell_type": "code",
      "metadata": {
        "id": "Y-OCYWYONdpV",
        "colab_type": "code",
        "colab": {}
      },
      "source": [
        "y= titanic[:,-1]\n",
        "x= titanic[:5,:]"
      ],
      "execution_count": 0,
      "outputs": []
    },
    {
      "cell_type": "code",
      "metadata": {
        "id": "QXixcyJcrY3_",
        "colab_type": "code",
        "colab": {
          "base_uri": "https://localhost:8080/",
          "height": 234
        },
        "outputId": "d169adc4-fa9b-47b9-e028-1e966c9c8948"
      },
      "source": [
        "x_train  = x[train_index]\n",
        "y_train  = y[train_index]\n",
        "x_test = x[test_index]\n",
        "y_test = y[test_index]"
      ],
      "execution_count": 119,
      "outputs": [
        {
          "output_type": "error",
          "ename": "IndexError",
          "evalue": "ignored",
          "traceback": [
            "\u001b[0;31m---------------------------------------------------------------------------\u001b[0m",
            "\u001b[0;31mIndexError\u001b[0m                                Traceback (most recent call last)",
            "\u001b[0;32m<ipython-input-119-d94c6b348d92>\u001b[0m in \u001b[0;36m<module>\u001b[0;34m()\u001b[0m\n\u001b[0;32m----> 1\u001b[0;31m \u001b[0mx_train\u001b[0m  \u001b[0;34m=\u001b[0m \u001b[0mx\u001b[0m\u001b[0;34m[\u001b[0m\u001b[0mtrain_index\u001b[0m\u001b[0;34m]\u001b[0m\u001b[0;34m\u001b[0m\u001b[0;34m\u001b[0m\u001b[0m\n\u001b[0m\u001b[1;32m      2\u001b[0m \u001b[0my_train\u001b[0m  \u001b[0;34m=\u001b[0m \u001b[0my\u001b[0m\u001b[0;34m[\u001b[0m\u001b[0mtrain_index\u001b[0m\u001b[0;34m]\u001b[0m\u001b[0;34m\u001b[0m\u001b[0;34m\u001b[0m\u001b[0m\n\u001b[1;32m      3\u001b[0m \u001b[0mx_test\u001b[0m \u001b[0;34m=\u001b[0m \u001b[0mx\u001b[0m\u001b[0;34m[\u001b[0m\u001b[0mtest_index\u001b[0m\u001b[0;34m]\u001b[0m\u001b[0;34m\u001b[0m\u001b[0;34m\u001b[0m\u001b[0m\n\u001b[1;32m      4\u001b[0m \u001b[0my_test\u001b[0m \u001b[0;34m=\u001b[0m \u001b[0my\u001b[0m\u001b[0;34m[\u001b[0m\u001b[0mtest_index\u001b[0m\u001b[0;34m]\u001b[0m\u001b[0;34m\u001b[0m\u001b[0;34m\u001b[0m\u001b[0m\n",
            "\u001b[0;31mIndexError\u001b[0m: boolean index did not match indexed array along dimension 0; dimension is 5 but corresponding boolean dimension is 1000"
          ]
        }
      ]
    },
    {
      "cell_type": "code",
      "metadata": {
        "id": "22Nsqvs7QUla",
        "colab_type": "code",
        "colab": {
          "base_uri": "https://localhost:8080/",
          "height": 34
        },
        "outputId": "7888caa5-28d6-4ec1-9ee1-095381168bbe"
      },
      "source": [
        "print(\"Number of class 0 = \"+str(len(y) - sum(y))+\" and class 1 = \"+str(sum(y)))\n",
        "\n"
      ],
      "execution_count": 120,
      "outputs": [
        {
          "output_type": "stream",
          "text": [
            "Number of class 0 = 809.0 and class 1 = 500.0\n"
          ],
          "name": "stdout"
        }
      ]
    }
  ]
}