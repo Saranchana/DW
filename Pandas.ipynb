{
  "nbformat": 4,
  "nbformat_minor": 0,
  "metadata": {
    "colab": {
      "name": "Pandas",
      "provenance": [],
      "collapsed_sections": [],
      "include_colab_link": true
    },
    "kernelspec": {
      "name": "python3",
      "display_name": "Python 3"
    }
  },
  "cells": [
    {
      "cell_type": "markdown",
      "metadata": {
        "id": "view-in-github",
        "colab_type": "text"
      },
      "source": [
        "<a href=\"https://colab.research.google.com/github/Saranchana/DW/blob/master/Pandas.ipynb\" target=\"_parent\"><img src=\"https://colab.research.google.com/assets/colab-badge.svg\" alt=\"Open In Colab\"/></a>"
      ]
    },
    {
      "cell_type": "markdown",
      "metadata": {
        "id": "mSwk_pIou9X9",
        "colab_type": "text"
      },
      "source": [
        "#Read Data Frame object\n"
      ]
    },
    {
      "cell_type": "code",
      "metadata": {
        "id": "GlM05ALKu-k9",
        "colab_type": "code",
        "colab": {}
      },
      "source": [
        "import pandas as pd\n"
      ],
      "execution_count": 0,
      "outputs": []
    },
    {
      "cell_type": "code",
      "metadata": {
        "id": "JvRdKE1DvBW1",
        "colab_type": "code",
        "colab": {
          "base_uri": "https://localhost:8080/",
          "height": 742
        },
        "outputId": "4fd347ea-b470-4d8f-87ff-6a3b05c23271"
      },
      "source": [
        "df =pd.read_csv ('https://raw.githubusercontent.com/Saranchana/DW/master/titanic_tab.txt', delimiter=\"\\t\")\n",
        "df"
      ],
      "execution_count": 10,
      "outputs": [
        {
          "output_type": "execute_result",
          "data": {
            "text/html": [
              "<div>\n",
              "<style scoped>\n",
              "    .dataframe tbody tr th:only-of-type {\n",
              "        vertical-align: middle;\n",
              "    }\n",
              "\n",
              "    .dataframe tbody tr th {\n",
              "        vertical-align: top;\n",
              "    }\n",
              "\n",
              "    .dataframe thead th {\n",
              "        text-align: right;\n",
              "    }\n",
              "</style>\n",
              "<table border=\"1\" class=\"dataframe\">\n",
              "  <thead>\n",
              "    <tr style=\"text-align: right;\">\n",
              "      <th></th>\n",
              "      <th>Passenger Class</th>\n",
              "      <th>Name</th>\n",
              "      <th>Sex</th>\n",
              "      <th>Age</th>\n",
              "      <th>No of Siblings or Spouses on Board</th>\n",
              "      <th>No of Parents or Children on Board</th>\n",
              "      <th>Ticket Number</th>\n",
              "      <th>Passenger Fare</th>\n",
              "      <th>Cabin</th>\n",
              "      <th>Port of Embarkation</th>\n",
              "      <th>Life Boat</th>\n",
              "      <th>Survived</th>\n",
              "    </tr>\n",
              "  </thead>\n",
              "  <tbody>\n",
              "    <tr>\n",
              "      <th>0</th>\n",
              "      <td>First</td>\n",
              "      <td>Allen, Miss. Elisabeth Walton</td>\n",
              "      <td>Female</td>\n",
              "      <td>29.0</td>\n",
              "      <td>0.0</td>\n",
              "      <td>0.0</td>\n",
              "      <td>24160</td>\n",
              "      <td>211.3</td>\n",
              "      <td>B5</td>\n",
              "      <td>Southampton</td>\n",
              "      <td>2</td>\n",
              "      <td>Yes</td>\n",
              "    </tr>\n",
              "    <tr>\n",
              "      <th>1</th>\n",
              "      <td>First</td>\n",
              "      <td>Allison, Master. Hudson Trevor</td>\n",
              "      <td>Male</td>\n",
              "      <td>0.9</td>\n",
              "      <td>1.0</td>\n",
              "      <td>2.0</td>\n",
              "      <td>113781</td>\n",
              "      <td>151.6</td>\n",
              "      <td>C22 C26</td>\n",
              "      <td>Southampton</td>\n",
              "      <td>11</td>\n",
              "      <td>Yes</td>\n",
              "    </tr>\n",
              "    <tr>\n",
              "      <th>2</th>\n",
              "      <td>First</td>\n",
              "      <td>Allison, Miss. Helen Loraine</td>\n",
              "      <td>Female</td>\n",
              "      <td>2.0</td>\n",
              "      <td>1.0</td>\n",
              "      <td>2.0</td>\n",
              "      <td>113781</td>\n",
              "      <td>151.6</td>\n",
              "      <td>C22 C26</td>\n",
              "      <td>Southampton</td>\n",
              "      <td>NaN</td>\n",
              "      <td>No</td>\n",
              "    </tr>\n",
              "    <tr>\n",
              "      <th>3</th>\n",
              "      <td>First</td>\n",
              "      <td>Allison, Mr. Hudson Joshua Creighton</td>\n",
              "      <td>Male</td>\n",
              "      <td>30.0</td>\n",
              "      <td>1.0</td>\n",
              "      <td>2.0</td>\n",
              "      <td>113781</td>\n",
              "      <td>151.6</td>\n",
              "      <td>C22 C26</td>\n",
              "      <td>Southampton</td>\n",
              "      <td>NaN</td>\n",
              "      <td>No</td>\n",
              "    </tr>\n",
              "    <tr>\n",
              "      <th>4</th>\n",
              "      <td>First</td>\n",
              "      <td>Allison, Mrs. Hudson J C (Bessie Waldo Daniels)</td>\n",
              "      <td>Female</td>\n",
              "      <td>25.0</td>\n",
              "      <td>1.0</td>\n",
              "      <td>2.0</td>\n",
              "      <td>113781</td>\n",
              "      <td>151.6</td>\n",
              "      <td>C22 C26</td>\n",
              "      <td>Southampton</td>\n",
              "      <td>NaN</td>\n",
              "      <td>No</td>\n",
              "    </tr>\n",
              "    <tr>\n",
              "      <th>...</th>\n",
              "      <td>...</td>\n",
              "      <td>...</td>\n",
              "      <td>...</td>\n",
              "      <td>...</td>\n",
              "      <td>...</td>\n",
              "      <td>...</td>\n",
              "      <td>...</td>\n",
              "      <td>...</td>\n",
              "      <td>...</td>\n",
              "      <td>...</td>\n",
              "      <td>...</td>\n",
              "      <td>...</td>\n",
              "    </tr>\n",
              "    <tr>\n",
              "      <th>1304</th>\n",
              "      <td>Third</td>\n",
              "      <td>Zabour, Miss. Hileni</td>\n",
              "      <td>Female</td>\n",
              "      <td>14.5</td>\n",
              "      <td>1.0</td>\n",
              "      <td>0.0</td>\n",
              "      <td>2665</td>\n",
              "      <td>14.5</td>\n",
              "      <td>NaN</td>\n",
              "      <td>Cherbourg</td>\n",
              "      <td>NaN</td>\n",
              "      <td>No</td>\n",
              "    </tr>\n",
              "    <tr>\n",
              "      <th>1305</th>\n",
              "      <td>Third</td>\n",
              "      <td>Zabour, Miss. Thamine</td>\n",
              "      <td>Female</td>\n",
              "      <td>NaN</td>\n",
              "      <td>1.0</td>\n",
              "      <td>0.0</td>\n",
              "      <td>2665</td>\n",
              "      <td>14.5</td>\n",
              "      <td>NaN</td>\n",
              "      <td>Cherbourg</td>\n",
              "      <td>NaN</td>\n",
              "      <td>No</td>\n",
              "    </tr>\n",
              "    <tr>\n",
              "      <th>1306</th>\n",
              "      <td>Third</td>\n",
              "      <td>Zakarian, Mr. Mapriededer</td>\n",
              "      <td>Male</td>\n",
              "      <td>26.5</td>\n",
              "      <td>0.0</td>\n",
              "      <td>0.0</td>\n",
              "      <td>2656</td>\n",
              "      <td>7.2</td>\n",
              "      <td>NaN</td>\n",
              "      <td>Cherbourg</td>\n",
              "      <td>NaN</td>\n",
              "      <td>No</td>\n",
              "    </tr>\n",
              "    <tr>\n",
              "      <th>1307</th>\n",
              "      <td>Third</td>\n",
              "      <td>Zakarian, Mr. Ortin</td>\n",
              "      <td>Male</td>\n",
              "      <td>27.0</td>\n",
              "      <td>0.0</td>\n",
              "      <td>0.0</td>\n",
              "      <td>2670</td>\n",
              "      <td>7.2</td>\n",
              "      <td>NaN</td>\n",
              "      <td>Cherbourg</td>\n",
              "      <td>NaN</td>\n",
              "      <td>No</td>\n",
              "    </tr>\n",
              "    <tr>\n",
              "      <th>1308</th>\n",
              "      <td>Third</td>\n",
              "      <td>Zimmerman, Mr. Leo</td>\n",
              "      <td>Male</td>\n",
              "      <td>29.0</td>\n",
              "      <td>0.0</td>\n",
              "      <td>0.0</td>\n",
              "      <td>315082</td>\n",
              "      <td>7.9</td>\n",
              "      <td>NaN</td>\n",
              "      <td>Southampton</td>\n",
              "      <td>NaN</td>\n",
              "      <td>No</td>\n",
              "    </tr>\n",
              "  </tbody>\n",
              "</table>\n",
              "<p>1309 rows × 12 columns</p>\n",
              "</div>"
            ],
            "text/plain": [
              "     Passenger Class  ... Survived\n",
              "0              First  ...      Yes\n",
              "1              First  ...      Yes\n",
              "2              First  ...       No\n",
              "3              First  ...       No\n",
              "4              First  ...       No\n",
              "...              ...  ...      ...\n",
              "1304           Third  ...       No\n",
              "1305           Third  ...       No\n",
              "1306           Third  ...       No\n",
              "1307           Third  ...       No\n",
              "1308           Third  ...       No\n",
              "\n",
              "[1309 rows x 12 columns]"
            ]
          },
          "metadata": {
            "tags": []
          },
          "execution_count": 10
        }
      ]
    },
    {
      "cell_type": "markdown",
      "metadata": {
        "id": "xoeWm8SWwTg0",
        "colab_type": "text"
      },
      "source": [
        "#Pandas Data Access"
      ]
    },
    {
      "cell_type": "code",
      "metadata": {
        "id": "1EoGolwzwY9b",
        "colab_type": "code",
        "colab": {
          "base_uri": "https://localhost:8080/",
          "height": 102
        },
        "outputId": "bdd34131-fb16-4c4b-ec00-44620aa3933c"
      },
      "source": [
        "df.columns"
      ],
      "execution_count": 11,
      "outputs": [
        {
          "output_type": "execute_result",
          "data": {
            "text/plain": [
              "Index(['Passenger Class', 'Name', 'Sex', 'Age',\n",
              "       'No of Siblings or Spouses on Board',\n",
              "       'No of Parents or Children on Board', 'Ticket Number', 'Passenger Fare',\n",
              "       'Cabin', 'Port of Embarkation', 'Life Boat', 'Survived'],\n",
              "      dtype='object')"
            ]
          },
          "metadata": {
            "tags": []
          },
          "execution_count": 11
        }
      ]
    },
    {
      "cell_type": "code",
      "metadata": {
        "id": "lUQy87EQwlpM",
        "colab_type": "code",
        "colab": {
          "base_uri": "https://localhost:8080/",
          "height": 221
        },
        "outputId": "41b31e97-8cb0-4125-f449-e208b49bdbd9"
      },
      "source": [
        "df['Passenger Class']"
      ],
      "execution_count": 12,
      "outputs": [
        {
          "output_type": "execute_result",
          "data": {
            "text/plain": [
              "0       First\n",
              "1       First\n",
              "2       First\n",
              "3       First\n",
              "4       First\n",
              "        ...  \n",
              "1304    Third\n",
              "1305    Third\n",
              "1306    Third\n",
              "1307    Third\n",
              "1308    Third\n",
              "Name: Passenger Class, Length: 1309, dtype: object"
            ]
          },
          "metadata": {
            "tags": []
          },
          "execution_count": 12
        }
      ]
    },
    {
      "cell_type": "markdown",
      "metadata": {
        "id": "UzpIfm5XxBe6",
        "colab_type": "text"
      },
      "source": [
        "Access each element of data same as numpy"
      ]
    },
    {
      "cell_type": "code",
      "metadata": {
        "id": "x7IZXMpXxJrC",
        "colab_type": "code",
        "colab": {
          "base_uri": "https://localhost:8080/",
          "height": 119
        },
        "outputId": "f0756e58-ff5e-4d02-f9df-43337777a0f0"
      },
      "source": [
        "df.iloc[2,0:5]"
      ],
      "execution_count": 13,
      "outputs": [
        {
          "output_type": "execute_result",
          "data": {
            "text/plain": [
              "Passenger Class                                              First\n",
              "Name                                  Allison, Miss. Helen Loraine\n",
              "Sex                                                         Female\n",
              "Age                                                              2\n",
              "No of Siblings or Spouses on Board                               1\n",
              "Name: 2, dtype: object"
            ]
          },
          "metadata": {
            "tags": []
          },
          "execution_count": 13
        }
      ]
    },
    {
      "cell_type": "markdown",
      "metadata": {
        "id": "LmBQgzY3xW2p",
        "colab_type": "text"
      },
      "source": [
        "Dataset can mix type"
      ]
    },
    {
      "cell_type": "code",
      "metadata": {
        "id": "kF5Q8wRNxriS",
        "colab_type": "code",
        "colab": {
          "base_uri": "https://localhost:8080/",
          "height": 238
        },
        "outputId": "0a8b815f-aaed-4f72-d867-6e009d5ef3fb"
      },
      "source": [
        "df.dtypes"
      ],
      "execution_count": 14,
      "outputs": [
        {
          "output_type": "execute_result",
          "data": {
            "text/plain": [
              "Passenger Class                        object\n",
              "Name                                   object\n",
              "Sex                                    object\n",
              "Age                                   float64\n",
              "No of Siblings or Spouses on Board    float64\n",
              "No of Parents or Children on Board    float64\n",
              "Ticket Number                          object\n",
              "Passenger Fare                        float64\n",
              "Cabin                                  object\n",
              "Port of Embarkation                    object\n",
              "Life Boat                              object\n",
              "Survived                               object\n",
              "dtype: object"
            ]
          },
          "metadata": {
            "tags": []
          },
          "execution_count": 14
        }
      ]
    },
    {
      "cell_type": "markdown",
      "metadata": {
        "id": "ePSnd2L7xxmx",
        "colab_type": "text"
      },
      "source": [
        "Find Min and Max"
      ]
    },
    {
      "cell_type": "code",
      "metadata": {
        "id": "KT5hktfnx1I5",
        "colab_type": "code",
        "colab": {
          "base_uri": "https://localhost:8080/",
          "height": 34
        },
        "outputId": "23fb548e-8d13-4961-e15e-a721220fccce"
      },
      "source": [
        "df['Age'].max()"
      ],
      "execution_count": 15,
      "outputs": [
        {
          "output_type": "execute_result",
          "data": {
            "text/plain": [
              "80.0"
            ]
          },
          "metadata": {
            "tags": []
          },
          "execution_count": 15
        }
      ]
    },
    {
      "cell_type": "code",
      "metadata": {
        "id": "oae5B2IWyNrR",
        "colab_type": "code",
        "colab": {
          "base_uri": "https://localhost:8080/",
          "height": 34
        },
        "outputId": "6a0d65aa-a7c4-4926-d73f-42a9c39ea5b1"
      },
      "source": [
        "df['Age'].min()"
      ],
      "execution_count": 16,
      "outputs": [
        {
          "output_type": "execute_result",
          "data": {
            "text/plain": [
              "0.2"
            ]
          },
          "metadata": {
            "tags": []
          },
          "execution_count": 16
        }
      ]
    },
    {
      "cell_type": "markdown",
      "metadata": {
        "id": "FOwMGIGCyT6Z",
        "colab_type": "text"
      },
      "source": [
        "Use Dataframe to find a specific row or element"
      ]
    },
    {
      "cell_type": "code",
      "metadata": {
        "id": "4HNfB8o5yfMh",
        "colab_type": "code",
        "colab": {
          "base_uri": "https://localhost:8080/",
          "height": 182
        },
        "outputId": "d94cd5c9-75a0-4681-d0f7-d6c2899c5ab1"
      },
      "source": [
        "df[df['Age']== df['Age'].min()]"
      ],
      "execution_count": 19,
      "outputs": [
        {
          "output_type": "execute_result",
          "data": {
            "text/html": [
              "<div>\n",
              "<style scoped>\n",
              "    .dataframe tbody tr th:only-of-type {\n",
              "        vertical-align: middle;\n",
              "    }\n",
              "\n",
              "    .dataframe tbody tr th {\n",
              "        vertical-align: top;\n",
              "    }\n",
              "\n",
              "    .dataframe thead th {\n",
              "        text-align: right;\n",
              "    }\n",
              "</style>\n",
              "<table border=\"1\" class=\"dataframe\">\n",
              "  <thead>\n",
              "    <tr style=\"text-align: right;\">\n",
              "      <th></th>\n",
              "      <th>Passenger Class</th>\n",
              "      <th>Name</th>\n",
              "      <th>Sex</th>\n",
              "      <th>Age</th>\n",
              "      <th>No of Siblings or Spouses on Board</th>\n",
              "      <th>No of Parents or Children on Board</th>\n",
              "      <th>Ticket Number</th>\n",
              "      <th>Passenger Fare</th>\n",
              "      <th>Cabin</th>\n",
              "      <th>Port of Embarkation</th>\n",
              "      <th>Life Boat</th>\n",
              "      <th>Survived</th>\n",
              "    </tr>\n",
              "  </thead>\n",
              "  <tbody>\n",
              "    <tr>\n",
              "      <th>763</th>\n",
              "      <td>Third</td>\n",
              "      <td>Dean, Miss. Elizabeth Gladys \"Millvina\"</td>\n",
              "      <td>Female</td>\n",
              "      <td>0.2</td>\n",
              "      <td>1.0</td>\n",
              "      <td>2.0</td>\n",
              "      <td>C.A. 2315</td>\n",
              "      <td>20.6</td>\n",
              "      <td>NaN</td>\n",
              "      <td>Southampton</td>\n",
              "      <td>10</td>\n",
              "      <td>Yes</td>\n",
              "    </tr>\n",
              "  </tbody>\n",
              "</table>\n",
              "</div>"
            ],
            "text/plain": [
              "    Passenger Class                                     Name  ... Life Boat  Survived\n",
              "763           Third  Dean, Miss. Elizabeth Gladys \"Millvina\"  ...        10       Yes\n",
              "\n",
              "[1 rows x 12 columns]"
            ]
          },
          "metadata": {
            "tags": []
          },
          "execution_count": 19
        }
      ]
    },
    {
      "cell_type": "markdown",
      "metadata": {
        "id": "J8saEQCdyxEY",
        "colab_type": "text"
      },
      "source": [
        "Find Missing Values"
      ]
    },
    {
      "cell_type": "code",
      "metadata": {
        "id": "8Qv5XIhiy0XQ",
        "colab_type": "code",
        "colab": {
          "base_uri": "https://localhost:8080/",
          "height": 470
        },
        "outputId": "9f452b0c-efd0-4d6a-9419-44330995fdbc"
      },
      "source": [
        "df.isnull()"
      ],
      "execution_count": 20,
      "outputs": [
        {
          "output_type": "execute_result",
          "data": {
            "text/html": [
              "<div>\n",
              "<style scoped>\n",
              "    .dataframe tbody tr th:only-of-type {\n",
              "        vertical-align: middle;\n",
              "    }\n",
              "\n",
              "    .dataframe tbody tr th {\n",
              "        vertical-align: top;\n",
              "    }\n",
              "\n",
              "    .dataframe thead th {\n",
              "        text-align: right;\n",
              "    }\n",
              "</style>\n",
              "<table border=\"1\" class=\"dataframe\">\n",
              "  <thead>\n",
              "    <tr style=\"text-align: right;\">\n",
              "      <th></th>\n",
              "      <th>Passenger Class</th>\n",
              "      <th>Name</th>\n",
              "      <th>Sex</th>\n",
              "      <th>Age</th>\n",
              "      <th>No of Siblings or Spouses on Board</th>\n",
              "      <th>No of Parents or Children on Board</th>\n",
              "      <th>Ticket Number</th>\n",
              "      <th>Passenger Fare</th>\n",
              "      <th>Cabin</th>\n",
              "      <th>Port of Embarkation</th>\n",
              "      <th>Life Boat</th>\n",
              "      <th>Survived</th>\n",
              "    </tr>\n",
              "  </thead>\n",
              "  <tbody>\n",
              "    <tr>\n",
              "      <th>0</th>\n",
              "      <td>False</td>\n",
              "      <td>False</td>\n",
              "      <td>False</td>\n",
              "      <td>False</td>\n",
              "      <td>False</td>\n",
              "      <td>False</td>\n",
              "      <td>False</td>\n",
              "      <td>False</td>\n",
              "      <td>False</td>\n",
              "      <td>False</td>\n",
              "      <td>False</td>\n",
              "      <td>False</td>\n",
              "    </tr>\n",
              "    <tr>\n",
              "      <th>1</th>\n",
              "      <td>False</td>\n",
              "      <td>False</td>\n",
              "      <td>False</td>\n",
              "      <td>False</td>\n",
              "      <td>False</td>\n",
              "      <td>False</td>\n",
              "      <td>False</td>\n",
              "      <td>False</td>\n",
              "      <td>False</td>\n",
              "      <td>False</td>\n",
              "      <td>False</td>\n",
              "      <td>False</td>\n",
              "    </tr>\n",
              "    <tr>\n",
              "      <th>2</th>\n",
              "      <td>False</td>\n",
              "      <td>False</td>\n",
              "      <td>False</td>\n",
              "      <td>False</td>\n",
              "      <td>False</td>\n",
              "      <td>False</td>\n",
              "      <td>False</td>\n",
              "      <td>False</td>\n",
              "      <td>False</td>\n",
              "      <td>False</td>\n",
              "      <td>True</td>\n",
              "      <td>False</td>\n",
              "    </tr>\n",
              "    <tr>\n",
              "      <th>3</th>\n",
              "      <td>False</td>\n",
              "      <td>False</td>\n",
              "      <td>False</td>\n",
              "      <td>False</td>\n",
              "      <td>False</td>\n",
              "      <td>False</td>\n",
              "      <td>False</td>\n",
              "      <td>False</td>\n",
              "      <td>False</td>\n",
              "      <td>False</td>\n",
              "      <td>True</td>\n",
              "      <td>False</td>\n",
              "    </tr>\n",
              "    <tr>\n",
              "      <th>4</th>\n",
              "      <td>False</td>\n",
              "      <td>False</td>\n",
              "      <td>False</td>\n",
              "      <td>False</td>\n",
              "      <td>False</td>\n",
              "      <td>False</td>\n",
              "      <td>False</td>\n",
              "      <td>False</td>\n",
              "      <td>False</td>\n",
              "      <td>False</td>\n",
              "      <td>True</td>\n",
              "      <td>False</td>\n",
              "    </tr>\n",
              "    <tr>\n",
              "      <th>...</th>\n",
              "      <td>...</td>\n",
              "      <td>...</td>\n",
              "      <td>...</td>\n",
              "      <td>...</td>\n",
              "      <td>...</td>\n",
              "      <td>...</td>\n",
              "      <td>...</td>\n",
              "      <td>...</td>\n",
              "      <td>...</td>\n",
              "      <td>...</td>\n",
              "      <td>...</td>\n",
              "      <td>...</td>\n",
              "    </tr>\n",
              "    <tr>\n",
              "      <th>1304</th>\n",
              "      <td>False</td>\n",
              "      <td>False</td>\n",
              "      <td>False</td>\n",
              "      <td>False</td>\n",
              "      <td>False</td>\n",
              "      <td>False</td>\n",
              "      <td>False</td>\n",
              "      <td>False</td>\n",
              "      <td>True</td>\n",
              "      <td>False</td>\n",
              "      <td>True</td>\n",
              "      <td>False</td>\n",
              "    </tr>\n",
              "    <tr>\n",
              "      <th>1305</th>\n",
              "      <td>False</td>\n",
              "      <td>False</td>\n",
              "      <td>False</td>\n",
              "      <td>True</td>\n",
              "      <td>False</td>\n",
              "      <td>False</td>\n",
              "      <td>False</td>\n",
              "      <td>False</td>\n",
              "      <td>True</td>\n",
              "      <td>False</td>\n",
              "      <td>True</td>\n",
              "      <td>False</td>\n",
              "    </tr>\n",
              "    <tr>\n",
              "      <th>1306</th>\n",
              "      <td>False</td>\n",
              "      <td>False</td>\n",
              "      <td>False</td>\n",
              "      <td>False</td>\n",
              "      <td>False</td>\n",
              "      <td>False</td>\n",
              "      <td>False</td>\n",
              "      <td>False</td>\n",
              "      <td>True</td>\n",
              "      <td>False</td>\n",
              "      <td>True</td>\n",
              "      <td>False</td>\n",
              "    </tr>\n",
              "    <tr>\n",
              "      <th>1307</th>\n",
              "      <td>False</td>\n",
              "      <td>False</td>\n",
              "      <td>False</td>\n",
              "      <td>False</td>\n",
              "      <td>False</td>\n",
              "      <td>False</td>\n",
              "      <td>False</td>\n",
              "      <td>False</td>\n",
              "      <td>True</td>\n",
              "      <td>False</td>\n",
              "      <td>True</td>\n",
              "      <td>False</td>\n",
              "    </tr>\n",
              "    <tr>\n",
              "      <th>1308</th>\n",
              "      <td>False</td>\n",
              "      <td>False</td>\n",
              "      <td>False</td>\n",
              "      <td>False</td>\n",
              "      <td>False</td>\n",
              "      <td>False</td>\n",
              "      <td>False</td>\n",
              "      <td>False</td>\n",
              "      <td>True</td>\n",
              "      <td>False</td>\n",
              "      <td>True</td>\n",
              "      <td>False</td>\n",
              "    </tr>\n",
              "  </tbody>\n",
              "</table>\n",
              "<p>1309 rows × 12 columns</p>\n",
              "</div>"
            ],
            "text/plain": [
              "      Passenger Class   Name    Sex  ...  Port of Embarkation  Life Boat  Survived\n",
              "0               False  False  False  ...                False      False     False\n",
              "1               False  False  False  ...                False      False     False\n",
              "2               False  False  False  ...                False       True     False\n",
              "3               False  False  False  ...                False       True     False\n",
              "4               False  False  False  ...                False       True     False\n",
              "...               ...    ...    ...  ...                  ...        ...       ...\n",
              "1304            False  False  False  ...                False       True     False\n",
              "1305            False  False  False  ...                False       True     False\n",
              "1306            False  False  False  ...                False       True     False\n",
              "1307            False  False  False  ...                False       True     False\n",
              "1308            False  False  False  ...                False       True     False\n",
              "\n",
              "[1309 rows x 12 columns]"
            ]
          },
          "metadata": {
            "tags": []
          },
          "execution_count": 20
        }
      ]
    },
    {
      "cell_type": "markdown",
      "metadata": {
        "id": "WhLCqOa2zAzJ",
        "colab_type": "text"
      },
      "source": [
        "Is there any column with null?\n",
        "Check missing ว่ามี ? แต่ไม่สนว่ามีเท่าไหร่"
      ]
    },
    {
      "cell_type": "code",
      "metadata": {
        "id": "lZJfm3asy8V3",
        "colab_type": "code",
        "colab": {
          "base_uri": "https://localhost:8080/",
          "height": 238
        },
        "outputId": "4b35c644-e758-4582-dc64-9ef62378a43e"
      },
      "source": [
        "df.isnull().any()"
      ],
      "execution_count": 21,
      "outputs": [
        {
          "output_type": "execute_result",
          "data": {
            "text/plain": [
              "Passenger Class                       False\n",
              "Name                                  False\n",
              "Sex                                   False\n",
              "Age                                    True\n",
              "No of Siblings or Spouses on Board    False\n",
              "No of Parents or Children on Board    False\n",
              "Ticket Number                         False\n",
              "Passenger Fare                         True\n",
              "Cabin                                  True\n",
              "Port of Embarkation                    True\n",
              "Life Boat                              True\n",
              "Survived                              False\n",
              "dtype: bool"
            ]
          },
          "metadata": {
            "tags": []
          },
          "execution_count": 21
        }
      ]
    },
    {
      "cell_type": "markdown",
      "metadata": {
        "id": "S17vQk6jzz8g",
        "colab_type": "text"
      },
      "source": [
        "Check any missing data in each colum"
      ]
    },
    {
      "cell_type": "code",
      "metadata": {
        "id": "K-m1Nmouz6T_",
        "colab_type": "code",
        "colab": {
          "base_uri": "https://localhost:8080/",
          "height": 238
        },
        "outputId": "73b74bac-3ffb-4801-ad9a-b87d7e8333e1"
      },
      "source": [
        "df.isnull().sum(axis=0)"
      ],
      "execution_count": 22,
      "outputs": [
        {
          "output_type": "execute_result",
          "data": {
            "text/plain": [
              "Passenger Class                          0\n",
              "Name                                     0\n",
              "Sex                                      0\n",
              "Age                                    263\n",
              "No of Siblings or Spouses on Board       0\n",
              "No of Parents or Children on Board       0\n",
              "Ticket Number                            0\n",
              "Passenger Fare                           1\n",
              "Cabin                                 1014\n",
              "Port of Embarkation                      2\n",
              "Life Boat                              823\n",
              "Survived                                 0\n",
              "dtype: int64"
            ]
          },
          "metadata": {
            "tags": []
          },
          "execution_count": 22
        }
      ]
    },
    {
      "cell_type": "markdown",
      "metadata": {
        "id": "fsMSAqaw06cm",
        "colab_type": "text"
      },
      "source": [
        "# Delete colum with  missing data"
      ]
    },
    {
      "cell_type": "code",
      "metadata": {
        "id": "4qlU1kZE1CTO",
        "colab_type": "code",
        "colab": {
          "base_uri": "https://localhost:8080/",
          "height": 136
        },
        "outputId": "5aba6616-80f4-4abe-ca40-4c0d170b9f95"
      },
      "source": [
        "df_clean_column =df.drop(['Name','Age','Cabin','Ticket Number','Port of Embarkation','Life Boat'],axis=1)\n",
        "df_clean_column.isnull().sum(axis=0)"
      ],
      "execution_count": 38,
      "outputs": [
        {
          "output_type": "execute_result",
          "data": {
            "text/plain": [
              "Passenger Class                       0\n",
              "Sex                                   0\n",
              "No of Siblings or Spouses on Board    0\n",
              "No of Parents or Children on Board    0\n",
              "Passenger Fare                        1\n",
              "Survived                              0\n",
              "dtype: int64"
            ]
          },
          "metadata": {
            "tags": []
          },
          "execution_count": 38
        }
      ]
    },
    {
      "cell_type": "code",
      "metadata": {
        "id": "ET1sVFam2SI9",
        "colab_type": "code",
        "colab": {
          "base_uri": "https://localhost:8080/",
          "height": 136
        },
        "outputId": "766f15ec-0000-49c4-c85b-67f3c6a9653b"
      },
      "source": [
        "df_clean_row = df_clean_column.dropna(axis=0)\n",
        "df_clean_row.isnull().sum(axis=0)"
      ],
      "execution_count": 65,
      "outputs": [
        {
          "output_type": "execute_result",
          "data": {
            "text/plain": [
              "Passenger Class                       0\n",
              "Sex                                   0\n",
              "No of Siblings or Spouses on Board    0\n",
              "No of Parents or Children on Board    0\n",
              "Passenger Fare                        0\n",
              "Survived                              0\n",
              "dtype: int64"
            ]
          },
          "metadata": {
            "tags": []
          },
          "execution_count": 65
        }
      ]
    },
    {
      "cell_type": "code",
      "metadata": {
        "id": "ygRVLrcK7nmH",
        "colab_type": "code",
        "colab": {
          "base_uri": "https://localhost:8080/",
          "height": 530
        },
        "outputId": "02e9c48c-2f5a-4d99-d154-2cf36e719ec1"
      },
      "source": [
        "df_clean_factorize = df_clean_row\n",
        "data_passenger, data_label = pd.factorize(df_clean_row['Passenger Class'])\n",
        "data_sex, data_label = pd.factorize(df_clean_row['Sex'])\n",
        "data_survived, data_label = pd.factorize(df_clean_row['Survived'])\n",
        "df_clean_factorize['Passenger Class'] = data_passenger\n",
        "df_clean_factorize['Sex'] = data_sex\n",
        "df_clean_factorize['Survived'] = data_survived\n",
        "df_clean_factorize.head()"
      ],
      "execution_count": 68,
      "outputs": [
        {
          "output_type": "stream",
          "text": [
            "/usr/local/lib/python3.6/dist-packages/ipykernel_launcher.py:5: SettingWithCopyWarning: \n",
            "A value is trying to be set on a copy of a slice from a DataFrame.\n",
            "Try using .loc[row_indexer,col_indexer] = value instead\n",
            "\n",
            "See the caveats in the documentation: http://pandas.pydata.org/pandas-docs/stable/user_guide/indexing.html#returning-a-view-versus-a-copy\n",
            "  \"\"\"\n",
            "/usr/local/lib/python3.6/dist-packages/ipykernel_launcher.py:6: SettingWithCopyWarning: \n",
            "A value is trying to be set on a copy of a slice from a DataFrame.\n",
            "Try using .loc[row_indexer,col_indexer] = value instead\n",
            "\n",
            "See the caveats in the documentation: http://pandas.pydata.org/pandas-docs/stable/user_guide/indexing.html#returning-a-view-versus-a-copy\n",
            "  \n",
            "/usr/local/lib/python3.6/dist-packages/ipykernel_launcher.py:7: SettingWithCopyWarning: \n",
            "A value is trying to be set on a copy of a slice from a DataFrame.\n",
            "Try using .loc[row_indexer,col_indexer] = value instead\n",
            "\n",
            "See the caveats in the documentation: http://pandas.pydata.org/pandas-docs/stable/user_guide/indexing.html#returning-a-view-versus-a-copy\n",
            "  import sys\n"
          ],
          "name": "stderr"
        },
        {
          "output_type": "execute_result",
          "data": {
            "text/html": [
              "<div>\n",
              "<style scoped>\n",
              "    .dataframe tbody tr th:only-of-type {\n",
              "        vertical-align: middle;\n",
              "    }\n",
              "\n",
              "    .dataframe tbody tr th {\n",
              "        vertical-align: top;\n",
              "    }\n",
              "\n",
              "    .dataframe thead th {\n",
              "        text-align: right;\n",
              "    }\n",
              "</style>\n",
              "<table border=\"1\" class=\"dataframe\">\n",
              "  <thead>\n",
              "    <tr style=\"text-align: right;\">\n",
              "      <th></th>\n",
              "      <th>Passenger Class</th>\n",
              "      <th>Sex</th>\n",
              "      <th>No of Siblings or Spouses on Board</th>\n",
              "      <th>No of Parents or Children on Board</th>\n",
              "      <th>Passenger Fare</th>\n",
              "      <th>Survived</th>\n",
              "    </tr>\n",
              "  </thead>\n",
              "  <tbody>\n",
              "    <tr>\n",
              "      <th>0</th>\n",
              "      <td>0</td>\n",
              "      <td>0</td>\n",
              "      <td>0.0</td>\n",
              "      <td>0.0</td>\n",
              "      <td>211.3</td>\n",
              "      <td>0</td>\n",
              "    </tr>\n",
              "    <tr>\n",
              "      <th>1</th>\n",
              "      <td>0</td>\n",
              "      <td>1</td>\n",
              "      <td>1.0</td>\n",
              "      <td>2.0</td>\n",
              "      <td>151.6</td>\n",
              "      <td>0</td>\n",
              "    </tr>\n",
              "    <tr>\n",
              "      <th>2</th>\n",
              "      <td>0</td>\n",
              "      <td>0</td>\n",
              "      <td>1.0</td>\n",
              "      <td>2.0</td>\n",
              "      <td>151.6</td>\n",
              "      <td>1</td>\n",
              "    </tr>\n",
              "    <tr>\n",
              "      <th>3</th>\n",
              "      <td>0</td>\n",
              "      <td>1</td>\n",
              "      <td>1.0</td>\n",
              "      <td>2.0</td>\n",
              "      <td>151.6</td>\n",
              "      <td>1</td>\n",
              "    </tr>\n",
              "    <tr>\n",
              "      <th>4</th>\n",
              "      <td>0</td>\n",
              "      <td>0</td>\n",
              "      <td>1.0</td>\n",
              "      <td>2.0</td>\n",
              "      <td>151.6</td>\n",
              "      <td>1</td>\n",
              "    </tr>\n",
              "  </tbody>\n",
              "</table>\n",
              "</div>"
            ],
            "text/plain": [
              "   Passenger Class  Sex  ...  Passenger Fare  Survived\n",
              "0                0    0  ...           211.3         0\n",
              "1                0    1  ...           151.6         0\n",
              "2                0    0  ...           151.6         1\n",
              "3                0    1  ...           151.6         1\n",
              "4                0    0  ...           151.6         1\n",
              "\n",
              "[5 rows x 6 columns]"
            ]
          },
          "metadata": {
            "tags": []
          },
          "execution_count": 68
        }
      ]
    },
    {
      "cell_type": "code",
      "metadata": {
        "id": "vHfqJqto32Db",
        "colab_type": "code",
        "colab": {
          "base_uri": "https://localhost:8080/",
          "height": 436
        },
        "outputId": "f0f5994a-5311-476d-b3e8-858caf109d9c"
      },
      "source": [
        "df_clean_row"
      ],
      "execution_count": 69,
      "outputs": [
        {
          "output_type": "execute_result",
          "data": {
            "text/html": [
              "<div>\n",
              "<style scoped>\n",
              "    .dataframe tbody tr th:only-of-type {\n",
              "        vertical-align: middle;\n",
              "    }\n",
              "\n",
              "    .dataframe tbody tr th {\n",
              "        vertical-align: top;\n",
              "    }\n",
              "\n",
              "    .dataframe thead th {\n",
              "        text-align: right;\n",
              "    }\n",
              "</style>\n",
              "<table border=\"1\" class=\"dataframe\">\n",
              "  <thead>\n",
              "    <tr style=\"text-align: right;\">\n",
              "      <th></th>\n",
              "      <th>Passenger Class</th>\n",
              "      <th>Sex</th>\n",
              "      <th>No of Siblings or Spouses on Board</th>\n",
              "      <th>No of Parents or Children on Board</th>\n",
              "      <th>Passenger Fare</th>\n",
              "      <th>Survived</th>\n",
              "    </tr>\n",
              "  </thead>\n",
              "  <tbody>\n",
              "    <tr>\n",
              "      <th>0</th>\n",
              "      <td>0</td>\n",
              "      <td>0</td>\n",
              "      <td>0.0</td>\n",
              "      <td>0.0</td>\n",
              "      <td>211.3</td>\n",
              "      <td>0</td>\n",
              "    </tr>\n",
              "    <tr>\n",
              "      <th>1</th>\n",
              "      <td>0</td>\n",
              "      <td>1</td>\n",
              "      <td>1.0</td>\n",
              "      <td>2.0</td>\n",
              "      <td>151.6</td>\n",
              "      <td>0</td>\n",
              "    </tr>\n",
              "    <tr>\n",
              "      <th>2</th>\n",
              "      <td>0</td>\n",
              "      <td>0</td>\n",
              "      <td>1.0</td>\n",
              "      <td>2.0</td>\n",
              "      <td>151.6</td>\n",
              "      <td>1</td>\n",
              "    </tr>\n",
              "    <tr>\n",
              "      <th>3</th>\n",
              "      <td>0</td>\n",
              "      <td>1</td>\n",
              "      <td>1.0</td>\n",
              "      <td>2.0</td>\n",
              "      <td>151.6</td>\n",
              "      <td>1</td>\n",
              "    </tr>\n",
              "    <tr>\n",
              "      <th>4</th>\n",
              "      <td>0</td>\n",
              "      <td>0</td>\n",
              "      <td>1.0</td>\n",
              "      <td>2.0</td>\n",
              "      <td>151.6</td>\n",
              "      <td>1</td>\n",
              "    </tr>\n",
              "    <tr>\n",
              "      <th>...</th>\n",
              "      <td>...</td>\n",
              "      <td>...</td>\n",
              "      <td>...</td>\n",
              "      <td>...</td>\n",
              "      <td>...</td>\n",
              "      <td>...</td>\n",
              "    </tr>\n",
              "    <tr>\n",
              "      <th>1304</th>\n",
              "      <td>2</td>\n",
              "      <td>0</td>\n",
              "      <td>1.0</td>\n",
              "      <td>0.0</td>\n",
              "      <td>14.5</td>\n",
              "      <td>1</td>\n",
              "    </tr>\n",
              "    <tr>\n",
              "      <th>1305</th>\n",
              "      <td>2</td>\n",
              "      <td>0</td>\n",
              "      <td>1.0</td>\n",
              "      <td>0.0</td>\n",
              "      <td>14.5</td>\n",
              "      <td>1</td>\n",
              "    </tr>\n",
              "    <tr>\n",
              "      <th>1306</th>\n",
              "      <td>2</td>\n",
              "      <td>1</td>\n",
              "      <td>0.0</td>\n",
              "      <td>0.0</td>\n",
              "      <td>7.2</td>\n",
              "      <td>1</td>\n",
              "    </tr>\n",
              "    <tr>\n",
              "      <th>1307</th>\n",
              "      <td>2</td>\n",
              "      <td>1</td>\n",
              "      <td>0.0</td>\n",
              "      <td>0.0</td>\n",
              "      <td>7.2</td>\n",
              "      <td>1</td>\n",
              "    </tr>\n",
              "    <tr>\n",
              "      <th>1308</th>\n",
              "      <td>2</td>\n",
              "      <td>1</td>\n",
              "      <td>0.0</td>\n",
              "      <td>0.0</td>\n",
              "      <td>7.9</td>\n",
              "      <td>1</td>\n",
              "    </tr>\n",
              "  </tbody>\n",
              "</table>\n",
              "<p>1308 rows × 6 columns</p>\n",
              "</div>"
            ],
            "text/plain": [
              "      Passenger Class  Sex  ...  Passenger Fare  Survived\n",
              "0                   0    0  ...           211.3         0\n",
              "1                   0    1  ...           151.6         0\n",
              "2                   0    0  ...           151.6         1\n",
              "3                   0    1  ...           151.6         1\n",
              "4                   0    0  ...           151.6         1\n",
              "...               ...  ...  ...             ...       ...\n",
              "1304                2    0  ...            14.5         1\n",
              "1305                2    0  ...            14.5         1\n",
              "1306                2    1  ...             7.2         1\n",
              "1307                2    1  ...             7.2         1\n",
              "1308                2    1  ...             7.9         1\n",
              "\n",
              "[1308 rows x 6 columns]"
            ]
          },
          "metadata": {
            "tags": []
          },
          "execution_count": 69
        }
      ]
    },
    {
      "cell_type": "markdown",
      "metadata": {
        "id": "AQpdLivm3ceE",
        "colab_type": "text"
      },
      "source": [
        "#Replace string values to unique integers"
      ]
    },
    {
      "cell_type": "markdown",
      "metadata": {
        "id": "lfMcWLblBSX3",
        "colab_type": "text"
      },
      "source": [
        "sklearn.model_selection.train_test_split"
      ]
    },
    {
      "cell_type": "code",
      "metadata": {
        "id": "RQw8q9PPBan3",
        "colab_type": "code",
        "colab": {
          "base_uri": "https://localhost:8080/",
          "height": 419
        },
        "outputId": "2f146096-7640-4cad-d486-81a55b0e4340"
      },
      "source": [
        "X= df_clean_factorize.drop(['Survived'], axis=1)\n",
        "y= df_clean_factorize['Survived']\n",
        "X"
      ],
      "execution_count": 92,
      "outputs": [
        {
          "output_type": "execute_result",
          "data": {
            "text/html": [
              "<div>\n",
              "<style scoped>\n",
              "    .dataframe tbody tr th:only-of-type {\n",
              "        vertical-align: middle;\n",
              "    }\n",
              "\n",
              "    .dataframe tbody tr th {\n",
              "        vertical-align: top;\n",
              "    }\n",
              "\n",
              "    .dataframe thead th {\n",
              "        text-align: right;\n",
              "    }\n",
              "</style>\n",
              "<table border=\"1\" class=\"dataframe\">\n",
              "  <thead>\n",
              "    <tr style=\"text-align: right;\">\n",
              "      <th></th>\n",
              "      <th>Passenger Class</th>\n",
              "      <th>Sex</th>\n",
              "      <th>No of Siblings or Spouses on Board</th>\n",
              "      <th>No of Parents or Children on Board</th>\n",
              "      <th>Passenger Fare</th>\n",
              "    </tr>\n",
              "  </thead>\n",
              "  <tbody>\n",
              "    <tr>\n",
              "      <th>0</th>\n",
              "      <td>0</td>\n",
              "      <td>0</td>\n",
              "      <td>0.0</td>\n",
              "      <td>0.0</td>\n",
              "      <td>211.3</td>\n",
              "    </tr>\n",
              "    <tr>\n",
              "      <th>1</th>\n",
              "      <td>0</td>\n",
              "      <td>1</td>\n",
              "      <td>1.0</td>\n",
              "      <td>2.0</td>\n",
              "      <td>151.6</td>\n",
              "    </tr>\n",
              "    <tr>\n",
              "      <th>2</th>\n",
              "      <td>0</td>\n",
              "      <td>0</td>\n",
              "      <td>1.0</td>\n",
              "      <td>2.0</td>\n",
              "      <td>151.6</td>\n",
              "    </tr>\n",
              "    <tr>\n",
              "      <th>3</th>\n",
              "      <td>0</td>\n",
              "      <td>1</td>\n",
              "      <td>1.0</td>\n",
              "      <td>2.0</td>\n",
              "      <td>151.6</td>\n",
              "    </tr>\n",
              "    <tr>\n",
              "      <th>4</th>\n",
              "      <td>0</td>\n",
              "      <td>0</td>\n",
              "      <td>1.0</td>\n",
              "      <td>2.0</td>\n",
              "      <td>151.6</td>\n",
              "    </tr>\n",
              "    <tr>\n",
              "      <th>...</th>\n",
              "      <td>...</td>\n",
              "      <td>...</td>\n",
              "      <td>...</td>\n",
              "      <td>...</td>\n",
              "      <td>...</td>\n",
              "    </tr>\n",
              "    <tr>\n",
              "      <th>1304</th>\n",
              "      <td>2</td>\n",
              "      <td>0</td>\n",
              "      <td>1.0</td>\n",
              "      <td>0.0</td>\n",
              "      <td>14.5</td>\n",
              "    </tr>\n",
              "    <tr>\n",
              "      <th>1305</th>\n",
              "      <td>2</td>\n",
              "      <td>0</td>\n",
              "      <td>1.0</td>\n",
              "      <td>0.0</td>\n",
              "      <td>14.5</td>\n",
              "    </tr>\n",
              "    <tr>\n",
              "      <th>1306</th>\n",
              "      <td>2</td>\n",
              "      <td>1</td>\n",
              "      <td>0.0</td>\n",
              "      <td>0.0</td>\n",
              "      <td>7.2</td>\n",
              "    </tr>\n",
              "    <tr>\n",
              "      <th>1307</th>\n",
              "      <td>2</td>\n",
              "      <td>1</td>\n",
              "      <td>0.0</td>\n",
              "      <td>0.0</td>\n",
              "      <td>7.2</td>\n",
              "    </tr>\n",
              "    <tr>\n",
              "      <th>1308</th>\n",
              "      <td>2</td>\n",
              "      <td>1</td>\n",
              "      <td>0.0</td>\n",
              "      <td>0.0</td>\n",
              "      <td>7.9</td>\n",
              "    </tr>\n",
              "  </tbody>\n",
              "</table>\n",
              "<p>1308 rows × 5 columns</p>\n",
              "</div>"
            ],
            "text/plain": [
              "      Passenger Class  Sex  ...  No of Parents or Children on Board  Passenger Fare\n",
              "0                   0    0  ...                                 0.0           211.3\n",
              "1                   0    1  ...                                 2.0           151.6\n",
              "2                   0    0  ...                                 2.0           151.6\n",
              "3                   0    1  ...                                 2.0           151.6\n",
              "4                   0    0  ...                                 2.0           151.6\n",
              "...               ...  ...  ...                                 ...             ...\n",
              "1304                2    0  ...                                 0.0            14.5\n",
              "1305                2    0  ...                                 0.0            14.5\n",
              "1306                2    1  ...                                 0.0             7.2\n",
              "1307                2    1  ...                                 0.0             7.2\n",
              "1308                2    1  ...                                 0.0             7.9\n",
              "\n",
              "[1308 rows x 5 columns]"
            ]
          },
          "metadata": {
            "tags": []
          },
          "execution_count": 92
        }
      ]
    },
    {
      "cell_type": "markdown",
      "metadata": {
        "id": "GdO1oxoHDg_H",
        "colab_type": "text"
      },
      "source": [
        "#Spit Trian&Test"
      ]
    },
    {
      "cell_type": "code",
      "metadata": {
        "id": "fM6Ifa6tCwq_",
        "colab_type": "code",
        "colab": {}
      },
      "source": [
        "import numpy as np\n",
        "from sklearn.model_selection import train_test_split\n",
        "X_train, X_test, y_train, y_test = train_test_split(X, y, test_size=0.20, random_state=0)\n"
      ],
      "execution_count": 0,
      "outputs": []
    },
    {
      "cell_type": "markdown",
      "metadata": {
        "id": "BVAclp8RDmEm",
        "colab_type": "text"
      },
      "source": [
        "# Normalization"
      ]
    },
    {
      "cell_type": "code",
      "metadata": {
        "id": "bIU_k-94Ehys",
        "colab_type": "code",
        "colab": {
          "base_uri": "https://localhost:8080/",
          "height": 136
        },
        "outputId": "a497030c-ebd3-41d5-c205-8aedd3d2687f"
      },
      "source": [
        "from sklearn.preprocessing import MinMaxScaler\n",
        "scaler = MinMaxScaler(feature_range=(0,1))\n",
        "scaler.fit(X_train)\n",
        "\n",
        "X_train_norm = scaler.transform(X_train)\n",
        "X_test_norm = scaler.transform(X_test)\n",
        "X_test_norm"
      ],
      "execution_count": 94,
      "outputs": [
        {
          "output_type": "execute_result",
          "data": {
            "text/plain": [
              "array([[1.        , 0.        , 0.        , 0.        , 0.01542065],\n",
              "       [0.5       , 1.        , 0.        , 0.        , 0.05075151],\n",
              "       [0.5       , 1.        , 0.        , 0.        , 0.        ],\n",
              "       ...,\n",
              "       [1.        , 1.        , 0.        , 0.        , 0.01522545],\n",
              "       [0.5       , 0.        , 0.        , 0.        , 0.0204958 ],\n",
              "       [1.        , 1.        , 0.        , 0.        , 0.01698224]])"
            ]
          },
          "metadata": {
            "tags": []
          },
          "execution_count": 94
        }
      ]
    },
    {
      "cell_type": "markdown",
      "metadata": {
        "id": "47zQHjStFy4U",
        "colab_type": "text"
      },
      "source": [
        "#Create Decision Tree Model"
      ]
    },
    {
      "cell_type": "code",
      "metadata": {
        "id": "3gkCKFLEF4zT",
        "colab_type": "code",
        "colab": {
          "base_uri": "https://localhost:8080/",
          "height": 119
        },
        "outputId": "33c939d9-4f03-4020-b91c-bc57eefa8c92"
      },
      "source": [
        "from sklearn.tree import DecisionTreeClassifier\n",
        "model = DecisionTreeClassifier(random_state=0, criterion='entropy')\n",
        "model.fit(X_train_norm, y_train)\n"
      ],
      "execution_count": 109,
      "outputs": [
        {
          "output_type": "execute_result",
          "data": {
            "text/plain": [
              "DecisionTreeClassifier(class_weight=None, criterion='entropy', max_depth=None,\n",
              "                       max_features=None, max_leaf_nodes=None,\n",
              "                       min_impurity_decrease=0.0, min_impurity_split=None,\n",
              "                       min_samples_leaf=1, min_samples_split=2,\n",
              "                       min_weight_fraction_leaf=0.0, presort=False,\n",
              "                       random_state=0, splitter='best')"
            ]
          },
          "metadata": {
            "tags": []
          },
          "execution_count": 109
        }
      ]
    },
    {
      "cell_type": "code",
      "metadata": {
        "id": "gNO3fn38GHDe",
        "colab_type": "code",
        "colab": {
          "base_uri": "https://localhost:8080/",
          "height": 34
        },
        "outputId": "2cde6fbc-c08d-45c8-d976-a00842a7fdcb"
      },
      "source": [
        "y_predict = model.predict(X_test_norm)\n",
        "sum(y_predict == y_test) / len(y_test)"
      ],
      "execution_count": 110,
      "outputs": [
        {
          "output_type": "execute_result",
          "data": {
            "text/plain": [
              "0.8244274809160306"
            ]
          },
          "metadata": {
            "tags": []
          },
          "execution_count": 110
        }
      ]
    }
  ]
}