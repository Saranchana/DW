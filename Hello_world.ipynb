{
  "nbformat": 4,
  "nbformat_minor": 0,
  "metadata": {
    "colab": {
      "name": "Hello world.ipynb",
      "provenance": [],
      "collapsed_sections": [],
      "include_colab_link": true
    },
    "kernelspec": {
      "name": "python3",
      "display_name": "Python 3"
    }
  },
  "cells": [
    {
      "cell_type": "markdown",
      "metadata": {
        "id": "view-in-github",
        "colab_type": "text"
      },
      "source": [
        "<a href=\"https://colab.research.google.com/github/Saranchana/DW/blob/master/Hello_world.ipynb\" target=\"_parent\"><img src=\"https://colab.research.google.com/assets/colab-badge.svg\" alt=\"Open In Colab\"/></a>"
      ]
    },
    {
      "cell_type": "code",
      "metadata": {
        "id": "m0Mdh2usiU0X",
        "colab_type": "code",
        "colab": {}
      },
      "source": [
        ""
      ],
      "execution_count": 0,
      "outputs": []
    },
    {
      "cell_type": "markdown",
      "metadata": {
        "id": "iU0fo-ZeiuvC",
        "colab_type": "text"
      },
      "source": [
        ""
      ]
    },
    {
      "cell_type": "markdown",
      "metadata": {
        "id": "pJLQWha_iw4h",
        "colab_type": "text"
      },
      "source": [
        "#Hello PyThon\n",
        "## This is my first Python Prgram\n"
      ]
    },
    {
      "cell_type": "code",
      "metadata": {
        "id": "8xbiYFpYjHOj",
        "colab_type": "code",
        "colab": {
          "base_uri": "https://localhost:8080/",
          "height": 34
        },
        "outputId": "f0f5234a-b751-4db5-8115-69442759eee4"
      },
      "source": [
        "print(\"Hello world\")\n"
      ],
      "execution_count": 10,
      "outputs": [
        {
          "output_type": "stream",
          "text": [
            "Hello world\n"
          ],
          "name": "stdout"
        }
      ]
    },
    {
      "cell_type": "code",
      "metadata": {
        "id": "NxKxVKb3jVBJ",
        "colab_type": "code",
        "colab": {}
      },
      "source": [
        ""
      ],
      "execution_count": 0,
      "outputs": []
    },
    {
      "cell_type": "markdown",
      "metadata": {
        "id": "0tDN-dTgjfSQ",
        "colab_type": "text"
      },
      "source": [
        "#DeclareVariable\n",
        "##Howto decalare variable in Python\n"
      ]
    },
    {
      "cell_type": "code",
      "metadata": {
        "id": "V0rarrc0juVx",
        "colab_type": "code",
        "colab": {
          "base_uri": "https://localhost:8080/",
          "height": 34
        },
        "outputId": "c0b0b6f4-c811-46d0-e149-eb883ea379d5"
      },
      "source": [
        "score = 100\n",
        "name = \"Saranchana\"\n",
        "print(\"name is \"+ name + \" score is \"+ str(score))"
      ],
      "execution_count": 17,
      "outputs": [
        {
          "output_type": "stream",
          "text": [
            "name is Saranchana score is 100\n"
          ],
          "name": "stdout"
        }
      ]
    },
    {
      "cell_type": "code",
      "metadata": {
        "id": "LzqgT8QPkQQA",
        "colab_type": "code",
        "colab": {
          "base_uri": "https://localhost:8080/",
          "height": 34
        },
        "outputId": "fd800668-dc15-4dcd-c132-8aa52dbfc95d"
      },
      "source": [
        "a= 2\n",
        "b= 3\n",
        "c= a*b\n",
        "print(c)"
      ],
      "execution_count": 14,
      "outputs": [
        {
          "output_type": "stream",
          "text": [
            "6\n"
          ],
          "name": "stdout"
        }
      ]
    },
    {
      "cell_type": "markdown",
      "metadata": {
        "id": "azLI56HGmyKG",
        "colab_type": "text"
      },
      "source": [
        "#List\n",
        "#Howto use list "
      ]
    },
    {
      "cell_type": "code",
      "metadata": {
        "id": "OzFvze6Ent_e",
        "colab_type": "code",
        "colab": {
          "base_uri": "https://localhost:8080/",
          "height": 34
        },
        "outputId": "b5956d33-198e-48f1-8850-89dd12b5bab1"
      },
      "source": [
        "mylist = []\n",
        "mylist.append(\"Sarachana\")\n",
        "mylist.append(200)\n",
        "mylist"
      ],
      "execution_count": 19,
      "outputs": [
        {
          "output_type": "execute_result",
          "data": {
            "text/plain": [
              "['Sarachana', 200]"
            ]
          },
          "metadata": {
            "tags": []
          },
          "execution_count": 19
        }
      ]
    },
    {
      "cell_type": "markdown",
      "metadata": {
        "id": "SSBwm_YKn2OP",
        "colab_type": "text"
      },
      "source": [
        "#IF-ElsePython\n",
        "##Howto use if-else in python"
      ]
    },
    {
      "cell_type": "code",
      "metadata": {
        "id": "2UJihA4QoB1V",
        "colab_type": "code",
        "colab": {
          "base_uri": "https://localhost:8080/",
          "height": 34
        },
        "outputId": "c1319581-c8a3-4516-9e85-5de8031a6f83"
      },
      "source": [
        "if mylist[1] > 100 :\n",
        "  print(\"Pass\")"
      ],
      "execution_count": 20,
      "outputs": [
        {
          "output_type": "stream",
          "text": [
            "Pass\n"
          ],
          "name": "stdout"
        }
      ]
    },
    {
      "cell_type": "code",
      "metadata": {
        "id": "GvROoIAAonW-",
        "colab_type": "code",
        "colab": {}
      },
      "source": [
        "If mylist[1] > 100 :\n",
        "  name = mylist[0]\n",
        "  score = mylist[1]\n",
        "  print(name)"
      ],
      "execution_count": 0,
      "outputs": []
    },
    {
      "cell_type": "code",
      "metadata": {
        "id": "buMNl6lcp0TU",
        "colab_type": "code",
        "colab": {
          "base_uri": "https://localhost:8080/",
          "height": 34
        },
        "outputId": "89bb45bf-fc87-4cb6-a62d-dbfce76c71da"
      },
      "source": [
        "score = 5\n",
        "if score > 50 :\n",
        "  print(\"A\")\n",
        "elif score >20 :\n",
        "  print(\"B\")\n",
        "else :\n",
        "  print(\"C\")\n",
        "if score == 0 :\n",
        "  print(\"F\")   "
      ],
      "execution_count": 37,
      "outputs": [
        {
          "output_type": "stream",
          "text": [
            "C\n"
          ],
          "name": "stdout"
        }
      ]
    },
    {
      "cell_type": "markdown",
      "metadata": {
        "id": "Dl_iylZiqg37",
        "colab_type": "text"
      },
      "source": [
        "#For Loop "
      ]
    },
    {
      "cell_type": "code",
      "metadata": {
        "id": "3Rd1VAz8qlJD",
        "colab_type": "code",
        "colab": {
          "base_uri": "https://localhost:8080/",
          "height": 187
        },
        "outputId": "dc41315b-df8f-4bc5-a9ab-57b231a63ed2"
      },
      "source": [
        "summation = []\n",
        "for i in range(0,10):\n",
        "  summation.append(i)\n",
        "\n",
        "for i in summation :\n",
        "  print(str(i))"
      ],
      "execution_count": 30,
      "outputs": [
        {
          "output_type": "stream",
          "text": [
            "0\n",
            "1\n",
            "2\n",
            "3\n",
            "4\n",
            "5\n",
            "6\n",
            "7\n",
            "8\n",
            "9\n"
          ],
          "name": "stdout"
        }
      ]
    },
    {
      "cell_type": "code",
      "metadata": {
        "id": "Z1Mm4KBRr-f7",
        "colab_type": "code",
        "colab": {
          "base_uri": "https://localhost:8080/",
          "height": 187
        },
        "outputId": "f06c0bdb-2f6a-4fb9-fe36-9513a4064729"
      },
      "source": [
        "summation = []\n",
        "a = 0\n",
        "for i in range(0,10):\n",
        "  a = a + 5\n",
        "  summation.append(a)\n",
        "\n",
        "for i in summation :\n",
        "  print(str(i))"
      ],
      "execution_count": 31,
      "outputs": [
        {
          "output_type": "stream",
          "text": [
            "5\n",
            "10\n",
            "15\n",
            "20\n",
            "25\n",
            "30\n",
            "35\n",
            "40\n",
            "45\n",
            "50\n"
          ],
          "name": "stdout"
        }
      ]
    },
    {
      "cell_type": "markdown",
      "metadata": {
        "id": "kzbGzYmCsjvE",
        "colab_type": "text"
      },
      "source": [
        "#For each Loop"
      ]
    },
    {
      "cell_type": "code",
      "metadata": {
        "id": "YQSKKk9zsoaC",
        "colab_type": "code",
        "colab": {
          "base_uri": "https://localhost:8080/",
          "height": 187
        },
        "outputId": "4646351f-ee19-4f40-eb8b-27f60ceb5eab"
      },
      "source": [
        "for i in summation :\n",
        "  print(str(i))"
      ],
      "execution_count": 38,
      "outputs": [
        {
          "output_type": "stream",
          "text": [
            "5\n",
            "10\n",
            "15\n",
            "20\n",
            "25\n",
            "30\n",
            "35\n",
            "40\n",
            "45\n",
            "50\n"
          ],
          "name": "stdout"
        }
      ]
    },
    {
      "cell_type": "markdown",
      "metadata": {
        "id": "pTOWiWuuvU6w",
        "colab_type": "text"
      },
      "source": [
        "#Numpy\n",
        "##Library for matrix operation\n",
        "### CREATE ARRAY"
      ]
    },
    {
      "cell_type": "code",
      "metadata": {
        "id": "UcPnvjxxvhCw",
        "colab_type": "code",
        "colab": {
          "base_uri": "https://localhost:8080/",
          "height": 34
        },
        "outputId": "efd03632-88c5-4ebb-dd6b-6e64429db0e2"
      },
      "source": [
        "import numpy as np\n",
        "l = [1, 2, 3, 4]\n",
        "np_array = np.array(1)\n",
        "type(np_array)"
      ],
      "execution_count": 40,
      "outputs": [
        {
          "output_type": "execute_result",
          "data": {
            "text/plain": [
              "numpy.ndarray"
            ]
          },
          "metadata": {
            "tags": []
          },
          "execution_count": 40
        }
      ]
    },
    {
      "cell_type": "markdown",
      "metadata": {
        "id": "iUZ5Ig4gwlgO",
        "colab_type": "text"
      },
      "source": [
        "### CREATE MATRIX\n"
      ]
    },
    {
      "cell_type": "code",
      "metadata": {
        "id": "nnIBuTCqwuO-",
        "colab_type": "code",
        "colab": {}
      },
      "source": [
        "np_matrix = np.array([[1,2],[3,4],[5,6]])\n"
      ],
      "execution_count": 0,
      "outputs": []
    },
    {
      "cell_type": "code",
      "metadata": {
        "id": "EewY6B3_xfFt",
        "colab_type": "code",
        "colab": {
          "base_uri": "https://localhost:8080/",
          "height": 68
        },
        "outputId": "36516b06-2738-42d4-9000-1def73e2d2ed"
      },
      "source": [
        "np_matrix\n"
      ],
      "execution_count": 49,
      "outputs": [
        {
          "output_type": "execute_result",
          "data": {
            "text/plain": [
              "array([[1, 2],\n",
              "       [3, 4],\n",
              "       [5, 6]])"
            ]
          },
          "metadata": {
            "tags": []
          },
          "execution_count": 49
        }
      ]
    },
    {
      "cell_type": "markdown",
      "metadata": {
        "id": "dzz3xDJPxn8F",
        "colab_type": "text"
      },
      "source": [
        "###CHEC KMATRX SIZE"
      ]
    },
    {
      "cell_type": "code",
      "metadata": {
        "id": "U6Wkcai-x12F",
        "colab_type": "code",
        "colab": {
          "base_uri": "https://localhost:8080/",
          "height": 34
        },
        "outputId": "25f5467d-a22d-48a4-aa0d-cacc5ff289b9"
      },
      "source": [
        "np.size(np_matrix,0)"
      ],
      "execution_count": 50,
      "outputs": [
        {
          "output_type": "execute_result",
          "data": {
            "text/plain": [
              "3"
            ]
          },
          "metadata": {
            "tags": []
          },
          "execution_count": 50
        }
      ]
    },
    {
      "cell_type": "code",
      "metadata": {
        "id": "JgJVXwxJx8KX",
        "colab_type": "code",
        "colab": {
          "base_uri": "https://localhost:8080/",
          "height": 34
        },
        "outputId": "2d0186fd-6ccb-46a9-fba8-db036dffccbf"
      },
      "source": [
        "np.size(np_matrix,1)"
      ],
      "execution_count": 51,
      "outputs": [
        {
          "output_type": "execute_result",
          "data": {
            "text/plain": [
              "2"
            ]
          },
          "metadata": {
            "tags": []
          },
          "execution_count": 51
        }
      ]
    },
    {
      "cell_type": "markdown",
      "metadata": {
        "id": "A34ujmvUyFUt",
        "colab_type": "text"
      },
      "source": [
        "###CHECK MATRIX PROPERTIES"
      ]
    },
    {
      "cell_type": "code",
      "metadata": {
        "id": "gTkiLiWwyPyW",
        "colab_type": "code",
        "colab": {
          "base_uri": "https://localhost:8080/",
          "height": 34
        },
        "outputId": "fcab5439-c3ed-499c-879e-65ac94cf6436"
      },
      "source": [
        "np_matrix.shape"
      ],
      "execution_count": 52,
      "outputs": [
        {
          "output_type": "execute_result",
          "data": {
            "text/plain": [
              "(3, 2)"
            ]
          },
          "metadata": {
            "tags": []
          },
          "execution_count": 52
        }
      ]
    },
    {
      "cell_type": "code",
      "metadata": {
        "id": "C210kXwMyS1z",
        "colab_type": "code",
        "colab": {
          "base_uri": "https://localhost:8080/",
          "height": 34
        },
        "outputId": "d86832f9-36b6-4f2c-a1da-f23829fe4b02"
      },
      "source": [
        "np_matrix.ndim"
      ],
      "execution_count": 53,
      "outputs": [
        {
          "output_type": "execute_result",
          "data": {
            "text/plain": [
              "2"
            ]
          },
          "metadata": {
            "tags": []
          },
          "execution_count": 53
        }
      ]
    },
    {
      "cell_type": "code",
      "metadata": {
        "id": "QsqmQE5eyXET",
        "colab_type": "code",
        "colab": {
          "base_uri": "https://localhost:8080/",
          "height": 34
        },
        "outputId": "2350787e-5ea6-44e5-c87a-1d740243a5ed"
      },
      "source": [
        "np_matrix.size"
      ],
      "execution_count": 54,
      "outputs": [
        {
          "output_type": "execute_result",
          "data": {
            "text/plain": [
              "6"
            ]
          },
          "metadata": {
            "tags": []
          },
          "execution_count": 54
        }
      ]
    },
    {
      "cell_type": "markdown",
      "metadata": {
        "id": "-7OFdQuEyda9",
        "colab_type": "text"
      },
      "source": [
        "###MATRIX CAN BE MIX TYPE (auto castig)"
      ]
    },
    {
      "cell_type": "code",
      "metadata": {
        "id": "LTOV-R51yu18",
        "colab_type": "code",
        "colab": {}
      },
      "source": [
        "np_mix_matrix = np.array([['one',2],['three',4],['five',6]])\n",
        "\n"
      ],
      "execution_count": 0,
      "outputs": []
    },
    {
      "cell_type": "code",
      "metadata": {
        "id": "XhnWdQAp0rgE",
        "colab_type": "code",
        "colab": {
          "base_uri": "https://localhost:8080/",
          "height": 68
        },
        "outputId": "207c54a6-95fd-4391-924a-62e4d08d69e6"
      },
      "source": [
        "np_mix_matrix"
      ],
      "execution_count": 70,
      "outputs": [
        {
          "output_type": "execute_result",
          "data": {
            "text/plain": [
              "array([['one', '2'],\n",
              "       ['three', '4'],\n",
              "       ['five', '6']], dtype='<U5')"
            ]
          },
          "metadata": {
            "tags": []
          },
          "execution_count": 70
        }
      ]
    },
    {
      "cell_type": "markdown",
      "metadata": {
        "id": "Segj_gh-z6sF",
        "colab_type": "text"
      },
      "source": [
        "###ACCESS DATA ELEMET"
      ]
    },
    {
      "cell_type": "code",
      "metadata": {
        "id": "yfzh3Pxn0NC9",
        "colab_type": "code",
        "colab": {
          "base_uri": "https://localhost:8080/",
          "height": 34
        },
        "outputId": "0a717b22-7c98-449f-ea47-54f713820a31"
      },
      "source": [
        "np_mix_matrix[0,1]"
      ],
      "execution_count": 71,
      "outputs": [
        {
          "output_type": "execute_result",
          "data": {
            "text/plain": [
              "'2'"
            ]
          },
          "metadata": {
            "tags": []
          },
          "execution_count": 71
        }
      ]
    },
    {
      "cell_type": "code",
      "metadata": {
        "id": "X-9HqLnL0-NL",
        "colab_type": "code",
        "colab": {
          "base_uri": "https://localhost:8080/",
          "height": 34
        },
        "outputId": "f137411e-1f50-4bf0-a08e-9cc65ed007d0"
      },
      "source": [
        "np_mix_matrix[:,0]"
      ],
      "execution_count": 72,
      "outputs": [
        {
          "output_type": "execute_result",
          "data": {
            "text/plain": [
              "array(['one', 'three', 'five'], dtype='<U5')"
            ]
          },
          "metadata": {
            "tags": []
          },
          "execution_count": 72
        }
      ]
    },
    {
      "cell_type": "code",
      "metadata": {
        "id": "fVXp1ty_1DVV",
        "colab_type": "code",
        "colab": {
          "base_uri": "https://localhost:8080/",
          "height": 34
        },
        "outputId": "f8adb7c1-ad53-49ed-e2b1-cd5c2abedf80"
      },
      "source": [
        "np_mix_matrix[0,]"
      ],
      "execution_count": 73,
      "outputs": [
        {
          "output_type": "execute_result",
          "data": {
            "text/plain": [
              "array(['one', '2'], dtype='<U5')"
            ]
          },
          "metadata": {
            "tags": []
          },
          "execution_count": 73
        }
      ]
    },
    {
      "cell_type": "markdown",
      "metadata": {
        "id": "ymmHdx6G1NOG",
        "colab_type": "text"
      },
      "source": [
        "###ACCESS DATA&TYPE CASTING"
      ]
    },
    {
      "cell_type": "markdown",
      "metadata": {
        "id": "75DFUVf_1h2D",
        "colab_type": "text"
      },
      "source": [
        "Access element from row 0 to row1"
      ]
    },
    {
      "cell_type": "code",
      "metadata": {
        "id": "9ArP7xdY1W6t",
        "colab_type": "code",
        "colab": {
          "base_uri": "https://localhost:8080/",
          "height": 51
        },
        "outputId": "c07524e6-4cf2-4fb6-a48d-953413fb8e2c"
      },
      "source": [
        "np_mix_matrix[0:2,]"
      ],
      "execution_count": 74,
      "outputs": [
        {
          "output_type": "execute_result",
          "data": {
            "text/plain": [
              "array([['one', '2'],\n",
              "       ['three', '4']], dtype='<U5')"
            ]
          },
          "metadata": {
            "tags": []
          },
          "execution_count": 74
        }
      ]
    },
    {
      "cell_type": "markdown",
      "metadata": {
        "id": "bgi0B5lZ1qX7",
        "colab_type": "text"
      },
      "source": [
        "Type casting ndarray oject"
      ]
    },
    {
      "cell_type": "code",
      "metadata": {
        "id": "WsGMU9CY1xB6",
        "colab_type": "code",
        "colab": {
          "base_uri": "https://localhost:8080/",
          "height": 34
        },
        "outputId": "cb5187cd-8522-4112-d473-7dbc9521b8a3"
      },
      "source": [
        "np.array(np_mix_matrix[:,1], dtype = int)"
      ],
      "execution_count": 76,
      "outputs": [
        {
          "output_type": "execute_result",
          "data": {
            "text/plain": [
              "array([2, 4, 6])"
            ]
          },
          "metadata": {
            "tags": []
          },
          "execution_count": 76
        }
      ]
    },
    {
      "cell_type": "markdown",
      "metadata": {
        "id": "Pcnn8_x42D6C",
        "colab_type": "text"
      },
      "source": [
        "###GEERATE MATRIX OF ZEROS& ONES\n",
        "create matrix  ofzeros"
      ]
    },
    {
      "cell_type": "code",
      "metadata": {
        "id": "JSmgX9_I2ZzK",
        "colab_type": "code",
        "colab": {
          "base_uri": "https://localhost:8080/",
          "height": 51
        },
        "outputId": "469504ce-31de-4f45-cf4b-aba42f12fbc7"
      },
      "source": [
        "np.zeros([2,3])"
      ],
      "execution_count": 77,
      "outputs": [
        {
          "output_type": "execute_result",
          "data": {
            "text/plain": [
              "array([[0., 0., 0.],\n",
              "       [0., 0., 0.]])"
            ]
          },
          "metadata": {
            "tags": []
          },
          "execution_count": 77
        }
      ]
    },
    {
      "cell_type": "code",
      "metadata": {
        "id": "vXJmdzLc2nED",
        "colab_type": "code",
        "colab": {
          "base_uri": "https://localhost:8080/",
          "height": 102
        },
        "outputId": "499a84d9-344f-4aff-81ce-d578c4c4e238"
      },
      "source": [
        "np.ones([5,5])"
      ],
      "execution_count": 78,
      "outputs": [
        {
          "output_type": "execute_result",
          "data": {
            "text/plain": [
              "array([[1., 1., 1., 1., 1.],\n",
              "       [1., 1., 1., 1., 1.],\n",
              "       [1., 1., 1., 1., 1.],\n",
              "       [1., 1., 1., 1., 1.],\n",
              "       [1., 1., 1., 1., 1.]])"
            ]
          },
          "metadata": {
            "tags": []
          },
          "execution_count": 78
        }
      ]
    },
    {
      "cell_type": "markdown",
      "metadata": {
        "id": "9-wX7t8r2yfL",
        "colab_type": "text"
      },
      "source": [
        "###GENERATE EYEATRX &EMPTY "
      ]
    },
    {
      "cell_type": "code",
      "metadata": {
        "id": "jAg6tMUd27sS",
        "colab_type": "code",
        "colab": {
          "base_uri": "https://localhost:8080/",
          "height": 102
        },
        "outputId": "eea9e32b-f60b-48d8-e239-7aa02288ca3f"
      },
      "source": [
        "np.eye(5)"
      ],
      "execution_count": 79,
      "outputs": [
        {
          "output_type": "execute_result",
          "data": {
            "text/plain": [
              "array([[1., 0., 0., 0., 0.],\n",
              "       [0., 1., 0., 0., 0.],\n",
              "       [0., 0., 1., 0., 0.],\n",
              "       [0., 0., 0., 1., 0.],\n",
              "       [0., 0., 0., 0., 1.]])"
            ]
          },
          "metadata": {
            "tags": []
          },
          "execution_count": 79
        }
      ]
    },
    {
      "cell_type": "code",
      "metadata": {
        "id": "lq4p7Ogn2-tz",
        "colab_type": "code",
        "colab": {
          "base_uri": "https://localhost:8080/",
          "height": 102
        },
        "outputId": "f807bf09-ee18-4451-f53f-da114867c625"
      },
      "source": [
        "np.empty([5,5])"
      ],
      "execution_count": 80,
      "outputs": [
        {
          "output_type": "execute_result",
          "data": {
            "text/plain": [
              "array([[1., 0., 0., 0., 0.],\n",
              "       [0., 1., 0., 0., 0.],\n",
              "       [0., 0., 1., 0., 0.],\n",
              "       [0., 0., 0., 1., 0.],\n",
              "       [0., 0., 0., 0., 1.]])"
            ]
          },
          "metadata": {
            "tags": []
          },
          "execution_count": 80
        }
      ]
    },
    {
      "cell_type": "markdown",
      "metadata": {
        "id": "UoS6bh_t3NzJ",
        "colab_type": "text"
      },
      "source": [
        "###GENERATE RANDOM MATRIX"
      ]
    },
    {
      "cell_type": "code",
      "metadata": {
        "id": "5zw84KSs3WP5",
        "colab_type": "code",
        "colab": {
          "base_uri": "https://localhost:8080/",
          "height": 102
        },
        "outputId": "1e7144c0-4cad-4de5-f22c-8f7d029cc37f"
      },
      "source": [
        "np.random.rand(5,5)"
      ],
      "execution_count": 81,
      "outputs": [
        {
          "output_type": "execute_result",
          "data": {
            "text/plain": [
              "array([[0.13440857, 0.29365842, 0.00338301, 0.07155356, 0.37722375],\n",
              "       [0.36155705, 0.06055105, 0.36876248, 0.00615488, 0.82920024],\n",
              "       [0.11129341, 0.05333495, 0.79053902, 0.55901833, 0.84236907],\n",
              "       [0.33991492, 0.45927917, 0.6654775 , 0.94588753, 0.63099223],\n",
              "       [0.80840436, 0.73246113, 0.92239021, 0.18654804, 0.4630779 ]])"
            ]
          },
          "metadata": {
            "tags": []
          },
          "execution_count": 81
        }
      ]
    },
    {
      "cell_type": "markdown",
      "metadata": {
        "id": "qISb0sel3z9i",
        "colab_type": "text"
      },
      "source": [
        "having value between 0 to 4"
      ]
    },
    {
      "cell_type": "code",
      "metadata": {
        "id": "g1JTqLtm3mI5",
        "colab_type": "code",
        "colab": {
          "base_uri": "https://localhost:8080/",
          "height": 68
        },
        "outputId": "eb55185e-ef43-4a25-f42c-af83d0f543ef"
      },
      "source": [
        "np.random.randint(5,size = (3,3))"
      ],
      "execution_count": 82,
      "outputs": [
        {
          "output_type": "execute_result",
          "data": {
            "text/plain": [
              "array([[4, 4, 0],\n",
              "       [1, 2, 2],\n",
              "       [0, 4, 1]])"
            ]
          },
          "metadata": {
            "tags": []
          },
          "execution_count": 82
        }
      ]
    },
    {
      "cell_type": "markdown",
      "metadata": {
        "id": "OxjB4uZQ4Hoc",
        "colab_type": "text"
      },
      "source": [
        "###RANDOM VS. RANDOM NORMAL DISTRIUTION\n",
        "Uniform Random Distriution VS Normal"
      ]
    },
    {
      "cell_type": "code",
      "metadata": {
        "id": "aE4U1BrD4q94",
        "colab_type": "code",
        "colab": {
          "base_uri": "https://localhost:8080/",
          "height": 214
        },
        "outputId": "e08b1cbd-079c-4143-dc63-c64fd13f8bcc"
      },
      "source": [
        "import matplotlib.pyplot as plt\n",
        "fig, axes = plt.subplots(1,2,figsize=(8,3))\n",
        "axes[0].hist(np.random.rand(1000))\n",
        "axes[1].hist(np.random.randn(1000))\n",
        "plt.show()"
      ],
      "execution_count": 84,
      "outputs": [
        {
          "output_type": "display_data",
          "data": {
            "image/png": "[encoded data removed]",
            "text/plain": [
              "<Figure size 576x216 with 2 Axes>"
            ]
          },
          "metadata": {
            "tags": []
          }
        }
      ]
    },
    {
      "cell_type": "markdown",
      "metadata": {
        "id": "NhiCU-w35gYJ",
        "colab_type": "text"
      },
      "source": [
        "###SAMPLNIG DATA\n",
        "rang between 0 to 4"
      ]
    },
    {
      "cell_type": "code",
      "metadata": {
        "id": "ogsl_j905pvY",
        "colab_type": "code",
        "colab": {
          "base_uri": "https://localhost:8080/",
          "height": 34
        },
        "outputId": "5d3d16ef-7294-4970-c312-7653fb82e074"
      },
      "source": [
        "np.random.choice(5,3,replace= False)"
      ],
      "execution_count": 85,
      "outputs": [
        {
          "output_type": "execute_result",
          "data": {
            "text/plain": [
              "array([2, 0, 1])"
            ]
          },
          "metadata": {
            "tags": []
          },
          "execution_count": 85
        }
      ]
    },
    {
      "cell_type": "code",
      "metadata": {
        "id": "979-HoDi5zyE",
        "colab_type": "code",
        "colab": {
          "base_uri": "https://localhost:8080/",
          "height": 68
        },
        "outputId": "f8cb99f9-11a5-4ed6-fdfb-f909085baeab"
      },
      "source": [
        "np_matrix =np.random.rand(5,5)\n",
        "idx_choose= np.random.choice(5,3,replace= False)\n",
        "np_matrix_choose = np_matrix[idx_choose,:]\n",
        "np_matrix_choose"
      ],
      "execution_count": 87,
      "outputs": [
        {
          "output_type": "execute_result",
          "data": {
            "text/plain": [
              "array([[0.70619394, 0.18415176, 0.75987473, 0.51736008, 0.97405016],\n",
              "       [0.66751855, 0.83506384, 0.96372192, 0.57189379, 0.60014516],\n",
              "       [0.89180436, 0.94848231, 0.31626424, 0.75470315, 0.25748722]])"
            ]
          },
          "metadata": {
            "tags": []
          },
          "execution_count": 87
        }
      ]
    },
    {
      "cell_type": "markdown",
      "metadata": {
        "id": "0sTL3pYI6tM3",
        "colab_type": "text"
      },
      "source": [
        "#Ex1."
      ]
    },
    {
      "cell_type": "code",
      "metadata": {
        "id": "yth1p3Bj9DpI",
        "colab_type": "code",
        "colab": {
          "base_uri": "https://localhost:8080/",
          "height": 187
        },
        "outputId": "c0c3d103-a296-43d0-8b58-df1d4af44d0b"
      },
      "source": [
        "a = np.random.rand(10,5)\n",
        "b = np.random.randint(2,size = (10))\n",
        "a[:,4] = b\n",
        "a"
      ],
      "execution_count": 126,
      "outputs": [
        {
          "output_type": "execute_result",
          "data": {
            "text/plain": [
              "array([[0.40172055, 0.68810285, 0.43703986, 0.22495498, 0.        ],\n",
              "       [0.59613055, 0.93315245, 0.06943153, 0.07986909, 1.        ],\n",
              "       [0.85695663, 0.49970012, 0.29200185, 0.65456735, 1.        ],\n",
              "       [0.12887696, 0.0333674 , 0.26797916, 0.40708928, 1.        ],\n",
              "       [0.40456807, 0.68679899, 0.77044419, 0.81017585, 1.        ],\n",
              "       [0.65436853, 0.2674153 , 0.72642979, 0.98629651, 0.        ],\n",
              "       [0.57442871, 0.46164575, 0.68006096, 0.33424607, 0.        ],\n",
              "       [0.64232748, 0.72165799, 0.72409989, 0.47556996, 0.        ],\n",
              "       [0.54910772, 0.41568578, 0.90555934, 0.10441086, 1.        ],\n",
              "       [0.64053271, 0.70782676, 0.77824125, 0.36774433, 0.        ]])"
            ]
          },
          "metadata": {
            "tags": []
          },
          "execution_count": 126
        }
      ]
    },
    {
      "cell_type": "markdown",
      "metadata": {
        "id": "9BSB7PpRAoRc",
        "colab_type": "text"
      },
      "source": [
        "###DELETE ROW ORCOLUMN FROMMATRIX"
      ]
    },
    {
      "cell_type": "code",
      "metadata": {
        "id": "H4uaW_7oBFpD",
        "colab_type": "code",
        "colab": {
          "base_uri": "https://localhost:8080/",
          "height": 102
        },
        "outputId": "dca5ca6f-4943-4736-8019-dd32b90ec510"
      },
      "source": [
        "np_matrix = np.random.randint(11,size =(5,5))\n",
        "np_matrix"
      ],
      "execution_count": 128,
      "outputs": [
        {
          "output_type": "execute_result",
          "data": {
            "text/plain": [
              "array([[ 6,  1,  5,  2,  6],\n",
              "       [ 5,  3,  5, 10,  7],\n",
              "       [ 9,  6,  1,  8,  1],\n",
              "       [ 3,  4,  4,  6,  4],\n",
              "       [10, 10,  6,  8,  0]])"
            ]
          },
          "metadata": {
            "tags": []
          },
          "execution_count": 128
        }
      ]
    },
    {
      "cell_type": "markdown",
      "metadata": {
        "id": "1eKCEItqBP0z",
        "colab_type": "text"
      },
      "source": [
        "delete row 2 and 3 from this matrix\n"
      ]
    },
    {
      "cell_type": "code",
      "metadata": {
        "id": "S2gklBV5BYxS",
        "colab_type": "code",
        "colab": {
          "base_uri": "https://localhost:8080/",
          "height": 68
        },
        "outputId": "ca8e379d-f046-4e8d-9a04-8d474763f110"
      },
      "source": [
        "np_matrix =np.delete(np_matrix,[1,2],0)\n",
        "np_matrix"
      ],
      "execution_count": 129,
      "outputs": [
        {
          "output_type": "execute_result",
          "data": {
            "text/plain": [
              "array([[ 6,  1,  5,  2,  6],\n",
              "       [ 3,  4,  4,  6,  4],\n",
              "       [10, 10,  6,  8,  0]])"
            ]
          },
          "metadata": {
            "tags": []
          },
          "execution_count": 129
        }
      ]
    },
    {
      "cell_type": "markdown",
      "metadata": {
        "id": "lsab_XRCBruJ",
        "colab_type": "text"
      },
      "source": [
        "###FIND ELEMENT IN MATRIX\n"
      ]
    },
    {
      "cell_type": "code",
      "metadata": {
        "id": "hPrwrWOwCPHA",
        "colab_type": "code",
        "colab": {
          "base_uri": "https://localhost:8080/",
          "height": 102
        },
        "outputId": "b76e5c61-600e-48f9-a930-1ba767da7880"
      },
      "source": [
        "np_matrix = np.random.randint(3,size = (5,5))\n",
        "np_matrix"
      ],
      "execution_count": 133,
      "outputs": [
        {
          "output_type": "execute_result",
          "data": {
            "text/plain": [
              "array([[0, 2, 1, 0, 0],\n",
              "       [1, 0, 1, 2, 2],\n",
              "       [1, 0, 0, 2, 2],\n",
              "       [0, 2, 0, 0, 1],\n",
              "       [0, 2, 1, 1, 2]])"
            ]
          },
          "metadata": {
            "tags": []
          },
          "execution_count": 133
        }
      ]
    },
    {
      "cell_type": "code",
      "metadata": {
        "id": "a14C69ksCifg",
        "colab_type": "code",
        "colab": {
          "base_uri": "https://localhost:8080/",
          "height": 34
        },
        "outputId": "21cef874-4843-4a21-bfe6-3573c97a8719"
      },
      "source": [
        "result = np.where(np_matrix ==2)\n",
        "result"
      ],
      "execution_count": 135,
      "outputs": [
        {
          "output_type": "execute_result",
          "data": {
            "text/plain": [
              "(array([0, 1, 1, 2, 2, 3, 4, 4]), array([1, 3, 4, 3, 4, 1, 1, 4]))"
            ]
          },
          "metadata": {
            "tags": []
          },
          "execution_count": 135
        }
      ]
    },
    {
      "cell_type": "code",
      "metadata": {
        "id": "7dUqzuTZB1QQ",
        "colab_type": "code",
        "colab": {
          "base_uri": "https://localhost:8080/",
          "height": 102
        },
        "outputId": "dd5a7be5-898e-4c8c-ca6d-15c5f1d78644"
      },
      "source": [
        "result = (np_matrix ==2)\n",
        "result"
      ],
      "execution_count": 134,
      "outputs": [
        {
          "output_type": "execute_result",
          "data": {
            "text/plain": [
              "array([[False,  True, False, False, False],\n",
              "       [False, False, False,  True,  True],\n",
              "       [False, False, False,  True,  True],\n",
              "       [False,  True, False, False, False],\n",
              "       [False,  True, False, False,  True]])"
            ]
          },
          "metadata": {
            "tags": []
          },
          "execution_count": 134
        }
      ]
    },
    {
      "cell_type": "markdown",
      "metadata": {
        "id": "emKKDR0hDxMx",
        "colab_type": "text"
      },
      "source": [
        "###Find and Replace Values"
      ]
    },
    {
      "cell_type": "code",
      "metadata": {
        "id": "JBTLc6EMEIDo",
        "colab_type": "code",
        "colab": {
          "base_uri": "https://localhost:8080/",
          "height": 102
        },
        "outputId": "69f18094-ad97-4e76-ea35-06af8af343c4"
      },
      "source": [
        "np_matrix[result]=99\n",
        "np_matrix"
      ],
      "execution_count": 138,
      "outputs": [
        {
          "output_type": "execute_result",
          "data": {
            "text/plain": [
              "array([[ 0, 99,  1,  0,  0],\n",
              "       [ 1,  0,  1, 99, 99],\n",
              "       [ 1,  0,  0, 99, 99],\n",
              "       [ 0, 99,  0,  0,  1],\n",
              "       [ 0, 99,  1,  1, 99]])"
            ]
          },
          "metadata": {
            "tags": []
          },
          "execution_count": 138
        }
      ]
    },
    {
      "cell_type": "markdown",
      "metadata": {
        "id": "d9jcXfC2EYWI",
        "colab_type": "text"
      },
      "source": [
        "#Ex2.\n"
      ]
    },
    {
      "cell_type": "code",
      "metadata": {
        "id": "ycYMFb0yEd63",
        "colab_type": "code",
        "colab": {
          "base_uri": "https://localhost:8080/",
          "height": 187
        },
        "outputId": "5c49425c-1f98-4361-93e0-d5fe0e76f5c0"
      },
      "source": [
        "np_matrix = np.random.rand(10,5)\n",
        "np_matrix"
      ],
      "execution_count": 139,
      "outputs": [
        {
          "output_type": "execute_result",
          "data": {
            "text/plain": [
              "array([[0.65825592, 0.02095553, 0.68154957, 0.57096564, 0.54425235],\n",
              "       [0.88975532, 0.13078891, 0.21503802, 0.04553692, 0.60796774],\n",
              "       [0.32739742, 0.4200992 , 0.21139165, 0.57346181, 0.17619834],\n",
              "       [0.495062  , 0.66642125, 0.6647712 , 0.01984852, 0.27275308],\n",
              "       [0.27785301, 0.27798013, 0.36779755, 0.50291167, 0.40340768],\n",
              "       [0.85211678, 0.62213761, 0.2767868 , 0.17990163, 0.94877684],\n",
              "       [0.62535919, 0.31180806, 0.96484287, 0.88761954, 0.68826483],\n",
              "       [0.94787782, 0.41107186, 0.7751073 , 0.97196231, 0.44971486],\n",
              "       [0.83341568, 0.16467656, 0.39383982, 0.92598755, 0.31013285],\n",
              "       [0.79495326, 0.92280253, 0.39237603, 0.85106636, 0.67125072]])"
            ]
          },
          "metadata": {
            "tags": []
          },
          "execution_count": 139
        }
      ]
    },
    {
      "cell_type": "code",
      "metadata": {
        "id": "M0R3bEOOEv0X",
        "colab_type": "code",
        "colab": {
          "base_uri": "https://localhost:8080/",
          "height": 34
        },
        "outputId": "33509709-8400-4415-fde4-253c3af1ccf2"
      },
      "source": [
        "b = np.random.randint(3,size = 10)\n",
        "b"
      ],
      "execution_count": 141,
      "outputs": [
        {
          "output_type": "execute_result",
          "data": {
            "text/plain": [
              "array([1, 2, 2, 1, 2, 2, 2, 1, 2, 1])"
            ]
          },
          "metadata": {
            "tags": []
          },
          "execution_count": 141
        }
      ]
    },
    {
      "cell_type": "code",
      "metadata": {
        "id": "RBofBluVFRTZ",
        "colab_type": "code",
        "colab": {
          "base_uri": "https://localhost:8080/",
          "height": 34
        },
        "outputId": "67f35d35-199b-4fd0-ea26-f6c4b5fd769a"
      },
      "source": [
        "result = np.where(b ==2)\n",
        "result"
      ],
      "execution_count": 143,
      "outputs": [
        {
          "output_type": "execute_result",
          "data": {
            "text/plain": [
              "(array([1, 2, 4, 5, 6, 8]),)"
            ]
          },
          "metadata": {
            "tags": []
          },
          "execution_count": 143
        }
      ]
    },
    {
      "cell_type": "code",
      "metadata": {
        "id": "CUAT_jddFjCa",
        "colab_type": "code",
        "colab": {
          "base_uri": "https://localhost:8080/",
          "height": 119
        },
        "outputId": "0932842c-0905-478a-9beb-ab4ad11c27fa"
      },
      "source": [
        "np_matrix = np_matrix[result]\n",
        "np_matrix"
      ],
      "execution_count": 145,
      "outputs": [
        {
          "output_type": "execute_result",
          "data": {
            "text/plain": [
              "array([[0.88975532, 0.13078891, 0.21503802, 0.04553692, 0.60796774],\n",
              "       [0.32739742, 0.4200992 , 0.21139165, 0.57346181, 0.17619834],\n",
              "       [0.27785301, 0.27798013, 0.36779755, 0.50291167, 0.40340768],\n",
              "       [0.85211678, 0.62213761, 0.2767868 , 0.17990163, 0.94877684],\n",
              "       [0.62535919, 0.31180806, 0.96484287, 0.88761954, 0.68826483],\n",
              "       [0.83341568, 0.16467656, 0.39383982, 0.92598755, 0.31013285]])"
            ]
          },
          "metadata": {
            "tags": []
          },
          "execution_count": 145
        }
      ]
    }
  ]
}