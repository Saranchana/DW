{
  "nbformat": 4,
  "nbformat_minor": 0,
  "metadata": {
    "colab": {
      "name": "Hello world.ipynb",
      "provenance": [],
      "collapsed_sections": [],
      "include_colab_link": true
    },
    "kernelspec": {
      "name": "python3",
      "display_name": "Python 3"
    }
  },
  "cells": [
    {
      "cell_type": "markdown",
      "metadata": {
        "id": "view-in-github",
        "colab_type": "text"
      },
      "source": [
        "<a href=\"https://colab.research.google.com/github/Saranchana/DW/blob/master/Hello_world.ipynb\" target=\"_parent\"><img src=\"https://colab.research.google.com/assets/colab-badge.svg\" alt=\"Open In Colab\"/></a>"
      ]
    },
    {
      "cell_type": "markdown",
      "metadata": {
        "id": "pJLQWha_iw4h",
        "colab_type": "text"
      },
      "source": [
        "#Hello PyThon\n",
        "## This is my first Python Prgram\n"
      ]
    },
    {
      "cell_type": "code",
      "metadata": {
        "id": "8xbiYFpYjHOj",
        "colab_type": "code",
        "outputId": "f0f5234a-b751-4db5-8115-69442759eee4",
        "colab": {
          "base_uri": "https://localhost:8080/",
          "height": 34
        }
      },
      "source": [
        "print(\"Hello world\")\n"
      ],
      "execution_count": 0,
      "outputs": [
        {
          "output_type": "stream",
          "text": [
            "Hello world\n"
          ],
          "name": "stdout"
        }
      ]
    },
    {
      "cell_type": "code",
      "metadata": {
        "id": "NxKxVKb3jVBJ",
        "colab_type": "code",
        "colab": {}
      },
      "source": [
        ""
      ],
      "execution_count": 0,
      "outputs": []
    },
    {
      "cell_type": "markdown",
      "metadata": {
        "id": "0tDN-dTgjfSQ",
        "colab_type": "text"
      },
      "source": [
        "#DeclareVariable\n",
        "##Howto decalare variable in Python\n"
      ]
    },
    {
      "cell_type": "code",
      "metadata": {
        "id": "V0rarrc0juVx",
        "colab_type": "code",
        "outputId": "c0b0b6f4-c811-46d0-e149-eb883ea379d5",
        "colab": {
          "base_uri": "https://localhost:8080/",
          "height": 34
        }
      },
      "source": [
        "score = 100\n",
        "name = \"Saranchana\"\n",
        "print(\"name is \"+ name + \" score is \"+ str(score))"
      ],
      "execution_count": 0,
      "outputs": [
        {
          "output_type": "stream",
          "text": [
            "name is Saranchana score is 100\n"
          ],
          "name": "stdout"
        }
      ]
    },
    {
      "cell_type": "code",
      "metadata": {
        "id": "LzqgT8QPkQQA",
        "colab_type": "code",
        "outputId": "fd800668-dc15-4dcd-c132-8aa52dbfc95d",
        "colab": {
          "base_uri": "https://localhost:8080/",
          "height": 34
        }
      },
      "source": [
        "a= 2\n",
        "b= 3\n",
        "c= a*b\n",
        "print(c)"
      ],
      "execution_count": 0,
      "outputs": [
        {
          "output_type": "stream",
          "text": [
            "6\n"
          ],
          "name": "stdout"
        }
      ]
    },
    {
      "cell_type": "markdown",
      "metadata": {
        "id": "azLI56HGmyKG",
        "colab_type": "text"
      },
      "source": [
        "#List\n",
        "#Howto use list "
      ]
    },
    {
      "cell_type": "code",
      "metadata": {
        "id": "OzFvze6Ent_e",
        "colab_type": "code",
        "outputId": "b5956d33-198e-48f1-8850-89dd12b5bab1",
        "colab": {
          "base_uri": "https://localhost:8080/",
          "height": 34
        }
      },
      "source": [
        "mylist = []\n",
        "mylist.append(\"Sarachana\")\n",
        "mylist.append(200)\n",
        "mylist"
      ],
      "execution_count": 0,
      "outputs": [
        {
          "output_type": "execute_result",
          "data": {
            "text/plain": [
              "['Sarachana', 200]"
            ]
          },
          "metadata": {
            "tags": []
          },
          "execution_count": 19
        }
      ]
    },
    {
      "cell_type": "markdown",
      "metadata": {
        "id": "SSBwm_YKn2OP",
        "colab_type": "text"
      },
      "source": [
        "#IF-ElsePython\n",
        "##Howto use if-else in python"
      ]
    },
    {
      "cell_type": "code",
      "metadata": {
        "id": "2UJihA4QoB1V",
        "colab_type": "code",
        "outputId": "c1319581-c8a3-4516-9e85-5de8031a6f83",
        "colab": {
          "base_uri": "https://localhost:8080/",
          "height": 34
        }
      },
      "source": [
        "if mylist[1] > 100 :\n",
        "  print(\"Pass\")"
      ],
      "execution_count": 0,
      "outputs": [
        {
          "output_type": "stream",
          "text": [
            "Pass\n"
          ],
          "name": "stdout"
        }
      ]
    },
    {
      "cell_type": "code",
      "metadata": {
        "id": "GvROoIAAonW-",
        "colab_type": "code",
        "colab": {}
      },
      "source": [
        "If mylist[1] > 100 :\n",
        "  name = mylist[0]\n",
        "  score = mylist[1]\n",
        "  print(name)"
      ],
      "execution_count": 0,
      "outputs": []
    },
    {
      "cell_type": "code",
      "metadata": {
        "id": "buMNl6lcp0TU",
        "colab_type": "code",
        "outputId": "89bb45bf-fc87-4cb6-a62d-dbfce76c71da",
        "colab": {
          "base_uri": "https://localhost:8080/",
          "height": 34
        }
      },
      "source": [
        "score = 5\n",
        "if score > 50 :\n",
        "  print(\"A\")\n",
        "elif score >20 :\n",
        "  print(\"B\")\n",
        "else :\n",
        "  print(\"C\")\n",
        "if score == 0 :\n",
        "  print(\"F\")   "
      ],
      "execution_count": 0,
      "outputs": [
        {
          "output_type": "stream",
          "text": [
            "C\n"
          ],
          "name": "stdout"
        }
      ]
    },
    {
      "cell_type": "markdown",
      "metadata": {
        "id": "Dl_iylZiqg37",
        "colab_type": "text"
      },
      "source": [
        "#For Loop "
      ]
    },
    {
      "cell_type": "code",
      "metadata": {
        "id": "3Rd1VAz8qlJD",
        "colab_type": "code",
        "outputId": "dc41315b-df8f-4bc5-a9ab-57b231a63ed2",
        "colab": {
          "base_uri": "https://localhost:8080/",
          "height": 187
        }
      },
      "source": [
        "summation = []\n",
        "for i in range(0,10):\n",
        "  summation.append(i)\n",
        "\n",
        "for i in summation :\n",
        "  print(str(i))"
      ],
      "execution_count": 0,
      "outputs": [
        {
          "output_type": "stream",
          "text": [
            "0\n",
            "1\n",
            "2\n",
            "3\n",
            "4\n",
            "5\n",
            "6\n",
            "7\n",
            "8\n",
            "9\n"
          ],
          "name": "stdout"
        }
      ]
    },
    {
      "cell_type": "code",
      "metadata": {
        "id": "Z1Mm4KBRr-f7",
        "colab_type": "code",
        "outputId": "f06c0bdb-2f6a-4fb9-fe36-9513a4064729",
        "colab": {
          "base_uri": "https://localhost:8080/",
          "height": 187
        }
      },
      "source": [
        "summation = []\n",
        "a = 0\n",
        "for i in range(0,10):\n",
        "  a = a + 5\n",
        "  summation.append(a)\n",
        "\n",
        "for i in summation :\n",
        "  print(str(i))"
      ],
      "execution_count": 0,
      "outputs": [
        {
          "output_type": "stream",
          "text": [
            "5\n",
            "10\n",
            "15\n",
            "20\n",
            "25\n",
            "30\n",
            "35\n",
            "40\n",
            "45\n",
            "50\n"
          ],
          "name": "stdout"
        }
      ]
    },
    {
      "cell_type": "markdown",
      "metadata": {
        "id": "kzbGzYmCsjvE",
        "colab_type": "text"
      },
      "source": [
        "#For each Loop"
      ]
    },
    {
      "cell_type": "code",
      "metadata": {
        "id": "YQSKKk9zsoaC",
        "colab_type": "code",
        "outputId": "4646351f-ee19-4f40-eb8b-27f60ceb5eab",
        "colab": {
          "base_uri": "https://localhost:8080/",
          "height": 187
        }
      },
      "source": [
        "for i in summation :\n",
        "  print(str(i))"
      ],
      "execution_count": 0,
      "outputs": [
        {
          "output_type": "stream",
          "text": [
            "5\n",
            "10\n",
            "15\n",
            "20\n",
            "25\n",
            "30\n",
            "35\n",
            "40\n",
            "45\n",
            "50\n"
          ],
          "name": "stdout"
        }
      ]
    },
    {
      "cell_type": "markdown",
      "metadata": {
        "id": "pTOWiWuuvU6w",
        "colab_type": "text"
      },
      "source": [
        "#Numpy\n",
        "##Library for matrix operation\n",
        "### CREATE ARRAY"
      ]
    },
    {
      "cell_type": "code",
      "metadata": {
        "id": "UcPnvjxxvhCw",
        "colab_type": "code",
        "outputId": "613e0c7b-5566-4831-9d46-643f4d934313",
        "colab": {
          "base_uri": "https://localhost:8080/",
          "height": 35
        }
      },
      "source": [
        "import numpy as np\n",
        "l = [1, 2, 3, 4]\n",
        "np_array = np.array(1)\n",
        "type(np_array)"
      ],
      "execution_count": 0,
      "outputs": [
        {
          "output_type": "execute_result",
          "data": {
            "text/plain": [
              "numpy.ndarray"
            ]
          },
          "metadata": {
            "tags": []
          },
          "execution_count": 30
        }
      ]
    },
    {
      "cell_type": "markdown",
      "metadata": {
        "id": "iUZ5Ig4gwlgO",
        "colab_type": "text"
      },
      "source": [
        "### CREATE MATRIX\n"
      ]
    },
    {
      "cell_type": "code",
      "metadata": {
        "id": "nnIBuTCqwuO-",
        "colab_type": "code",
        "colab": {}
      },
      "source": [
        "np_matrix = np.array([[1,2],[3,4],[5,6]])\n"
      ],
      "execution_count": 0,
      "outputs": []
    },
    {
      "cell_type": "code",
      "metadata": {
        "id": "EewY6B3_xfFt",
        "colab_type": "code",
        "outputId": "36516b06-2738-42d4-9000-1def73e2d2ed",
        "colab": {
          "base_uri": "https://localhost:8080/",
          "height": 68
        }
      },
      "source": [
        "np_matrix\n"
      ],
      "execution_count": 0,
      "outputs": [
        {
          "output_type": "execute_result",
          "data": {
            "text/plain": [
              "array([[1, 2],\n",
              "       [3, 4],\n",
              "       [5, 6]])"
            ]
          },
          "metadata": {
            "tags": []
          },
          "execution_count": 49
        }
      ]
    },
    {
      "cell_type": "markdown",
      "metadata": {
        "id": "dzz3xDJPxn8F",
        "colab_type": "text"
      },
      "source": [
        "###CHEC KMATRX SIZE"
      ]
    },
    {
      "cell_type": "code",
      "metadata": {
        "id": "U6Wkcai-x12F",
        "colab_type": "code",
        "outputId": "25f5467d-a22d-48a4-aa0d-cacc5ff289b9",
        "colab": {
          "base_uri": "https://localhost:8080/",
          "height": 34
        }
      },
      "source": [
        "np.size(np_matrix,0)"
      ],
      "execution_count": 0,
      "outputs": [
        {
          "output_type": "execute_result",
          "data": {
            "text/plain": [
              "3"
            ]
          },
          "metadata": {
            "tags": []
          },
          "execution_count": 50
        }
      ]
    },
    {
      "cell_type": "code",
      "metadata": {
        "id": "JgJVXwxJx8KX",
        "colab_type": "code",
        "outputId": "2d0186fd-6ccb-46a9-fba8-db036dffccbf",
        "colab": {
          "base_uri": "https://localhost:8080/",
          "height": 34
        }
      },
      "source": [
        "np.size(np_matrix,1)"
      ],
      "execution_count": 0,
      "outputs": [
        {
          "output_type": "execute_result",
          "data": {
            "text/plain": [
              "2"
            ]
          },
          "metadata": {
            "tags": []
          },
          "execution_count": 51
        }
      ]
    },
    {
      "cell_type": "markdown",
      "metadata": {
        "id": "A34ujmvUyFUt",
        "colab_type": "text"
      },
      "source": [
        "###CHECK MATRIX PROPERTIES"
      ]
    },
    {
      "cell_type": "code",
      "metadata": {
        "id": "gTkiLiWwyPyW",
        "colab_type": "code",
        "outputId": "fcab5439-c3ed-499c-879e-65ac94cf6436",
        "colab": {
          "base_uri": "https://localhost:8080/",
          "height": 34
        }
      },
      "source": [
        "np_matrix.shape"
      ],
      "execution_count": 0,
      "outputs": [
        {
          "output_type": "execute_result",
          "data": {
            "text/plain": [
              "(3, 2)"
            ]
          },
          "metadata": {
            "tags": []
          },
          "execution_count": 52
        }
      ]
    },
    {
      "cell_type": "code",
      "metadata": {
        "id": "C210kXwMyS1z",
        "colab_type": "code",
        "outputId": "d86832f9-36b6-4f2c-a1da-f23829fe4b02",
        "colab": {
          "base_uri": "https://localhost:8080/",
          "height": 34
        }
      },
      "source": [
        "np_matrix.ndim"
      ],
      "execution_count": 0,
      "outputs": [
        {
          "output_type": "execute_result",
          "data": {
            "text/plain": [
              "2"
            ]
          },
          "metadata": {
            "tags": []
          },
          "execution_count": 53
        }
      ]
    },
    {
      "cell_type": "code",
      "metadata": {
        "id": "QsqmQE5eyXET",
        "colab_type": "code",
        "outputId": "2350787e-5ea6-44e5-c87a-1d740243a5ed",
        "colab": {
          "base_uri": "https://localhost:8080/",
          "height": 34
        }
      },
      "source": [
        "np_matrix.size"
      ],
      "execution_count": 0,
      "outputs": [
        {
          "output_type": "execute_result",
          "data": {
            "text/plain": [
              "6"
            ]
          },
          "metadata": {
            "tags": []
          },
          "execution_count": 54
        }
      ]
    },
    {
      "cell_type": "markdown",
      "metadata": {
        "id": "-7OFdQuEyda9",
        "colab_type": "text"
      },
      "source": [
        "###MATRIX CAN BE MIX TYPE (auto castig)"
      ]
    },
    {
      "cell_type": "code",
      "metadata": {
        "id": "LTOV-R51yu18",
        "colab_type": "code",
        "colab": {}
      },
      "source": [
        "np_mix_matrix = np.array([['one',2],['three',4],['five',6]])\n",
        "\n"
      ],
      "execution_count": 0,
      "outputs": []
    },
    {
      "cell_type": "code",
      "metadata": {
        "id": "XhnWdQAp0rgE",
        "colab_type": "code",
        "outputId": "207c54a6-95fd-4391-924a-62e4d08d69e6",
        "colab": {
          "base_uri": "https://localhost:8080/",
          "height": 68
        }
      },
      "source": [
        "np_mix_matrix"
      ],
      "execution_count": 0,
      "outputs": [
        {
          "output_type": "execute_result",
          "data": {
            "text/plain": [
              "array([['one', '2'],\n",
              "       ['three', '4'],\n",
              "       ['five', '6']], dtype='<U5')"
            ]
          },
          "metadata": {
            "tags": []
          },
          "execution_count": 70
        }
      ]
    },
    {
      "cell_type": "markdown",
      "metadata": {
        "id": "Segj_gh-z6sF",
        "colab_type": "text"
      },
      "source": [
        "###ACCESS DATA ELEMET"
      ]
    },
    {
      "cell_type": "code",
      "metadata": {
        "id": "yfzh3Pxn0NC9",
        "colab_type": "code",
        "outputId": "0a717b22-7c98-449f-ea47-54f713820a31",
        "colab": {
          "base_uri": "https://localhost:8080/",
          "height": 34
        }
      },
      "source": [
        "np_mix_matrix[0,1]"
      ],
      "execution_count": 0,
      "outputs": [
        {
          "output_type": "execute_result",
          "data": {
            "text/plain": [
              "'2'"
            ]
          },
          "metadata": {
            "tags": []
          },
          "execution_count": 71
        }
      ]
    },
    {
      "cell_type": "code",
      "metadata": {
        "id": "X-9HqLnL0-NL",
        "colab_type": "code",
        "outputId": "f137411e-1f50-4bf0-a08e-9cc65ed007d0",
        "colab": {
          "base_uri": "https://localhost:8080/",
          "height": 34
        }
      },
      "source": [
        "np_mix_matrix[:,0]"
      ],
      "execution_count": 0,
      "outputs": [
        {
          "output_type": "execute_result",
          "data": {
            "text/plain": [
              "array(['one', 'three', 'five'], dtype='<U5')"
            ]
          },
          "metadata": {
            "tags": []
          },
          "execution_count": 72
        }
      ]
    },
    {
      "cell_type": "code",
      "metadata": {
        "id": "fVXp1ty_1DVV",
        "colab_type": "code",
        "outputId": "f8adb7c1-ad53-49ed-e2b1-cd5c2abedf80",
        "colab": {
          "base_uri": "https://localhost:8080/",
          "height": 34
        }
      },
      "source": [
        "np_mix_matrix[0,]"
      ],
      "execution_count": 0,
      "outputs": [
        {
          "output_type": "execute_result",
          "data": {
            "text/plain": [
              "array(['one', '2'], dtype='<U5')"
            ]
          },
          "metadata": {
            "tags": []
          },
          "execution_count": 73
        }
      ]
    },
    {
      "cell_type": "markdown",
      "metadata": {
        "id": "ymmHdx6G1NOG",
        "colab_type": "text"
      },
      "source": [
        "###ACCESS DATA&TYPE CASTING"
      ]
    },
    {
      "cell_type": "markdown",
      "metadata": {
        "id": "75DFUVf_1h2D",
        "colab_type": "text"
      },
      "source": [
        "Access element from row 0 to row1"
      ]
    },
    {
      "cell_type": "code",
      "metadata": {
        "id": "9ArP7xdY1W6t",
        "colab_type": "code",
        "outputId": "c07524e6-4cf2-4fb6-a48d-953413fb8e2c",
        "colab": {
          "base_uri": "https://localhost:8080/",
          "height": 51
        }
      },
      "source": [
        "np_mix_matrix[0:2,]"
      ],
      "execution_count": 0,
      "outputs": [
        {
          "output_type": "execute_result",
          "data": {
            "text/plain": [
              "array([['one', '2'],\n",
              "       ['three', '4']], dtype='<U5')"
            ]
          },
          "metadata": {
            "tags": []
          },
          "execution_count": 74
        }
      ]
    },
    {
      "cell_type": "markdown",
      "metadata": {
        "id": "bgi0B5lZ1qX7",
        "colab_type": "text"
      },
      "source": [
        "Type casting ndarray oject"
      ]
    },
    {
      "cell_type": "code",
      "metadata": {
        "id": "WsGMU9CY1xB6",
        "colab_type": "code",
        "outputId": "cb5187cd-8522-4112-d473-7dbc9521b8a3",
        "colab": {
          "base_uri": "https://localhost:8080/",
          "height": 34
        }
      },
      "source": [
        "np.array(np_mix_matrix[:,1], dtype = int)"
      ],
      "execution_count": 0,
      "outputs": [
        {
          "output_type": "execute_result",
          "data": {
            "text/plain": [
              "array([2, 4, 6])"
            ]
          },
          "metadata": {
            "tags": []
          },
          "execution_count": 76
        }
      ]
    },
    {
      "cell_type": "markdown",
      "metadata": {
        "id": "Pcnn8_x42D6C",
        "colab_type": "text"
      },
      "source": [
        "###GEERATE MATRIX OF ZEROS& ONES\n",
        "create matrix  ofzeros"
      ]
    },
    {
      "cell_type": "code",
      "metadata": {
        "id": "JSmgX9_I2ZzK",
        "colab_type": "code",
        "outputId": "469504ce-31de-4f45-cf4b-aba42f12fbc7",
        "colab": {
          "base_uri": "https://localhost:8080/",
          "height": 51
        }
      },
      "source": [
        "np.zeros([2,3])"
      ],
      "execution_count": 0,
      "outputs": [
        {
          "output_type": "execute_result",
          "data": {
            "text/plain": [
              "array([[0., 0., 0.],\n",
              "       [0., 0., 0.]])"
            ]
          },
          "metadata": {
            "tags": []
          },
          "execution_count": 77
        }
      ]
    },
    {
      "cell_type": "code",
      "metadata": {
        "id": "vXJmdzLc2nED",
        "colab_type": "code",
        "outputId": "499a84d9-344f-4aff-81ce-d578c4c4e238",
        "colab": {
          "base_uri": "https://localhost:8080/",
          "height": 102
        }
      },
      "source": [
        "np.ones([5,5])"
      ],
      "execution_count": 0,
      "outputs": [
        {
          "output_type": "execute_result",
          "data": {
            "text/plain": [
              "array([[1., 1., 1., 1., 1.],\n",
              "       [1., 1., 1., 1., 1.],\n",
              "       [1., 1., 1., 1., 1.],\n",
              "       [1., 1., 1., 1., 1.],\n",
              "       [1., 1., 1., 1., 1.]])"
            ]
          },
          "metadata": {
            "tags": []
          },
          "execution_count": 78
        }
      ]
    },
    {
      "cell_type": "markdown",
      "metadata": {
        "id": "9-wX7t8r2yfL",
        "colab_type": "text"
      },
      "source": [
        "###GENERATE EYEATRX &EMPTY "
      ]
    },
    {
      "cell_type": "code",
      "metadata": {
        "id": "jAg6tMUd27sS",
        "colab_type": "code",
        "outputId": "eea9e32b-f60b-48d8-e239-7aa02288ca3f",
        "colab": {
          "base_uri": "https://localhost:8080/",
          "height": 102
        }
      },
      "source": [
        "np.eye(5)"
      ],
      "execution_count": 0,
      "outputs": [
        {
          "output_type": "execute_result",
          "data": {
            "text/plain": [
              "array([[1., 0., 0., 0., 0.],\n",
              "       [0., 1., 0., 0., 0.],\n",
              "       [0., 0., 1., 0., 0.],\n",
              "       [0., 0., 0., 1., 0.],\n",
              "       [0., 0., 0., 0., 1.]])"
            ]
          },
          "metadata": {
            "tags": []
          },
          "execution_count": 79
        }
      ]
    },
    {
      "cell_type": "code",
      "metadata": {
        "id": "lq4p7Ogn2-tz",
        "colab_type": "code",
        "outputId": "f807bf09-ee18-4451-f53f-da114867c625",
        "colab": {
          "base_uri": "https://localhost:8080/",
          "height": 102
        }
      },
      "source": [
        "np.empty([5,5])"
      ],
      "execution_count": 0,
      "outputs": [
        {
          "output_type": "execute_result",
          "data": {
            "text/plain": [
              "array([[1., 0., 0., 0., 0.],\n",
              "       [0., 1., 0., 0., 0.],\n",
              "       [0., 0., 1., 0., 0.],\n",
              "       [0., 0., 0., 1., 0.],\n",
              "       [0., 0., 0., 0., 1.]])"
            ]
          },
          "metadata": {
            "tags": []
          },
          "execution_count": 80
        }
      ]
    },
    {
      "cell_type": "markdown",
      "metadata": {
        "id": "UoS6bh_t3NzJ",
        "colab_type": "text"
      },
      "source": [
        "###GENERATE RANDOM MATRIX"
      ]
    },
    {
      "cell_type": "code",
      "metadata": {
        "id": "5zw84KSs3WP5",
        "colab_type": "code",
        "outputId": "1e7144c0-4cad-4de5-f22c-8f7d029cc37f",
        "colab": {
          "base_uri": "https://localhost:8080/",
          "height": 102
        }
      },
      "source": [
        "np.random.rand(5,5)"
      ],
      "execution_count": 0,
      "outputs": [
        {
          "output_type": "execute_result",
          "data": {
            "text/plain": [
              "array([[0.13440857, 0.29365842, 0.00338301, 0.07155356, 0.37722375],\n",
              "       [0.36155705, 0.06055105, 0.36876248, 0.00615488, 0.82920024],\n",
              "       [0.11129341, 0.05333495, 0.79053902, 0.55901833, 0.84236907],\n",
              "       [0.33991492, 0.45927917, 0.6654775 , 0.94588753, 0.63099223],\n",
              "       [0.80840436, 0.73246113, 0.92239021, 0.18654804, 0.4630779 ]])"
            ]
          },
          "metadata": {
            "tags": []
          },
          "execution_count": 81
        }
      ]
    },
    {
      "cell_type": "markdown",
      "metadata": {
        "id": "qISb0sel3z9i",
        "colab_type": "text"
      },
      "source": [
        "having value between 0 to 4"
      ]
    },
    {
      "cell_type": "code",
      "metadata": {
        "id": "g1JTqLtm3mI5",
        "colab_type": "code",
        "outputId": "eb55185e-ef43-4a25-f42c-af83d0f543ef",
        "colab": {
          "base_uri": "https://localhost:8080/",
          "height": 68
        }
      },
      "source": [
        "np.random.randint(5,size = (3,3))"
      ],
      "execution_count": 0,
      "outputs": [
        {
          "output_type": "execute_result",
          "data": {
            "text/plain": [
              "array([[4, 4, 0],\n",
              "       [1, 2, 2],\n",
              "       [0, 4, 1]])"
            ]
          },
          "metadata": {
            "tags": []
          },
          "execution_count": 82
        }
      ]
    },
    {
      "cell_type": "markdown",
      "metadata": {
        "id": "OxjB4uZQ4Hoc",
        "colab_type": "text"
      },
      "source": [
        "###RANDOM VS. RANDOM NORMAL DISTRIUTION\n",
        "Uniform Random Distriution VS Normal"
      ]
    },
    {
      "cell_type": "code",
      "metadata": {
        "id": "aE4U1BrD4q94",
        "colab_type": "code",
        "outputId": "e08b1cbd-079c-4143-dc63-c64fd13f8bcc",
        "colab": {
          "base_uri": "https://localhost:8080/",
          "height": 214
        }
      },
      "source": [
        "import matplotlib.pyplot as plt\n",
        "fig, axes = plt.subplots(1,2,figsize=(8,3))\n",
        "axes[0].hist(np.random.rand(1000))\n",
        "axes[1].hist(np.random.randn(1000))\n",
        "plt.show()"
      ],
      "execution_count": 0,
      "outputs": [
        {
          "output_type": "display_data",
          "data": {
            "image/png": "[encoded data removed]",
            "text/plain": [
              "<Figure size 576x216 with 2 Axes>"
            ]
          },
          "metadata": {
            "tags": []
          }
        }
      ]
    },
    {
      "cell_type": "markdown",
      "metadata": {
        "id": "NhiCU-w35gYJ",
        "colab_type": "text"
      },
      "source": [
        "###SAMPLNIG DATA\n",
        "rang between 0 to 4"
      ]
    },
    {
      "cell_type": "code",
      "metadata": {
        "id": "ogsl_j905pvY",
        "colab_type": "code",
        "outputId": "5d3d16ef-7294-4970-c312-7653fb82e074",
        "colab": {
          "base_uri": "https://localhost:8080/",
          "height": 34
        }
      },
      "source": [
        "np.random.choice(5,3,replace= False)"
      ],
      "execution_count": 0,
      "outputs": [
        {
          "output_type": "execute_result",
          "data": {
            "text/plain": [
              "array([2, 0, 1])"
            ]
          },
          "metadata": {
            "tags": []
          },
          "execution_count": 85
        }
      ]
    },
    {
      "cell_type": "code",
      "metadata": {
        "id": "979-HoDi5zyE",
        "colab_type": "code",
        "outputId": "f8cb99f9-11a5-4ed6-fdfb-f909085baeab",
        "colab": {
          "base_uri": "https://localhost:8080/",
          "height": 68
        }
      },
      "source": [
        "np_matrix =np.random.rand(5,5)\n",
        "idx_choose= np.random.choice(5,3,replace= False)\n",
        "np_matrix_choose = np_matrix[idx_choose,:]\n",
        "np_matrix_choose"
      ],
      "execution_count": 0,
      "outputs": [
        {
          "output_type": "execute_result",
          "data": {
            "text/plain": [
              "array([[0.70619394, 0.18415176, 0.75987473, 0.51736008, 0.97405016],\n",
              "       [0.66751855, 0.83506384, 0.96372192, 0.57189379, 0.60014516],\n",
              "       [0.89180436, 0.94848231, 0.31626424, 0.75470315, 0.25748722]])"
            ]
          },
          "metadata": {
            "tags": []
          },
          "execution_count": 87
        }
      ]
    },
    {
      "cell_type": "markdown",
      "metadata": {
        "id": "0sTL3pYI6tM3",
        "colab_type": "text"
      },
      "source": [
        "#Ex1."
      ]
    },
    {
      "cell_type": "code",
      "metadata": {
        "id": "yth1p3Bj9DpI",
        "colab_type": "code",
        "outputId": "d5adb2bb-4cf0-4cc3-cf76-ffbfd9b9c036",
        "colab": {
          "base_uri": "https://localhost:8080/",
          "height": 197
        }
      },
      "source": [
        "a = np.random.rand(10,5)\n",
        "b = np.random.randint(2,size = (10))\n",
        "a[:,4] = b\n",
        "a"
      ],
      "execution_count": 0,
      "outputs": [
        {
          "output_type": "execute_result",
          "data": {
            "text/plain": [
              "array([[0.22503514, 0.07622773, 0.22861168, 0.94489793, 0.        ],\n",
              "       [0.82467593, 0.80341344, 0.45462798, 0.62066825, 0.        ],\n",
              "       [0.64087728, 0.0875117 , 0.29363691, 0.75020154, 0.        ],\n",
              "       [0.36582576, 0.90122426, 0.38008297, 0.09824347, 0.        ],\n",
              "       [0.98211689, 0.53073389, 0.29472561, 0.35245487, 1.        ],\n",
              "       [0.55580558, 0.22980616, 0.92385036, 0.04129969, 1.        ],\n",
              "       [0.86594078, 0.91426414, 0.18473761, 0.64180048, 0.        ],\n",
              "       [0.78765382, 0.17214755, 0.89853603, 0.14109899, 0.        ],\n",
              "       [0.09721034, 0.91690427, 0.2844146 , 0.4786832 , 1.        ],\n",
              "       [0.15182514, 0.7391211 , 0.08758949, 0.74354506, 1.        ]])"
            ]
          },
          "metadata": {
            "tags": []
          },
          "execution_count": 31
        }
      ]
    },
    {
      "cell_type": "markdown",
      "metadata": {
        "id": "9BSB7PpRAoRc",
        "colab_type": "text"
      },
      "source": [
        "###DELETE ROW ORCOLUMN FROMMATRIX"
      ]
    },
    {
      "cell_type": "code",
      "metadata": {
        "id": "H4uaW_7oBFpD",
        "colab_type": "code",
        "outputId": "dca5ca6f-4943-4736-8019-dd32b90ec510",
        "colab": {
          "base_uri": "https://localhost:8080/",
          "height": 102
        }
      },
      "source": [
        "np_matrix = np.random.randint(11,size =(5,5))\n",
        "np_matrix"
      ],
      "execution_count": 0,
      "outputs": [
        {
          "output_type": "execute_result",
          "data": {
            "text/plain": [
              "array([[ 6,  1,  5,  2,  6],\n",
              "       [ 5,  3,  5, 10,  7],\n",
              "       [ 9,  6,  1,  8,  1],\n",
              "       [ 3,  4,  4,  6,  4],\n",
              "       [10, 10,  6,  8,  0]])"
            ]
          },
          "metadata": {
            "tags": []
          },
          "execution_count": 128
        }
      ]
    },
    {
      "cell_type": "markdown",
      "metadata": {
        "id": "1eKCEItqBP0z",
        "colab_type": "text"
      },
      "source": [
        "delete row 2 and 3 from this matrix\n"
      ]
    },
    {
      "cell_type": "code",
      "metadata": {
        "id": "S2gklBV5BYxS",
        "colab_type": "code",
        "outputId": "ca8e379d-f046-4e8d-9a04-8d474763f110",
        "colab": {
          "base_uri": "https://localhost:8080/",
          "height": 68
        }
      },
      "source": [
        "np_matrix =np.delete(np_matrix,[1,2],0)\n",
        "np_matrix"
      ],
      "execution_count": 0,
      "outputs": [
        {
          "output_type": "execute_result",
          "data": {
            "text/plain": [
              "array([[ 6,  1,  5,  2,  6],\n",
              "       [ 3,  4,  4,  6,  4],\n",
              "       [10, 10,  6,  8,  0]])"
            ]
          },
          "metadata": {
            "tags": []
          },
          "execution_count": 129
        }
      ]
    },
    {
      "cell_type": "markdown",
      "metadata": {
        "id": "lsab_XRCBruJ",
        "colab_type": "text"
      },
      "source": [
        "###FIND ELEMENT IN MATRIX\n"
      ]
    },
    {
      "cell_type": "code",
      "metadata": {
        "id": "hPrwrWOwCPHA",
        "colab_type": "code",
        "outputId": "b76e5c61-600e-48f9-a930-1ba767da7880",
        "colab": {
          "base_uri": "https://localhost:8080/",
          "height": 102
        }
      },
      "source": [
        "np_matrix = np.random.randint(3,size = (5,5))\n",
        "np_matrix"
      ],
      "execution_count": 0,
      "outputs": [
        {
          "output_type": "execute_result",
          "data": {
            "text/plain": [
              "array([[0, 2, 1, 0, 0],\n",
              "       [1, 0, 1, 2, 2],\n",
              "       [1, 0, 0, 2, 2],\n",
              "       [0, 2, 0, 0, 1],\n",
              "       [0, 2, 1, 1, 2]])"
            ]
          },
          "metadata": {
            "tags": []
          },
          "execution_count": 133
        }
      ]
    },
    {
      "cell_type": "code",
      "metadata": {
        "id": "a14C69ksCifg",
        "colab_type": "code",
        "outputId": "21cef874-4843-4a21-bfe6-3573c97a8719",
        "colab": {
          "base_uri": "https://localhost:8080/",
          "height": 34
        }
      },
      "source": [
        "result = np.where(np_matrix ==2)\n",
        "result"
      ],
      "execution_count": 0,
      "outputs": [
        {
          "output_type": "execute_result",
          "data": {
            "text/plain": [
              "(array([0, 1, 1, 2, 2, 3, 4, 4]), array([1, 3, 4, 3, 4, 1, 1, 4]))"
            ]
          },
          "metadata": {
            "tags": []
          },
          "execution_count": 135
        }
      ]
    },
    {
      "cell_type": "code",
      "metadata": {
        "id": "7dUqzuTZB1QQ",
        "colab_type": "code",
        "outputId": "dd5a7be5-898e-4c8c-ca6d-15c5f1d78644",
        "colab": {
          "base_uri": "https://localhost:8080/",
          "height": 102
        }
      },
      "source": [
        "result = (np_matrix ==2)\n",
        "result"
      ],
      "execution_count": 0,
      "outputs": [
        {
          "output_type": "execute_result",
          "data": {
            "text/plain": [
              "array([[False,  True, False, False, False],\n",
              "       [False, False, False,  True,  True],\n",
              "       [False, False, False,  True,  True],\n",
              "       [False,  True, False, False, False],\n",
              "       [False,  True, False, False,  True]])"
            ]
          },
          "metadata": {
            "tags": []
          },
          "execution_count": 134
        }
      ]
    },
    {
      "cell_type": "markdown",
      "metadata": {
        "id": "emKKDR0hDxMx",
        "colab_type": "text"
      },
      "source": [
        "###Find and Replace Values"
      ]
    },
    {
      "cell_type": "code",
      "metadata": {
        "id": "JBTLc6EMEIDo",
        "colab_type": "code",
        "outputId": "69f18094-ad97-4e76-ea35-06af8af343c4",
        "colab": {
          "base_uri": "https://localhost:8080/",
          "height": 102
        }
      },
      "source": [
        "np_matrix[result]=99\n",
        "np_matrix"
      ],
      "execution_count": 0,
      "outputs": [
        {
          "output_type": "execute_result",
          "data": {
            "text/plain": [
              "array([[ 0, 99,  1,  0,  0],\n",
              "       [ 1,  0,  1, 99, 99],\n",
              "       [ 1,  0,  0, 99, 99],\n",
              "       [ 0, 99,  0,  0,  1],\n",
              "       [ 0, 99,  1,  1, 99]])"
            ]
          },
          "metadata": {
            "tags": []
          },
          "execution_count": 138
        }
      ]
    },
    {
      "cell_type": "markdown",
      "metadata": {
        "id": "d9jcXfC2EYWI",
        "colab_type": "text"
      },
      "source": [
        "#Ex2.\n"
      ]
    },
    {
      "cell_type": "code",
      "metadata": {
        "id": "ycYMFb0yEd63",
        "colab_type": "code",
        "outputId": "5c49425c-1f98-4361-93e0-d5fe0e76f5c0",
        "colab": {
          "base_uri": "https://localhost:8080/",
          "height": 187
        }
      },
      "source": [
        "np_matrix = np.random.rand(10,5)\n",
        "np_matrix"
      ],
      "execution_count": 0,
      "outputs": [
        {
          "output_type": "execute_result",
          "data": {
            "text/plain": [
              "array([[0.65825592, 0.02095553, 0.68154957, 0.57096564, 0.54425235],\n",
              "       [0.88975532, 0.13078891, 0.21503802, 0.04553692, 0.60796774],\n",
              "       [0.32739742, 0.4200992 , 0.21139165, 0.57346181, 0.17619834],\n",
              "       [0.495062  , 0.66642125, 0.6647712 , 0.01984852, 0.27275308],\n",
              "       [0.27785301, 0.27798013, 0.36779755, 0.50291167, 0.40340768],\n",
              "       [0.85211678, 0.62213761, 0.2767868 , 0.17990163, 0.94877684],\n",
              "       [0.62535919, 0.31180806, 0.96484287, 0.88761954, 0.68826483],\n",
              "       [0.94787782, 0.41107186, 0.7751073 , 0.97196231, 0.44971486],\n",
              "       [0.83341568, 0.16467656, 0.39383982, 0.92598755, 0.31013285],\n",
              "       [0.79495326, 0.92280253, 0.39237603, 0.85106636, 0.67125072]])"
            ]
          },
          "metadata": {
            "tags": []
          },
          "execution_count": 139
        }
      ]
    },
    {
      "cell_type": "code",
      "metadata": {
        "id": "M0R3bEOOEv0X",
        "colab_type": "code",
        "outputId": "33509709-8400-4415-fde4-253c3af1ccf2",
        "colab": {
          "base_uri": "https://localhost:8080/",
          "height": 34
        }
      },
      "source": [
        "b = np.random.randint(3,size = 10)\n",
        "b"
      ],
      "execution_count": 0,
      "outputs": [
        {
          "output_type": "execute_result",
          "data": {
            "text/plain": [
              "array([1, 2, 2, 1, 2, 2, 2, 1, 2, 1])"
            ]
          },
          "metadata": {
            "tags": []
          },
          "execution_count": 141
        }
      ]
    },
    {
      "cell_type": "code",
      "metadata": {
        "id": "RBofBluVFRTZ",
        "colab_type": "code",
        "outputId": "67f35d35-199b-4fd0-ea26-f6c4b5fd769a",
        "colab": {
          "base_uri": "https://localhost:8080/",
          "height": 34
        }
      },
      "source": [
        "result = np.where(b ==2)\n",
        "result"
      ],
      "execution_count": 0,
      "outputs": [
        {
          "output_type": "execute_result",
          "data": {
            "text/plain": [
              "(array([1, 2, 4, 5, 6, 8]),)"
            ]
          },
          "metadata": {
            "tags": []
          },
          "execution_count": 143
        }
      ]
    },
    {
      "cell_type": "code",
      "metadata": {
        "id": "CUAT_jddFjCa",
        "colab_type": "code",
        "outputId": "0932842c-0905-478a-9beb-ab4ad11c27fa",
        "colab": {
          "base_uri": "https://localhost:8080/",
          "height": 119
        }
      },
      "source": [
        "np_matrix = np_matrix[result]\n",
        "np_matrix"
      ],
      "execution_count": 0,
      "outputs": [
        {
          "output_type": "execute_result",
          "data": {
            "text/plain": [
              "array([[0.88975532, 0.13078891, 0.21503802, 0.04553692, 0.60796774],\n",
              "       [0.32739742, 0.4200992 , 0.21139165, 0.57346181, 0.17619834],\n",
              "       [0.27785301, 0.27798013, 0.36779755, 0.50291167, 0.40340768],\n",
              "       [0.85211678, 0.62213761, 0.2767868 , 0.17990163, 0.94877684],\n",
              "       [0.62535919, 0.31180806, 0.96484287, 0.88761954, 0.68826483],\n",
              "       [0.83341568, 0.16467656, 0.39383982, 0.92598755, 0.31013285]])"
            ]
          },
          "metadata": {
            "tags": []
          },
          "execution_count": 145
        }
      ]
    },
    {
      "cell_type": "markdown",
      "metadata": {
        "id": "u094CX-lhS8O",
        "colab_type": "text"
      },
      "source": [
        "#Ganerate picture Ex3."
      ]
    },
    {
      "cell_type": "code",
      "metadata": {
        "id": "HZzXNAJ5lAfc",
        "colab_type": "code",
        "outputId": "be5d7707-1847-4039-d115-13625427a747",
        "colab": {
          "base_uri": "https://localhost:8080/",
          "height": 282
        }
      },
      "source": [
        "import numpy as np\n",
        "import matplotlib.pyplot as plt\n",
        "x = np.arange(0, 12,0.1)\n",
        "y = np.cos(x)\n",
        "plt.plot(x, y)"
      ],
      "execution_count": 2,
      "outputs": [
        {
          "output_type": "execute_result",
          "data": {
            "text/plain": [
              "[<matplotlib.lines.Line2D at 0x7f8fdb51eb00>]"
            ]
          },
          "metadata": {
            "tags": []
          },
          "execution_count": 2
        },
        {
          "output_type": "display_data",
          "data": {
            "image/png": "[encoded data removed]",
            "text/plain": [
              "<Figure size 432x288 with 1 Axes>"
            ]
          },
          "metadata": {
            "tags": []
          }
        }
      ]
    },
    {
      "cell_type": "markdown",
      "metadata": {
        "id": "t0PP649RlLY6",
        "colab_type": "text"
      },
      "source": [
        "#Ex4."
      ]
    },
    {
      "cell_type": "code",
      "metadata": {
        "id": "7fDcZpEGlN57",
        "colab_type": "code",
        "outputId": "b4772a36-5871-4cad-9470-b21309e80f75",
        "colab": {
          "base_uri": "https://localhost:8080/",
          "height": 34
        }
      },
      "source": [
        "np_test = np.arange(25).reshape(5,5)\n",
        "np_test[np_test%3==0]"
      ],
      "execution_count": 3,
      "outputs": [
        {
          "output_type": "execute_result",
          "data": {
            "text/plain": [
              "array([ 0,  3,  6,  9, 12, 15, 18, 21, 24])"
            ]
          },
          "metadata": {
            "tags": []
          },
          "execution_count": 3
        }
      ]
    },
    {
      "cell_type": "markdown",
      "metadata": {
        "id": "3N0cnu_NoOMB",
        "colab_type": "text"
      },
      "source": [
        "#Ex5."
      ]
    },
    {
      "cell_type": "code",
      "metadata": {
        "id": "lzGtJuN2ocxy",
        "colab_type": "code",
        "outputId": "ad897cb4-86bd-4885-d17b-82c77e6e6bac",
        "colab": {
          "base_uri": "https://localhost:8080/",
          "height": 102
        }
      },
      "source": [
        "np_test = np.arange(25).reshape(5,5)\n",
        "np.fill_diagonal(np_test,0)\n",
        "np_test"
      ],
      "execution_count": 4,
      "outputs": [
        {
          "output_type": "execute_result",
          "data": {
            "text/plain": [
              "array([[ 0,  1,  2,  3,  4],\n",
              "       [ 5,  0,  7,  8,  9],\n",
              "       [10, 11,  0, 13, 14],\n",
              "       [15, 16, 17,  0, 19],\n",
              "       [20, 21, 22, 23,  0]])"
            ]
          },
          "metadata": {
            "tags": []
          },
          "execution_count": 4
        }
      ]
    },
    {
      "cell_type": "markdown",
      "metadata": {
        "id": "Rny3JQ7evVyy",
        "colab_type": "text"
      },
      "source": [
        "#Load Titanic Data\n",
        "from github"
      ]
    },
    {
      "cell_type": "code",
      "metadata": {
        "id": "rN-C3PIjwhDu",
        "colab_type": "code",
        "outputId": "d781d65a-9f2c-4a15-ffc7-b7f7e3cc666f",
        "colab": {
          "base_uri": "https://localhost:8080/",
          "height": 34
        }
      },
      "source": [
        "import numpy as np\n",
        "titanic = np.genfromtxt(\"https://raw.githubusercontent.com/Saranchana/DW/master/TitanicCSV.csv\", delimiter=\";\", missing_values = None, dtype=str)\n",
        "titanic.shape"
      ],
      "execution_count": 5,
      "outputs": [
        {
          "output_type": "execute_result",
          "data": {
            "text/plain": [
              "(1309, 12)"
            ]
          },
          "metadata": {
            "tags": []
          },
          "execution_count": 5
        }
      ]
    },
    {
      "cell_type": "markdown",
      "metadata": {
        "id": "Re59Aq1J5ERK",
        "colab_type": "text"
      },
      "source": [
        "#Remove "
      ]
    },
    {
      "cell_type": "code",
      "metadata": {
        "id": "FQPbGcH8OA7I",
        "colab_type": "code",
        "outputId": "54977b79-9419-4497-be75-888850400099",
        "colab": {
          "base_uri": "https://localhost:8080/",
          "height": 68
        }
      },
      "source": [
        "titanic[0,:]"
      ],
      "execution_count": 6,
      "outputs": [
        {
          "output_type": "execute_result",
          "data": {
            "text/plain": [
              "array(['First', 'Allen, Miss. Elisabeth Walton', 'Female', '29.0', '0',\n",
              "       '0', '24160', '211.3375', 'B5', 'Southampton', '2', 'Yes'],\n",
              "      dtype='<U82')"
            ]
          },
          "metadata": {
            "tags": []
          },
          "execution_count": 6
        }
      ]
    },
    {
      "cell_type": "code",
      "metadata": {
        "id": "2BDyEASbPt4A",
        "colab_type": "code",
        "colab": {}
      },
      "source": [
        "titanic =np.delete(titanic,[1,6,7,8,9,10],1)"
      ],
      "execution_count": 0,
      "outputs": []
    },
    {
      "cell_type": "code",
      "metadata": {
        "id": "kNRZ1x1fP540",
        "colab_type": "code",
        "outputId": "4cdb9c3a-9ad2-4001-827d-667fbd2351f9",
        "colab": {
          "base_uri": "https://localhost:8080/",
          "height": 34
        }
      },
      "source": [
        "titanic[0,:]"
      ],
      "execution_count": 8,
      "outputs": [
        {
          "output_type": "execute_result",
          "data": {
            "text/plain": [
              "array(['First', 'Female', '29.0', '0', '0', 'Yes'], dtype='<U82')"
            ]
          },
          "metadata": {
            "tags": []
          },
          "execution_count": 8
        }
      ]
    },
    {
      "cell_type": "code",
      "metadata": {
        "id": "-xXPFfs8QFLW",
        "colab_type": "code",
        "outputId": "eaf170bc-bbd3-4bf9-8d45-2d5aff92519f",
        "colab": {
          "base_uri": "https://localhost:8080/",
          "height": 34
        }
      },
      "source": [
        "rows,cols = np.where(titanic== None)\n",
        "print(str(len(np.unique(rows)))+ \" \" +str(len(np.unique(cols))))"
      ],
      "execution_count": 9,
      "outputs": [
        {
          "output_type": "stream",
          "text": [
            "0 0\n"
          ],
          "name": "stdout"
        }
      ]
    },
    {
      "cell_type": "code",
      "metadata": {
        "id": "HAlAr9GXQ84s",
        "colab_type": "code",
        "outputId": "5af4340d-d0d8-4275-e472-85247b841872",
        "colab": {
          "base_uri": "https://localhost:8080/",
          "height": 34
        }
      },
      "source": [
        "rows,cols = np.where(titanic== '')\n",
        "print(str(len(np.unique(rows)))+ \" \" +str(len(np.unique(cols))))"
      ],
      "execution_count": 10,
      "outputs": [
        {
          "output_type": "stream",
          "text": [
            "263 1\n"
          ],
          "name": "stdout"
        }
      ]
    },
    {
      "cell_type": "code",
      "metadata": {
        "id": "p28rcG6TREKz",
        "colab_type": "code",
        "outputId": "ab2fdacc-da3f-4535-aa5d-38b5626f18e6",
        "colab": {
          "base_uri": "https://localhost:8080/",
          "height": 34
        }
      },
      "source": [
        "np.unique(cols)"
      ],
      "execution_count": 11,
      "outputs": [
        {
          "output_type": "execute_result",
          "data": {
            "text/plain": [
              "array([2])"
            ]
          },
          "metadata": {
            "tags": []
          },
          "execution_count": 11
        }
      ]
    },
    {
      "cell_type": "code",
      "metadata": {
        "id": "4OAdbW9ZRLGU",
        "colab_type": "code",
        "outputId": "1c9ac9fa-bf8b-48dd-f408-c26e73d9e6ea",
        "colab": {
          "base_uri": "https://localhost:8080/",
          "height": 34
        }
      },
      "source": [
        "titanic= np.delete(titanic,2,1)\n",
        "titanic[0,:]"
      ],
      "execution_count": 12,
      "outputs": [
        {
          "output_type": "execute_result",
          "data": {
            "text/plain": [
              "array(['First', 'Female', '0', '0', 'Yes'], dtype='<U82')"
            ]
          },
          "metadata": {
            "tags": []
          },
          "execution_count": 12
        }
      ]
    },
    {
      "cell_type": "code",
      "metadata": {
        "id": "WRhaWWMYSLJF",
        "colab_type": "code",
        "outputId": "a075f8f7-8044-4c9b-c00a-ae53e204c86d",
        "colab": {
          "base_uri": "https://localhost:8080/",
          "height": 34
        }
      },
      "source": [
        "passenger_class =np.unique(titanic[:,0])\n",
        "passenger_class"
      ],
      "execution_count": 14,
      "outputs": [
        {
          "output_type": "execute_result",
          "data": {
            "text/plain": [
              "array(['First', 'Second', 'Third'], dtype='<U82')"
            ]
          },
          "metadata": {
            "tags": []
          },
          "execution_count": 14
        }
      ]
    },
    {
      "cell_type": "code",
      "metadata": {
        "id": "4WfCDQd_wkE0",
        "colab_type": "code",
        "outputId": "afe14a86-066f-4a5b-d864-ea6db4172337",
        "colab": {
          "base_uri": "https://localhost:8080/",
          "height": 34
        }
      },
      "source": [
        "passenger_class_value = [sum (titanic[:,0] == passenger_class[0]),\n",
        "                         sum (titanic[:,0] == passenger_class[1]),\n",
        "                         sum (titanic[:,0] == passenger_class[2])]\n",
        "passenger_class_value"
      ],
      "execution_count": 19,
      "outputs": [
        {
          "output_type": "execute_result",
          "data": {
            "text/plain": [
              "[323, 277, 709]"
            ]
          },
          "metadata": {
            "tags": []
          },
          "execution_count": 19
        }
      ]
    },
    {
      "cell_type": "markdown",
      "metadata": {
        "id": "-T6Mvx-w65LY",
        "colab_type": "text"
      },
      "source": [
        "#Ex6."
      ]
    },
    {
      "cell_type": "code",
      "metadata": {
        "id": "DGX1ufUIwwT0",
        "colab_type": "code",
        "colab": {}
      },
      "source": [
        "passenger_sex = np.unique(titanic[:,1])\n",
        "sex_value = [sum(titanic[:,1] == passenger_sex[0]), sum (titanic[:,1] == passenger_sex[1])]"
      ],
      "execution_count": 0,
      "outputs": []
    },
    {
      "cell_type": "code",
      "metadata": {
        "id": "_1iI83fuwzQV",
        "colab_type": "code",
        "colab": {}
      },
      "source": [
        "passenger_survived = np.unique(titanic[:,4])\n",
        "survived_value= [sum(titanic[:,4] == passenger_survived[0]), sum (titanic[:,4] == passenger_survived[1])]"
      ],
      "execution_count": 0,
      "outputs": []
    },
    {
      "cell_type": "code",
      "metadata": {
        "id": "dRSwNONvLV4i",
        "colab_type": "code",
        "outputId": "ee824c0f-869b-477a-c7f9-3fe5765326e9",
        "colab": {
          "base_uri": "https://localhost:8080/",
          "height": 211
        }
      },
      "source": [
        "import matplotlib.pyplot as plt\n",
        "fig, axes = plt.subplots(1,2, figsize=(8,3))\n",
        "axes[0].bar(passenger_sex,sex_value)\n",
        "axes[1].bar(passenger_survived,survived_value)\n",
        "plt.show()\n"
      ],
      "execution_count": 26,
      "outputs": [
        {
          "output_type": "display_data",
          "data": {
            "image/png": "[encoded data removed]",
            "text/plain": [
              "<Figure size 576x216 with 2 Axes>"
            ]
          },
          "metadata": {
            "tags": []
          }
        }
      ]
    },
    {
      "cell_type": "markdown",
      "metadata": {
        "id": "cigBYsJCIvzt",
        "colab_type": "text"
      },
      "source": [
        "# String to Numerical & Label Encoder\n"
      ]
    },
    {
      "cell_type": "code",
      "metadata": {
        "id": "CKbhcVfHOPIv",
        "colab_type": "code",
        "outputId": "f35f878c-0bb3-4bd8-cd0c-b303239a5943",
        "colab": {
          "base_uri": "https://localhost:8080/",
          "height": 136
        }
      },
      "source": [
        "titanic[titanic == passenger_class[0]] =0\n",
        "titanic[titanic == passenger_class[1]] =1\n",
        "titanic[titanic == passenger_class[2]] =2\n",
        "titanic[titanic == passenger_sex[0]] =0\n",
        "titanic[titanic == passenger_sex[1]] =1\n",
        "titanic[titanic == passenger_survived[0]] =0\n",
        "titanic[titanic == passenger_survived[1]] =1\n",
        "titanic"
      ],
      "execution_count": 27,
      "outputs": [
        {
          "output_type": "execute_result",
          "data": {
            "text/plain": [
              "array([['0', '0', '0', '0', '1'],\n",
              "       ['0', '1', '1', '2', '1'],\n",
              "       ['0', '0', '1', '2', '0'],\n",
              "       ...,\n",
              "       ['2', '1', '0', '0', '0'],\n",
              "       ['2', '1', '0', '0', '0'],\n",
              "       ['2', '1', '0', '0', '0']], dtype='<U82')"
            ]
          },
          "metadata": {
            "tags": []
          },
          "execution_count": 27
        }
      ]
    },
    {
      "cell_type": "markdown",
      "metadata": {
        "id": "KasvW42S0WKO",
        "colab_type": "text"
      },
      "source": [
        "#Separate Data & Label"
      ]
    },
    {
      "cell_type": "code",
      "metadata": {
        "id": "Veh7haoY0a8S",
        "colab_type": "code",
        "outputId": "834d0643-11cb-4df6-ef57-1e296e62a5c7",
        "colab": {
          "base_uri": "https://localhost:8080/",
          "height": 34
        }
      },
      "source": [
        "titanic = titanic.astype('float')\n",
        "titanic.dtype"
      ],
      "execution_count": 28,
      "outputs": [
        {
          "output_type": "execute_result",
          "data": {
            "text/plain": [
              "dtype('float64')"
            ]
          },
          "metadata": {
            "tags": []
          },
          "execution_count": 28
        }
      ]
    },
    {
      "cell_type": "code",
      "metadata": {
        "id": "M8zIZhYJ0j5f",
        "colab_type": "code",
        "outputId": "6eeacb24-a7da-4819-a698-10dc14f2c712",
        "colab": {
          "base_uri": "https://localhost:8080/",
          "height": 34
        }
      },
      "source": [
        "y = titanic[:,-1]\n",
        "x = np.delete(titanic,-1,1)\n",
        "x.shape"
      ],
      "execution_count": 29,
      "outputs": [
        {
          "output_type": "execute_result",
          "data": {
            "text/plain": [
              "(1309, 4)"
            ]
          },
          "metadata": {
            "tags": []
          },
          "execution_count": 29
        }
      ]
    },
    {
      "cell_type": "markdown",
      "metadata": {
        "id": "tOCff2Io0z2c",
        "colab_type": "text"
      },
      "source": [
        "# Ex.7 Normalization"
      ]
    },
    {
      "cell_type": "code",
      "metadata": {
        "id": "h5HqcDPL05ID",
        "colab_type": "code",
        "outputId": "c9ae1032-bb8a-4075-c2c9-d1b87238ab2c",
        "colab": {
          "base_uri": "https://localhost:8080/",
          "height": 136
        }
      },
      "source": [
        "x_norm = (x-np.min(x,0)) / (np.max(x,0)- np.min(x,0))\n",
        "x_norm"
      ],
      "execution_count": 30,
      "outputs": [
        {
          "output_type": "execute_result",
          "data": {
            "text/plain": [
              "array([[0.        , 0.        , 0.        , 0.        ],\n",
              "       [0.        , 1.        , 0.125     , 0.22222222],\n",
              "       [0.        , 0.        , 0.125     , 0.22222222],\n",
              "       ...,\n",
              "       [1.        , 1.        , 0.        , 0.        ],\n",
              "       [1.        , 1.        , 0.        , 0.        ],\n",
              "       [1.        , 1.        , 0.        , 0.        ]])"
            ]
          },
          "metadata": {
            "tags": []
          },
          "execution_count": 30
        }
      ]
    },
    {
      "cell_type": "markdown",
      "metadata": {
        "id": "CswJwtzZoHxb",
        "colab_type": "text"
      },
      "source": [
        "#EX.8 Train & Test Split"
      ]
    },
    {
      "cell_type": "markdown",
      "metadata": {
        "id": "byd2ZArVotRK",
        "colab_type": "text"
      },
      "source": [
        "![image.png](data:image/png;base64,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)"
      ]
    },
    {
      "cell_type": "code",
      "metadata": {
        "id": "9aB3y8K8o1oJ",
        "colab_type": "code",
        "colab": {
          "base_uri": "https://localhost:8080/",
          "height": 34
        },
        "outputId": "c0df7861-65c5-4846-cdd0-fb5b58693112"
      },
      "source": [
        "import numpy as np\n",
        "train_index = np.random.rand(1000)>0.3\n",
        "sum(train_index)"
      ],
      "execution_count": 36,
      "outputs": [
        {
          "output_type": "execute_result",
          "data": {
            "text/plain": [
              "718"
            ]
          },
          "metadata": {
            "tags": []
          },
          "execution_count": 36
        }
      ]
    },
    {
      "cell_type": "code",
      "metadata": {
        "id": "fk9hEfTtqKvI",
        "colab_type": "code",
        "colab": {
          "base_uri": "https://localhost:8080/",
          "height": 34
        },
        "outputId": "b5fed324-f31b-4208-c543-545ea419c52d"
      },
      "source": [
        "test_index = train_index == False\n",
        "sum(test_index)"
      ],
      "execution_count": 37,
      "outputs": [
        {
          "output_type": "execute_result",
          "data": {
            "text/plain": [
              "282"
            ]
          },
          "metadata": {
            "tags": []
          },
          "execution_count": 37
        }
      ]
    },
    {
      "cell_type": "code",
      "metadata": {
        "id": "QXixcyJcrY3_",
        "colab_type": "code",
        "colab": {}
      },
      "source": [
        "y = titanic[:,-1]\n",
        "x= titanic[0:5,:]\n",
        "x_train =x\n"
      ],
      "execution_count": 0,
      "outputs": []
    },
    {
      "cell_type": "code",
      "metadata": {
        "id": "tYP8ZqbssIa_",
        "colab_type": "code",
        "colab": {
          "base_uri": "https://localhost:8080/",
          "height": 34
        },
        "outputId": "57ac1eea-1b91-482d-ea1f-e644f99819b0"
      },
      "source": [
        "print(\"Number of class 0 = \"+str(len(y) - sum(y))+ \" and class 1 =\" +str(sum(y)))"
      ],
      "execution_count": 42,
      "outputs": [
        {
          "output_type": "stream",
          "text": [
            "Number of class 0 = 809.0 and class 1 =500.0\n"
          ],
          "name": "stdout"
        }
      ]
    }
  ]
}